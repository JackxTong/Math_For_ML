{
  "cells": [
    {
      "cell_type": "markdown",
      "metadata": {
        "id": "idfDbdst8Tnq"
      },
      "source": [
        "# Goal of the tutorial\n",
        "\n",
        "*   Understand convolutional layers\n",
        "*   Implement a convolutional neural network using Pytorch\n",
        "*   Understand what a network leanrs through data reconstruction\n",
        "*   Understand residual blocks and implement a residual neural network (ResNet)"
      ]
    },
    {
      "cell_type": "markdown",
      "metadata": {
        "id": "2ffb8600"
      },
      "source": [
        "# Loading the libraries and dataset"
      ]
    },
    {
      "cell_type": "code",
      "execution_count": 1,
      "metadata": {
        "id": "f35648e3"
      },
      "outputs": [],
      "source": [
        "# Let's load the usual libraries\n",
        "import numpy as np\n",
        "import torch\n",
        "import torchvision\n",
        "import torchvision.transforms as transforms\n",
        "import matplotlib.pyplot as plt\n",
        "import torch.nn as nn\n",
        "import torch.nn.functional as F\n",
        "import torch.optim as optim\n",
        "import torchinfo\n",
        "\n",
        "\n",
        "device_name = \"cpu\"\n",
        "if torch.cuda.is_available():\n",
        "    device_name = \"cuda:0\"\n",
        "elif torch.mps.is_available():\n",
        "    device_name = \"mps\"\n",
        "device = torch.device(device_name)"
      ]
    },
    {
      "cell_type": "markdown",
      "metadata": {
        "id": "ba2c32e2"
      },
      "source": [
        "For this tutorial, we will use the CIFAR10 dataset. It has the classes: ‘airplane’, ‘automobile’, ‘bird’, ‘cat’, ‘deer’, ‘dog’, ‘frog’, ‘horse’, ‘ship’, ‘truck’. Each class is of size 6000. The images in CIFAR-10 are of size 3x32x32, i.e. 3-channel color images (red, green and blue) of 32x32 pixels in size. Let's load it."
      ]
    },
    {
      "cell_type": "code",
      "execution_count": 2,
      "metadata": {
        "colab": {
          "base_uri": "https://localhost:8080/"
        },
        "id": "0200f8ca",
        "outputId": "9b622821-f48f-4ba3-ffd9-368134271dc1"
      },
      "outputs": [
        {
          "name": "stdout",
          "output_type": "stream",
          "text": [
            "Downloading https://www.cs.toronto.edu/~kriz/cifar-10-python.tar.gz to ./data/cifar-10-python.tar.gz\n"
          ]
        },
        {
          "name": "stderr",
          "output_type": "stream",
          "text": [
            "100%|██████████| 170498071/170498071 [00:05<00:00, 29897799.45it/s]\n"
          ]
        },
        {
          "name": "stdout",
          "output_type": "stream",
          "text": [
            "Extracting ./data/cifar-10-python.tar.gz to ./data\n"
          ]
        },
        {
          "name": "stderr",
          "output_type": "stream",
          "text": [
            "/usr/lib64/python3.9/tarfile.py:2268: RuntimeWarning: The default behavior of tarfile extraction has been changed to disallow common exploits (including CVE-2007-4559). By default, absolute/parent paths are disallowed and some mode bits are cleared. See https://access.redhat.com/articles/7004769 for more details.\n",
            "  warnings.warn(\n"
          ]
        },
        {
          "name": "stdout",
          "output_type": "stream",
          "text": [
            "Files already downloaded and verified\n"
          ]
        }
      ],
      "source": [
        "transform = transforms.Compose(\n",
        "    [transforms.ToTensor(),\n",
        "     transforms.Normalize((0.5, 0.5, 0.5), (0.5, 0.5, 0.5))])\n",
        "\n",
        "batch_size = 128\n",
        "\n",
        "trainset = torchvision.datasets.CIFAR10(root='./data', train=True,\n",
        "                                        download=True, transform=transform)\n",
        "trainloader = torch.utils.data.DataLoader(trainset, batch_size=batch_size,\n",
        "                                          shuffle=True, num_workers=0)\n",
        "\n",
        "testset = torchvision.datasets.CIFAR10(root='./data', train=False,\n",
        "                                       download=True, transform=transform)\n",
        "testloader = torch.utils.data.DataLoader(testset, batch_size=batch_size,\n",
        "                                         shuffle=False, num_workers=0)\n",
        "\n",
        "classes = ('plane', 'car', 'bird', 'cat',\n",
        "           'deer', 'dog', 'frog', 'horse', 'ship', 'truck')"
      ]
    },
    {
      "cell_type": "markdown",
      "metadata": {
        "id": "q02iGheK-FDx"
      },
      "source": [
        "Let's visualise one of the images in the dataset."
      ]
    },
    {
      "cell_type": "code",
      "execution_count": 3,
      "metadata": {
        "colab": {
          "base_uri": "https://localhost:8080/",
          "height": 452
        },
        "id": "LuTUIFjF1D9A",
        "outputId": "38d0320e-3a1f-4f2c-c7eb-0aa453ec07a1"
      },
      "outputs": [
        {
          "data": {
            "image/png": "[encoded data removed]",
            "text/plain": [
              "<Figure size 640x480 with 1 Axes>"
            ]
          },
          "metadata": {},
          "output_type": "display_data"
        }
      ],
      "source": [
        "# get some random training images; this will load a set of images of size batchsize\n",
        "dataiter = iter(trainloader)\n",
        "images, labels = next(dataiter)\n",
        "img = images[0] # take just the first image; the above thing is an array of images of size batchsize\n",
        "img = img / 2 + 0.5     # unnormalize\n",
        "\n",
        "# Print the original image\n",
        "npimg = img.numpy() # translate to numpy\n",
        "npimg_t = np.transpose(npimg, (1, 2, 0))\n",
        "plt.imshow(npimg_t)\n",
        "plt.title(str(classes[labels[0]]))\n",
        "plt.show()"
      ]
    },
    {
      "cell_type": "markdown",
      "metadata": {
        "id": "0fec32da"
      },
      "source": [
        "# Implementing a Convolutional Neural Network"
      ]
    },
    {
      "cell_type": "markdown",
      "metadata": {
        "id": "mZx9h8xuB2mx"
      },
      "source": [
        "Let's begin by understanding convolutional layers, which perform transformations of our original images through local weighted averages. \n",
        "\n",
        "We will use the Pytorch conv2d function (https://pytorch.org/docs/stable/generated/torch.nn.Conv2d.html) to implement these. It has the following arguments:\n",
        "- in_channels: the number of channels of the input (e.g. a colored image has 3 channels for red, green and blue)\n",
        "- out_channels: the number of channels we want the output to have (i.e. how many times we apply different kernels)\n",
        "- kernel_size: the size of the filter\n",
        "- stride: number of rows/columns traversed every time the filter is applied\n",
        "- padding: size of extra pixels added at edge of image\n",
        "\n",
        "It has some other parameters of which we will use the default modes (and hence we don't specify them):\n",
        "bias = True, dilation = 1.\n",
        "\n",
        "If we have an input $I$ of size $[N, C_{in}, H, W]$, where $N$ is the number of images passed through the layer, $C_{in}$ is the number of channels each image has, and $H$ and $W$ are the height and width of the image, respectively.\n",
        "The output is then computed as,\n",
        "$$\n",
        "O[N_n, C_{out_j}, :, :] = b[C_{out_j}] + \\sum_{i=0}^{C_{in}-1} w[C_{out_j},i]*I[N_n, i, :, :].\n",
        "$$\n",
        "\n",
        "When implementing convolutional layers, it is useful to keep track of the size (height and width) of the images outputted in each layer. In the CIFAR10 dataset we use square images, so height=width.\n",
        "\n",
        "Let us define the following:\n",
        "\n",
        "\n",
        "*   $n_{in}$: height (or width) of input image\n",
        "*   $k$: size of kernel\n",
        "*   $p$: size of padding\n",
        "*   $s$: size of stride\n",
        "\n",
        "\n",
        "The height of the output image will be given by\n",
        "$$\n",
        "n_{out} = \\left \\lfloor \\frac{n_{in} + 2p - k}{s} \\right \\rfloor + 1,\n",
        "$$\n",
        "\n",
        "where $\\lfloor \\cdot \\rfloor$ is the floor function.\n",
        "\n",
        "In-between conv2d layers we can apply an activation function (e.g. ReLU), batchnorm and pooling layers. Pooling layers apply an operation within a window of pixels defined by a size and a stride.\n",
        "\n",
        "We can now define the structure of our convolutional neural network. The first part of the network will involve convolutional layers, and the second part will be made up of fully connected layers. Assume we have an input image $x$ of size $3 \\times 32 \\times 32$ (number of channels and image dimensions). We will use the following:\n",
        "1. The input goes into a convolutional layer (3 input channels, 6 output channels, kernel of size 5x5, stride 1, padding 1), followed by a ReLU activation and maxpool layer (size 2, stride 2)\n",
        "2. The output from the previous operation goes into another convolutional layer (6 input channels, 16 output channels, kernel of size 5x5, stride 2, padding 1) followed by ReLU\n",
        "3. Then add a flatten layer to flatten all dimensions except the first one: x = torch.flatten(x, 1)\n",
        "4. Then there will be two linear layer + ReLU's and a final linear layer.\n",
        "\n",
        "\n"
      ]
    },
    {
      "cell_type": "code",
      "execution_count": 4,
      "metadata": {
        "id": "IseWyw_BbaTu"
      },
      "outputs": [],
      "source": [
        "class Net(nn.Module):\n",
        "    # in the init function we will just define several layers that we can later use\n",
        "    def __init__(self):\n",
        "        super().__init__()\n",
        "\n",
        "        self.conv1 = nn.Conv2d(in_channels=3, out_channels=6, kernel_size=5, stride=1, padding=1) # convolutional layer\n",
        "        # what is the size of the object after the above convolution? original image is 32x32; after convolution\n",
        "        # it will be floor((32 + 2*1 - 5)/1) + 1 = 30 -> 30x30\n",
        "\n",
        "        # a pooling layer: it 'pools' together 2x2 of the inputs by keeping only the maximum value\n",
        "        # and uses a stride of 2\n",
        "        self.pool = nn.MaxPool2d(2, stride=2)\n",
        "        # after pooling size is 15x15 (see: https://pytorch.org/docs/stable/generated/torch.nn.MaxPool2d.html)\n",
        "\n",
        "        self.conv2 = nn.Conv2d(in_channels=6, out_channels=16, kernel_size=5, stride=2, padding=1) # convolutional layer\n",
        "        # size after convolution: floor((15 + 2*1 - 5)/2) + 1 = 7 -> 7x7\n",
        "\n",
        "        self.fc1 = nn.Linear(16 * 7 * 7, 512)\n",
        "        self.fc2 = nn.Linear(512, 128)\n",
        "        self.fc3 = nn.Linear(128, 10)\n",
        "\n",
        "    # here we define the forward pass, i.e. how our input x is modified as it moves through the network\n",
        "    def forward(self, x):\n",
        "        x = self.pool(F.relu(self.conv1(x))) # size after operation: 15x15\n",
        "        x = F.relu(self.conv2(x)) # size after operation: 7x7\n",
        "        x = torch.flatten(x, 1) # flatten all dimensions except batch; size is 16*7*7\n",
        "        x = F.relu(self.fc1(x))\n",
        "        x = F.relu(self.fc2(x))\n",
        "        x = self.fc3(x)\n",
        "        return x\n",
        "\n",
        "net = Net()"
      ]
    },
    {
      "cell_type": "code",
      "execution_count": 5,
      "metadata": {},
      "outputs": [
        {
          "data": {
            "text/plain": [
              "===================================================================================================================\n",
              "Layer (type:depth-idx)                   Input Shape               Output Shape              Param #\n",
              "===================================================================================================================\n",
              "Net                                      [128, 3, 32, 32]          [128, 10]                 --\n",
              "├─Conv2d: 1-1                            [128, 3, 32, 32]          [128, 6, 30, 30]          456\n",
              "├─MaxPool2d: 1-2                         [128, 6, 30, 30]          [128, 6, 15, 15]          --\n",
              "├─Conv2d: 1-3                            [128, 6, 15, 15]          [128, 16, 7, 7]           2,416\n",
              "├─Linear: 1-4                            [128, 784]                [128, 512]                401,920\n",
              "├─Linear: 1-5                            [128, 512]                [128, 128]                65,664\n",
              "├─Linear: 1-6                            [128, 128]                [128, 10]                 1,290\n",
              "===================================================================================================================\n",
              "Total params: 471,746\n",
              "Trainable params: 471,746\n",
              "Non-trainable params: 0\n",
              "Total mult-adds (M): 127.70\n",
              "===================================================================================================================\n",
              "Input size (MB): 1.57\n",
              "Forward/backward pass size (MB): 7.00\n",
              "Params size (MB): 1.89\n",
              "Estimated Total Size (MB): 10.46\n",
              "==================================================================================================================="
            ]
          },
          "execution_count": 5,
          "metadata": {},
          "output_type": "execute_result"
        }
      ],
      "source": [
        "torchinfo.summary(net, input_size=(batch_size, 3, 32, 32), col_names=(\"input_size\", \"output_size\", \"num_params\"))\n",
        "\n"
      ]
    },
    {
      "cell_type": "markdown",
      "metadata": {
        "id": "LrhLaaJNpVJd"
      },
      "source": [
        "Let's write a training function:"
      ]
    },
    {
      "cell_type": "code",
      "execution_count": 6,
      "metadata": {
        "id": "k9GyXliLpYLD"
      },
      "outputs": [],
      "source": [
        "def train(model, nr_epochs, optimizer, criterion):\n",
        "    losses = [] # store the losses\n",
        "\n",
        "    for epoch in range(0, nr_epochs):\n",
        "        print(f'Epoch {epoch}')\n",
        "        for i, data in enumerate(trainloader, 0):\n",
        "            # get the inputs; data is a list of [inputs, labels]\n",
        "            images, labels = data\n",
        "            images, labels = images.to(device), labels.to(device)\n",
        "            # zero the parameter gradients\n",
        "            optimizer.zero_grad()\n",
        "            # Compute the output for all the images in the batch_size; remember we set a batch_size of 10 in the beginning!\n",
        "            outputs = model(images)\n",
        "            # Compute the loss value\n",
        "            loss = criterion(outputs, labels)\n",
        "            # Compute the gradients\n",
        "            loss.backward()\n",
        "            # Take the optimisation step\n",
        "            optimizer.step()\n",
        "\n",
        "            # print statistics\n",
        "            losses += [loss.item()]\n",
        "            if i % 100 == 0:    # print every 1000 iterations\n",
        "                print(i, loss.item())\n",
        "\n",
        "    print('Finished Training')"
      ]
    },
    {
      "cell_type": "code",
      "execution_count": 7,
      "metadata": {
        "colab": {
          "base_uri": "https://localhost:8080/"
        },
        "id": "iOJzLfIRp1gb",
        "outputId": "39d532a2-544d-449a-8b70-5f586f77ff08"
      },
      "outputs": [
        {
          "name": "stdout",
          "output_type": "stream",
          "text": [
            "Epoch 0\n",
            "0 2.3009867668151855\n",
            "100 2.224363088607788\n",
            "200 1.9593781232833862\n",
            "300 1.7758830785751343\n",
            "Epoch 1\n",
            "0 1.6016229391098022\n",
            "100 1.56843900680542\n",
            "200 1.5305054187774658\n",
            "300 1.5729308128356934\n",
            "Epoch 2\n",
            "0 1.4895622730255127\n",
            "100 1.3472107648849487\n",
            "200 1.2788869142532349\n",
            "300 1.3321539163589478\n",
            "Epoch 3\n",
            "0 1.1871355772018433\n",
            "100 1.2735275030136108\n",
            "200 1.097988247871399\n",
            "300 1.2078078985214233\n",
            "Epoch 4\n",
            "0 1.0072951316833496\n",
            "100 1.0627989768981934\n",
            "200 1.1861894130706787\n",
            "300 1.1921172142028809\n",
            "Epoch 5\n",
            "0 0.9604016542434692\n",
            "100 1.0670733451843262\n",
            "200 1.0282188653945923\n",
            "300 0.9739519953727722\n",
            "Epoch 6\n",
            "0 0.94838947057724\n",
            "100 0.9924362897872925\n",
            "200 0.8986802697181702\n",
            "300 1.0272890329360962\n",
            "Epoch 7\n",
            "0 0.9586598873138428\n",
            "100 0.6578535437583923\n",
            "200 0.908334493637085\n",
            "300 0.8986325860023499\n",
            "Epoch 8\n",
            "0 0.6714630722999573\n",
            "100 0.7287290096282959\n",
            "200 0.6898086667060852\n",
            "300 0.7563299536705017\n",
            "Epoch 9\n",
            "0 0.5714941024780273\n",
            "100 0.5303376913070679\n",
            "200 0.660785973072052\n",
            "300 0.5026279091835022\n",
            "Epoch 10\n",
            "0 0.41793859004974365\n",
            "100 0.685153067111969\n",
            "200 0.4816020429134369\n",
            "300 0.6058242321014404\n",
            "Epoch 11\n",
            "0 0.39153069257736206\n",
            "100 0.37323322892189026\n",
            "200 0.4258507788181305\n",
            "300 0.5136319398880005\n",
            "Epoch 12\n",
            "0 0.3025211691856384\n",
            "100 0.219271719455719\n",
            "200 0.3615821897983551\n",
            "300 0.36882543563842773\n",
            "Epoch 13\n",
            "0 0.2886055111885071\n",
            "100 0.3223104774951935\n",
            "200 0.2581265866756439\n",
            "300 0.33158746361732483\n",
            "Epoch 14\n",
            "0 0.1543085128068924\n",
            "100 0.22453121840953827\n",
            "200 0.28192999958992004\n",
            "300 0.21371722221374512\n",
            "Epoch 15\n",
            "0 0.1657826006412506\n",
            "100 0.20111367106437683\n",
            "200 0.2022087126970291\n",
            "300 0.20548951625823975\n",
            "Epoch 16\n",
            "0 0.2000938504934311\n",
            "100 0.1564045399427414\n",
            "200 0.13762976229190826\n",
            "300 0.2416270524263382\n",
            "Epoch 17\n",
            "0 0.13149493932724\n",
            "100 0.23278506100177765\n",
            "200 0.16313305497169495\n",
            "300 0.14960195124149323\n",
            "Epoch 18\n",
            "0 0.17252354323863983\n",
            "100 0.11560329794883728\n",
            "200 0.20888960361480713\n",
            "300 0.0681794062256813\n",
            "Epoch 19\n",
            "0 0.11739565432071686\n",
            "100 0.08261537551879883\n",
            "200 0.1133299395442009\n",
            "300 0.11721067875623703\n",
            "Finished Training\n"
          ]
        }
      ],
      "source": [
        "net = net.to(device)\n",
        "train(model=net, nr_epochs=20, optimizer=optim.SGD(net.parameters(), lr=0.01, momentum=0.9), criterion=nn.CrossEntropyLoss())"
      ]
    },
    {
      "cell_type": "markdown",
      "metadata": {
        "id": "7W4rg89wknhD"
      },
      "source": [
        "We can now evaluate the model on test data."
      ]
    },
    {
      "cell_type": "code",
      "execution_count": 8,
      "metadata": {
        "id": "UZK0ly3PtP99"
      },
      "outputs": [],
      "source": [
        "def accuracy(model):\n",
        "    correct = 0\n",
        "    total = 0\n",
        "    # since we're not training, we don't need to calculate the gradients for our outputs; therefore there\n",
        "    # is no need to store the computational graph in between\n",
        "    with torch.no_grad():\n",
        "        for data in testloader: #iterate over all the test images\n",
        "            images, labels = data\n",
        "            images, labels = images.to(device), labels.to(device)\n",
        "            # calculate outputs by running images through the network\n",
        "            outputs = model(images)\n",
        "            # the class with the highest energy is what we choose as prediction\n",
        "            _, predicted = torch.max(outputs.data, 1)\n",
        "            # compute the total number of images processed by adding the number of images in each batch\n",
        "            total += labels.size(0)\n",
        "            correct += (predicted == labels).sum().item()\n",
        "\n",
        "    print(f'Accuracy of the network on the test images: {100 * correct // total} %')"
      ]
    },
    {
      "cell_type": "code",
      "execution_count": 9,
      "metadata": {
        "colab": {
          "base_uri": "https://localhost:8080/"
        },
        "id": "0qTe30HUt071",
        "outputId": "134e0107-e370-454c-8816-087ca65aab5a"
      },
      "outputs": [
        {
          "name": "stdout",
          "output_type": "stream",
          "text": [
            "Accuracy of the network on the test images: 63 %\n"
          ]
        }
      ],
      "source": [
        "accuracy(net)"
      ]
    },
    {
      "cell_type": "markdown",
      "metadata": {
        "id": "TgDbosl6qkI0"
      },
      "source": [
        "## Task: implement your own Convolutional Neural Network\n",
        "\n",
        "Change the architecture, number of batches (we defined this when we loaded the data in one of the first cells) and number of epochs to see how this changes what the network has learned.\n",
        "\n",
        "Remember: machine learning is quite tricky with lots of hyperparameter tuning required. A large part of the job is trying to find the right combinations of parameters that work."
      ]
    },
    {
      "cell_type": "markdown",
      "metadata": {
        "id": "bc94f610"
      },
      "source": [
        "# Understanding what our network has learned"
      ]
    },
    {
      "cell_type": "markdown",
      "metadata": {
        "id": "ZeW1gH-U9BwC"
      },
      "source": [
        "For this part, we will use the following larger model:"
      ]
    },
    {
      "cell_type": "code",
      "execution_count": 10,
      "metadata": {
        "id": "y5bLsFLl9I6B"
      },
      "outputs": [],
      "source": [
        "class Net(nn.Module):\n",
        "    # in the init function we will just define several layers that we can later use\n",
        "    def __init__(self):\n",
        "        super().__init__()\n",
        "        #parameters: in_channels, out_channels, kernel_size\n",
        "        self.conv1 = nn.Conv2d(3, 64, 3)\n",
        "        self.conv2 = nn.Conv2d(64, 128, 3)\n",
        "        self.conv3 = nn.Conv2d(128, 256, 3)\n",
        "        self.conv4 = nn.Conv2d(256, 256, 3)\n",
        "        self.pool = nn.MaxPool2d(2, stride=2)\n",
        "        self.fc1 = nn.Linear(1024, 120)\n",
        "        self.fc2 = nn.Linear(120, 84)\n",
        "        self.fc3 = nn.Linear(84, 10)\n",
        "\n",
        "    # here we define the forward pass, i.e. how our input x is modified as it moves through the network\n",
        "    def forward(self, x):\n",
        "        x = self.pool(F.relu(self.conv1(x)))\n",
        "        x = self.pool(F.relu(self.conv2(x)))\n",
        "        x = F.relu(self.conv3(x))\n",
        "        x = F.relu(self.conv4(x))\n",
        "        x = torch.flatten(x, 1)\n",
        "        x = F.relu(self.fc1(x))\n",
        "        x = F.relu(self.fc2(x))\n",
        "        x = self.fc3(x)\n",
        "        return x\n",
        "\n",
        "    # let's also define a method to access a layer of choice's output; we will use this later\n",
        "    def forward_partial(self, x):\n",
        "        x = self.pool(F.relu(self.conv1(x)))\n",
        "        x = self.pool(F.relu(self.conv2(x)))\n",
        "        return x # you can change the partial forward pass to obtain arbitrary layers' output"
      ]
    },
    {
      "cell_type": "markdown",
      "metadata": {
        "id": "W-wUIQO-Q35Z"
      },
      "source": [
        "Let's train the model."
      ]
    },
    {
      "cell_type": "code",
      "execution_count": 11,
      "metadata": {
        "colab": {
          "base_uri": "https://localhost:8080/"
        },
        "id": "BgOWacMG9kkZ",
        "outputId": "4a579756-363e-4dc7-b743-0ae601e55e89"
      },
      "outputs": [
        {
          "name": "stdout",
          "output_type": "stream",
          "text": [
            "Epoch 0\n",
            "0 2.298322916030884\n",
            "100 2.3035573959350586\n",
            "200 2.290168046951294\n",
            "300 2.122990846633911\n",
            "Epoch 1\n",
            "0 1.897130012512207\n",
            "100 1.6440860033035278\n",
            "200 1.688292145729065\n",
            "300 1.5840063095092773\n",
            "Epoch 2\n",
            "0 1.4870740175247192\n",
            "100 1.4278066158294678\n",
            "200 1.4982880353927612\n",
            "300 1.2603238821029663\n",
            "Epoch 3\n",
            "0 1.4277278184890747\n",
            "100 1.186253547668457\n",
            "200 1.159371256828308\n",
            "300 1.2432591915130615\n",
            "Epoch 4\n",
            "0 1.115937352180481\n",
            "100 0.9499463438987732\n",
            "200 0.9480065703392029\n",
            "300 0.8886412382125854\n",
            "Epoch 5\n",
            "0 0.8350347280502319\n",
            "100 0.9088054299354553\n",
            "200 0.9500340819358826\n",
            "300 0.7461588382720947\n",
            "Epoch 6\n",
            "0 0.8190803527832031\n",
            "100 0.9242278933525085\n",
            "200 0.8112178444862366\n",
            "300 0.7543962597846985\n",
            "Epoch 7\n",
            "0 0.650981068611145\n",
            "100 0.6813156604766846\n",
            "200 0.6527263522148132\n",
            "300 0.7878912091255188\n",
            "Epoch 8\n",
            "0 0.6016806960105896\n",
            "100 0.5635620355606079\n",
            "200 0.5385881662368774\n",
            "300 0.5976293087005615\n",
            "Epoch 9\n",
            "0 0.6536164879798889\n",
            "100 0.4677425026893616\n",
            "200 0.6647438406944275\n",
            "300 0.4804266095161438\n",
            "Finished Training\n"
          ]
        }
      ],
      "source": [
        "net = Net()\n",
        "net = net.to(device)\n",
        "train(model=net, nr_epochs=10, optimizer=optim.SGD(net.parameters(), lr=0.01, momentum=0.9), criterion=nn.CrossEntropyLoss())\n"
      ]
    },
    {
      "cell_type": "code",
      "execution_count": 12,
      "metadata": {},
      "outputs": [
        {
          "name": "stdout",
          "output_type": "stream",
          "text": [
            "Accuracy of the network on the test images: 73 %\n"
          ]
        }
      ],
      "source": [
        "accuracy(net)"
      ]
    },
    {
      "cell_type": "code",
      "execution_count": null,
      "metadata": {},
      "outputs": [],
      "source": []
    },
    {
      "cell_type": "markdown",
      "metadata": {
        "id": "abec05a6"
      },
      "source": [
        "Now, we would like to understand what the network has actually learned. The work in: https://ai.googleblog.com/2015/06/inceptionism-going-deeper-into-neural.html does something similar, so check it out if you're interested.\n",
        "\n",
        "Consider that we pass a certain image $\\tilde x$ through the network and get the output $z^n$ from the neural network.\n",
        "\n",
        "Based on that output we would like to reconstruct the input to better understand how well our neural network has learned the original image. Denote with $\\hat z^n$ the output from the same layer for some input $x$.\n",
        "\n",
        "Consider then the squared error loss\n",
        "$$\n",
        "\\mathcal{L}(z^n, \\hat z^n) = ||z^n-\\hat z^n||_2^2,\n",
        "$$\n",
        "\n",
        "We will give the network a certain input image $\\tilde x$ and obtain the layer values for that image $z^n$. We assume we only observe $z^n$, but want to *reconstruct* $\\tilde x$. To do that we will optimise over the $x$ that gets us as close as possible to that layer output:\n",
        "$$\n",
        "x^* = \\arg\\min_{x} \\mathcal{L}(z^n, \\hat z^n).\n",
        "$$\n",
        "\n",
        "We will further follow the work of https://arxiv.org/pdf/1412.0035v1.pdf\n",
        "\n",
        "It can be useful to restrict the reconstruction to the subset of natural images - in order to make the above reconstruction better (and easier to interpret). In order to do so, we need to define the properties that natural images have. A proxy used in the above paper is to incorporate in the reconstruction an appropriate image prior. As in the paper, we will try two things:\n",
        "\n",
        "1. the $\\alpha$-norm: $R(x) = ||x||_{\\alpha}^{\\alpha}$ where $x$ is the vectorised and meansubtracted image. With this regularisation we force the image values to stay within a certain range.\n",
        "\n",
        "2. the total variation encouraging images to consist of piece-wise constant patches: $R(x) = \\sum_{i,j} \\left((x_{i,j+1}-x_{ij})^2 + (x_{i+1,j}-x_{ij})^2\\right)^{\\frac{\\beta}{2}}$ where $x\\in\\mathbb{R}^{H\\times W}$ with $H$ the height and $W$ the width.\n",
        "\n",
        "We will add the above terms as regularisers to our loss function."
      ]
    },
    {
      "cell_type": "code",
      "execution_count": 13,
      "metadata": {
        "id": "645a029f"
      },
      "outputs": [],
      "source": [
        "# Define our new criteria:\n",
        "def R_1(img, alpha):\n",
        "    img = torch.flatten(img)\n",
        "    R1 = torch.linalg.norm(img, ord=alpha)\n",
        "    return R1\n",
        "\n",
        "def R_2(img, beta):\n",
        "    R2 = torch.sum(torch.pow(torch.flatten(torch.pow(img[:,:,:,1:] - img[:,:,:,:-1], 2)) \\\n",
        "                                + torch.flatten(torch.pow(img[:,:,1:,:] - img[:,:,:-1,:], 2)), beta/2))\n",
        "    return R2\n",
        "\n",
        "# Load a new batch of data\n",
        "dataiter = iter(trainloader)"
      ]
    },
    {
      "cell_type": "markdown",
      "metadata": {
        "id": "e3e44171"
      },
      "source": [
        "Let us now implement the optimisation scheme. We will begin by initialising a random image, then minimising the loss criterion that we discussed above."
      ]
    },
    {
      "cell_type": "code",
      "execution_count": 14,
      "metadata": {
        "colab": {
          "base_uri": "https://localhost:8080/",
          "height": 1000
        },
        "id": "9d33b2e0",
        "outputId": "c1953510-2ca4-42f7-e747-dee2def7274c"
      },
      "outputs": [
        {
          "data": {
            "image/png": "[encoded data removed]",
            "text/plain": [
              "<Figure size 640x480 with 1 Axes>"
            ]
          },
          "metadata": {},
          "output_type": "display_data"
        },
        {
          "name": "stdout",
          "output_type": "stream",
          "text": [
            "559.8976440429688\n",
            "296.6827392578125\n",
            "296.85382080078125\n",
            "291.91253662109375\n",
            "288.58416748046875\n",
            "293.01513671875\n",
            "297.8673400878906\n",
            "288.42242431640625\n",
            "293.4232482910156\n",
            "287.9125061035156\n",
            "285.04473876953125\n",
            "294.91839599609375\n",
            "300.7562255859375\n",
            "295.68450927734375\n",
            "290.5589599609375\n",
            "299.3682861328125\n",
            "301.60174560546875\n",
            "295.36627197265625\n",
            "290.42938232421875\n",
            "291.5885314941406\n"
          ]
        },
        {
          "data": {
            "image/png": "[encoded data removed]",
            "text/plain": [
              "<Figure size 640x480 with 1 Axes>"
            ]
          },
          "metadata": {},
          "output_type": "display_data"
        }
      ],
      "source": [
        "# Get some image\n",
        "images, labels = next(dataiter)\n",
        "images, labels = images.to(device), labels.to(device)\n",
        "img = images[0] # take just the first image; the above thing is an array of images of size batchsize\n",
        "img = img / 2 + 0.5     # unnormalize\n",
        "\n",
        "# Print the original image\n",
        "npimg = img.cpu().numpy() # translate to numpy\n",
        "npimg_t = np.transpose(npimg, (1, 2, 0)) # transpose things\n",
        "plt.imshow(npimg_t)\n",
        "plt.title(str(classes[labels[0]]))\n",
        "plt.show()\n",
        "\n",
        "# Pas the image through the network and get the layer output\n",
        "true_out = net.forward_partial(images[0:1,:,:,:])\n",
        "\n",
        "# Optimize the output from the layer for some random input to get close to the output for the original image\n",
        "sample_image = torch.rand(1, 3, 32, 32, device=device)\n",
        "sample_image.requires_grad = True\n",
        "nr_its_in = 100000\n",
        "lr = 0.0001\n",
        "for it in range(nr_its_in):\n",
        "    sample_out = net.forward_partial(sample_image)\n",
        "    sample_loss = torch.sum(torch.pow(true_out.detach() - sample_out, 2)) \\\n",
        "            + 0.05 * R_1(sample_image, 6) + 0.1 * R_2(sample_image, beta=2)\n",
        "    sample_loss.backward()\n",
        "    # Perform the gradient step to improve the sample_image\n",
        "    with torch.no_grad():\n",
        "        sample_image -= lr*sample_image.grad #+ 0.001*torch.rand(sample_image.shape)\n",
        "    if it%5000==0:\n",
        "        print(sample_loss.item())\n",
        "\n",
        "# Print reconstructed image\n",
        "numpy_image = sample_image.detach().cpu().numpy()\n",
        "# Constrain to the right range\n",
        "numpy_image += np.abs(numpy_image.min())\n",
        "numpy_image /= numpy_image.max()\n",
        "numpy_image = np.transpose(numpy_image[0,:,:,:], (1, 2, 0))\n",
        "plt.imshow(numpy_image)\n",
        "plt.title(classes[labels[0]])\n",
        "plt.show()"
      ]
    },
    {
      "cell_type": "markdown",
      "metadata": {
        "id": "7c74dbc8"
      },
      "source": [
        "Run the above code multiple times - for certain images the reconstruction works better than for others.\n",
        "\n",
        "## Task:\n",
        "Try to change the layer whose output we use. You can do this by modifying the forward_partial function we defined in the neural network class. Are any particular layers better at reconstructing the image? The later the layer you choose, the worse the reconstruction typically as later layers contain more high-level information.\n",
        "\n",
        "Also try to add or remove the noise - is there any difference in training with noise? Try also changing the parameters to see if you can find a configuration which obtains better results than what I managed to obtain.\n",
        "\n",
        "What do you think of the above? We can in general reconstruct something even with our relatively simple model (compared to the architectures Google and so on use). What if the input image contained sensitive information? Can you think that the above is a privacy or security risk?"
      ]
    },
    {
      "cell_type": "markdown",
      "metadata": {
        "id": "eI5ObDDlyUme"
      },
      "source": [
        "# ResNet\n",
        "\n",
        "Let's now try to code a different model. We will follow the architecture of ResNet (see https://arxiv.org/pdf/1512.03385.pdf), which has had a significant impact on the architectures we use in many models due to introducing the idea of skip connections.\n",
        "\n",
        "ResNet is divided into building blocks called Residual blocks, which are made up of convolutional layers. Let $F$ define a non-linear mapping (such as a sequence of convolutional layers, activation functions, etc.). CNNs such as the previous one we coded would typically model the output of a collection of convolutional layers as\n",
        "$$\n",
        "x_{l+1} = F(x_l).\n",
        "$$\n",
        "ResNet adds the input to the output of the block, so that\n",
        "$$\n",
        "x_{l+1} = x_l + F(x_l).\n",
        "$$\n",
        "This identity addition is what we call a **skip connection**. Note that it does not add computational complexity to $F$. When we apply backpropagation on the Residual block, we obtain\n",
        "$$\n",
        "\\frac{\\partial x_{l+1}}{\\partial x_l} = I + \\frac{\\partial F}{\\partial x_l},\n",
        "$$\n",
        "where $I$ is the identity matrix, instead of\n",
        "$$\n",
        "\\frac{\\partial x_{l+1}}{\\partial x_l} = \\frac{\\partial F}{\\partial x_l}.\n",
        "$$\n",
        "\n"
      ]
    },
    {
      "cell_type": "markdown",
      "metadata": {
        "id": "KmBytbPF33zl"
      },
      "source": [
        "##Residual Blocks\n",
        "\n",
        "Let's begin by coding a residual block. Let $x$ be the input to the residual block. The structure of the residual blocks will be:\n",
        "\n",
        " input -> convolutional layer 1 -> batchnorm -> ReLU -> convolutional layer 2 -> batchnorm + input -> ReLU.\n",
        "\n",
        "Before applying the ReLU activation function after the second convolutional layer, we add the input of the block to the output (we call this the residual). **The parameters of the residual blocks are defined in order to either preserve or decrease the dimensions (height and width) of the input.** If the dimensions are preserved, then we can simply add the input at the end of the residual block, if the dimensions are decreased, we also downsample the input so that the dimensions match.\n",
        "\n",
        "Parameters:\n",
        "*   in_channels: number of input channels into residual block\n",
        "*   out_channels: number of output channels out of residual block\n",
        "*   stride: size of stride of **first convolutional layer** (this layer will determine if the output of the residual block has the same dimensionality or different to the input)\n",
        "*   reduce_dim: this is a boolean to define if we want to reduce the dimensionality of the input or not. If so, we will apply a 1x1 convolution with stride 2"
      ]
    },
    {
      "cell_type": "code",
      "execution_count": 15,
      "metadata": {
        "id": "DpGCKhyr84FY"
      },
      "outputs": [],
      "source": [
        "class ResidualBlock(nn.Module):\n",
        "    def __init__(self, in_channels, out_channels, stride=1, reduce_dim=False):\n",
        "        super(ResidualBlock, self).__init__()\n",
        "        self.conv1 = nn.Conv2d(in_channels, out_channels, kernel_size = 3, stride = stride, padding = 1) # first convolutional layer\n",
        "        # size after convolution: n_out = floor((n_in + 2*1 - 3)/stride) + 1\n",
        "        # check that when stride=1 n_out = n_in, when stride=2 n_out = floor((n_in - 1)/2) + 1\n",
        "\n",
        "        self.conv2 = nn.Conv2d(out_channels, out_channels, kernel_size = 3, stride = 1, padding = 1) # second convolutional layer\n",
        "        # size after convolution: n_out = floor((n_in + 2*1 - 3)/1) + 1 = n_in so size is preserved\n",
        "\n",
        "        self.reduce_dim = reduce_dim\n",
        "        self.downsample = nn.Conv2d(in_channels, out_channels, kernel_size = 1, stride = 2, padding = 0) # convolutional layer to reduce dimensionality of the input\n",
        "        # size after convolution: n_out = floor((n_in - 1)/2) + 1\n",
        "        # this is the same dimensionality as what we obtain after applying conv1 with stride=2 followed by conv2\n",
        "\n",
        "        self.bn1 = nn.BatchNorm2d(out_channels)\n",
        "        self.bn2 = nn.BatchNorm2d(out_channels)\n",
        "        self.relu = nn.ReLU()\n",
        "        self.out_channels = out_channels\n",
        "\n",
        "    def forward(self, x):\n",
        "        residual = x\n",
        "        out = self.relu(self.bn1(self.conv1(x)))\n",
        "        out = self.bn2(self.conv2(out))\n",
        "        if self.reduce_dim: # if after conv1 the dimensionality is changed, we apply downsample in order for dim(residual) and dim(out) to match\n",
        "            residual = self.downsample(x)\n",
        "        out += residual # add input (this is the skip connection)\n",
        "        out = self.relu(out)\n",
        "        return out"
      ]
    },
    {
      "cell_type": "markdown",
      "metadata": {
        "id": "1XuZSBgMFJJj"
      },
      "source": [
        "## Architecture\n",
        "\n",
        "The ResNet architecture consists of input convolutional layers, groups of Residual Blocks and some output linear layers.\n",
        "\n",
        "Input layers -> Residual blocks -> Output layers\n",
        "\n",
        "Of all the Residual Blocks, only some of them will reduce the dimensionality of the input. For example, if ResNet has [3, 3, 3] blocks, then we have 3 times a group of 3 blocks. **Dimensionality reduction will occur in the first residual block of each group, excluding the first group.** In the case of [3, 3, 3] dimensionality reduction occurs in the fourth and seventh residual blocks. ResNets are usually implemented with more residual blocks (that show a better performance), however we will code a smaller version with the structure [3, 3, 3].\n",
        "\n",
        "Structure of input layers:\n",
        "\n",
        "1.   Convolutional layer (3 input channels, 32 output channels, kernel of size 7x7, stride 2, padding 3), followed by batchnorm and a ReLU activation\n",
        "2.   Maxpool (kernel of size 3x3, stride 2, padding 1)\n",
        "\n",
        "Structure of output layers:\n",
        "\n",
        "1.   Averagepool (kernel of size 2x2, , stride 1, padding 0)\n",
        "2.   Linear layer\n",
        "\n",
        "We will use the function _make_group to add the groups of residual blocks described above."
      ]
    },
    {
      "cell_type": "code",
      "execution_count": 16,
      "metadata": {
        "id": "iEtswIC6u5ya"
      },
      "outputs": [],
      "source": [
        "class ResNet(nn.Module):\n",
        "    def __init__(self, block, groups, num_classes = 10):\n",
        "        super(ResNet, self).__init__()\n",
        "        self.block = block\n",
        "\n",
        "        self.conv1 = nn.Conv2d(in_channels=3, out_channels=32, kernel_size=7, stride=2, padding=3)\n",
        "        self.bn = nn.BatchNorm2d(32)\n",
        "        self.relu = nn.ReLU()\n",
        "        self.maxpool = nn.MaxPool2d(kernel_size = 3, stride = 2, padding = 1)\n",
        "\n",
        "        self.inplanes = 32 # define the number of channels of the input of the first residual block (this will be updated as the residual blocks are added to the network)\n",
        "\n",
        "        # groups of residual blocks\n",
        "        self.group0 = self._make_group(block, 32, groups[0], stride = 1)\n",
        "        self.group1 = self._make_group(block, 64, groups[1], stride = 2)\n",
        "        self.group2 = self._make_group(block, 128, groups[2], stride = 2)\n",
        "\n",
        "        self.avgpool = nn.AvgPool2d(2, stride=1)\n",
        "        self.fc = nn.Linear(128, num_classes)\n",
        "\n",
        "    def _make_group(self, block, planes, blocks, stride=1):\n",
        "        '''\n",
        "        block: residual block used in model\n",
        "        planes: int, number of channels the output of group should have\n",
        "        stride: int, size of stride of first convolutional layer of first residual block in group\n",
        "        '''\n",
        "        reduce_dim=False\n",
        "\n",
        "        # first residual block in group\n",
        "        if stride != 1 or self.inplanes != planes: # we reduce dimensionality when stride=2 or if the input and output channels into the residual block do not match\n",
        "            reduce_dim=True\n",
        "        group = []\n",
        "        group.append(block(self.inplanes, planes, stride, reduce_dim)) # add residual block to list\n",
        "        self.inplanes = planes # update number of channels of input to next residual block (according to output of current residual block)\n",
        "\n",
        "        # remaining residual blocks in group\n",
        "        for i in range(1, blocks):\n",
        "            group.append(block(self.inplanes, planes))\n",
        "\n",
        "        return nn.Sequential(*group)\n",
        "\n",
        "\n",
        "    def forward(self, x):\n",
        "        # input layers\n",
        "        x = self.conv1(x)\n",
        "        if self.block.__class__.__name__ == 'ResidualBlock':\n",
        "            x = self.relu(self.bn(x))\n",
        "        x = self.maxpool(x)\n",
        "\n",
        "        # groups of residual blocks\n",
        "        x = self.group0(x)\n",
        "        x = self.group1(x)\n",
        "        x = self.group2(x)\n",
        "\n",
        "        # output layers\n",
        "        x = self.avgpool(x)\n",
        "        x = x.view(x.size(0), -1) # flatten all dimensions except batch\n",
        "        x = self.fc(x)\n",
        "\n",
        "        return x"
      ]
    },
    {
      "cell_type": "markdown",
      "metadata": {
        "id": "8VzB06TU_8qA"
      },
      "source": [
        "Let's train the model. You can also compare different architectures (instead of [3, 3, 3]) to see what produces the best accuracy."
      ]
    },
    {
      "cell_type": "code",
      "execution_count": 17,
      "metadata": {
        "colab": {
          "base_uri": "https://localhost:8080/"
        },
        "id": "OIPOGZz_AAZg",
        "outputId": "4638177d-cb99-4c57-dd70-b9e26e4aaba5"
      },
      "outputs": [
        {
          "data": {
            "text/plain": [
              "===================================================================================================================\n",
              "Layer (type:depth-idx)                   Input Shape               Output Shape              Param #\n",
              "===================================================================================================================\n",
              "ResNet                                   [128, 3, 32, 32]          [128, 10]                 64\n",
              "├─Conv2d: 1-1                            [128, 3, 32, 32]          [128, 32, 16, 16]         4,736\n",
              "├─MaxPool2d: 1-2                         [128, 32, 16, 16]         [128, 32, 8, 8]           --\n",
              "├─Sequential: 1-3                        [128, 32, 8, 8]           [128, 32, 8, 8]           --\n",
              "│    └─ResidualBlock: 2-1                [128, 32, 8, 8]           [128, 32, 8, 8]           1,056\n",
              "│    │    └─Conv2d: 3-1                  [128, 32, 8, 8]           [128, 32, 8, 8]           9,248\n",
              "│    │    └─BatchNorm2d: 3-2             [128, 32, 8, 8]           [128, 32, 8, 8]           64\n",
              "│    │    └─ReLU: 3-3                    [128, 32, 8, 8]           [128, 32, 8, 8]           --\n",
              "│    │    └─Conv2d: 3-4                  [128, 32, 8, 8]           [128, 32, 8, 8]           9,248\n",
              "│    │    └─BatchNorm2d: 3-5             [128, 32, 8, 8]           [128, 32, 8, 8]           64\n",
              "│    │    └─ReLU: 3-6                    [128, 32, 8, 8]           [128, 32, 8, 8]           --\n",
              "│    └─ResidualBlock: 2-2                [128, 32, 8, 8]           [128, 32, 8, 8]           1,056\n",
              "│    │    └─Conv2d: 3-7                  [128, 32, 8, 8]           [128, 32, 8, 8]           9,248\n",
              "│    │    └─BatchNorm2d: 3-8             [128, 32, 8, 8]           [128, 32, 8, 8]           64\n",
              "│    │    └─ReLU: 3-9                    [128, 32, 8, 8]           [128, 32, 8, 8]           --\n",
              "│    │    └─Conv2d: 3-10                 [128, 32, 8, 8]           [128, 32, 8, 8]           9,248\n",
              "│    │    └─BatchNorm2d: 3-11            [128, 32, 8, 8]           [128, 32, 8, 8]           64\n",
              "│    │    └─ReLU: 3-12                   [128, 32, 8, 8]           [128, 32, 8, 8]           --\n",
              "│    └─ResidualBlock: 2-3                [128, 32, 8, 8]           [128, 32, 8, 8]           1,056\n",
              "│    │    └─Conv2d: 3-13                 [128, 32, 8, 8]           [128, 32, 8, 8]           9,248\n",
              "│    │    └─BatchNorm2d: 3-14            [128, 32, 8, 8]           [128, 32, 8, 8]           64\n",
              "│    │    └─ReLU: 3-15                   [128, 32, 8, 8]           [128, 32, 8, 8]           --\n",
              "│    │    └─Conv2d: 3-16                 [128, 32, 8, 8]           [128, 32, 8, 8]           9,248\n",
              "│    │    └─BatchNorm2d: 3-17            [128, 32, 8, 8]           [128, 32, 8, 8]           64\n",
              "│    │    └─ReLU: 3-18                   [128, 32, 8, 8]           [128, 32, 8, 8]           --\n",
              "├─Sequential: 1-4                        [128, 32, 8, 8]           [128, 64, 4, 4]           --\n",
              "│    └─ResidualBlock: 2-4                [128, 32, 8, 8]           [128, 64, 4, 4]           --\n",
              "│    │    └─Conv2d: 3-19                 [128, 32, 8, 8]           [128, 64, 4, 4]           18,496\n",
              "│    │    └─BatchNorm2d: 3-20            [128, 64, 4, 4]           [128, 64, 4, 4]           128\n",
              "│    │    └─ReLU: 3-21                   [128, 64, 4, 4]           [128, 64, 4, 4]           --\n",
              "│    │    └─Conv2d: 3-22                 [128, 64, 4, 4]           [128, 64, 4, 4]           36,928\n",
              "│    │    └─BatchNorm2d: 3-23            [128, 64, 4, 4]           [128, 64, 4, 4]           128\n",
              "│    │    └─Conv2d: 3-24                 [128, 32, 8, 8]           [128, 64, 4, 4]           2,112\n",
              "│    │    └─ReLU: 3-25                   [128, 64, 4, 4]           [128, 64, 4, 4]           --\n",
              "│    └─ResidualBlock: 2-5                [128, 64, 4, 4]           [128, 64, 4, 4]           4,160\n",
              "│    │    └─Conv2d: 3-26                 [128, 64, 4, 4]           [128, 64, 4, 4]           36,928\n",
              "│    │    └─BatchNorm2d: 3-27            [128, 64, 4, 4]           [128, 64, 4, 4]           128\n",
              "│    │    └─ReLU: 3-28                   [128, 64, 4, 4]           [128, 64, 4, 4]           --\n",
              "│    │    └─Conv2d: 3-29                 [128, 64, 4, 4]           [128, 64, 4, 4]           36,928\n",
              "│    │    └─BatchNorm2d: 3-30            [128, 64, 4, 4]           [128, 64, 4, 4]           128\n",
              "│    │    └─ReLU: 3-31                   [128, 64, 4, 4]           [128, 64, 4, 4]           --\n",
              "│    └─ResidualBlock: 2-6                [128, 64, 4, 4]           [128, 64, 4, 4]           4,160\n",
              "│    │    └─Conv2d: 3-32                 [128, 64, 4, 4]           [128, 64, 4, 4]           36,928\n",
              "│    │    └─BatchNorm2d: 3-33            [128, 64, 4, 4]           [128, 64, 4, 4]           128\n",
              "│    │    └─ReLU: 3-34                   [128, 64, 4, 4]           [128, 64, 4, 4]           --\n",
              "│    │    └─Conv2d: 3-35                 [128, 64, 4, 4]           [128, 64, 4, 4]           36,928\n",
              "│    │    └─BatchNorm2d: 3-36            [128, 64, 4, 4]           [128, 64, 4, 4]           128\n",
              "│    │    └─ReLU: 3-37                   [128, 64, 4, 4]           [128, 64, 4, 4]           --\n",
              "├─Sequential: 1-5                        [128, 64, 4, 4]           [128, 128, 2, 2]          --\n",
              "│    └─ResidualBlock: 2-7                [128, 64, 4, 4]           [128, 128, 2, 2]          --\n",
              "│    │    └─Conv2d: 3-38                 [128, 64, 4, 4]           [128, 128, 2, 2]          73,856\n",
              "│    │    └─BatchNorm2d: 3-39            [128, 128, 2, 2]          [128, 128, 2, 2]          256\n",
              "│    │    └─ReLU: 3-40                   [128, 128, 2, 2]          [128, 128, 2, 2]          --\n",
              "│    │    └─Conv2d: 3-41                 [128, 128, 2, 2]          [128, 128, 2, 2]          147,584\n",
              "│    │    └─BatchNorm2d: 3-42            [128, 128, 2, 2]          [128, 128, 2, 2]          256\n",
              "│    │    └─Conv2d: 3-43                 [128, 64, 4, 4]           [128, 128, 2, 2]          8,320\n",
              "│    │    └─ReLU: 3-44                   [128, 128, 2, 2]          [128, 128, 2, 2]          --\n",
              "│    └─ResidualBlock: 2-8                [128, 128, 2, 2]          [128, 128, 2, 2]          16,512\n",
              "│    │    └─Conv2d: 3-45                 [128, 128, 2, 2]          [128, 128, 2, 2]          147,584\n",
              "│    │    └─BatchNorm2d: 3-46            [128, 128, 2, 2]          [128, 128, 2, 2]          256\n",
              "│    │    └─ReLU: 3-47                   [128, 128, 2, 2]          [128, 128, 2, 2]          --\n",
              "│    │    └─Conv2d: 3-48                 [128, 128, 2, 2]          [128, 128, 2, 2]          147,584\n",
              "│    │    └─BatchNorm2d: 3-49            [128, 128, 2, 2]          [128, 128, 2, 2]          256\n",
              "│    │    └─ReLU: 3-50                   [128, 128, 2, 2]          [128, 128, 2, 2]          --\n",
              "│    └─ResidualBlock: 2-9                [128, 128, 2, 2]          [128, 128, 2, 2]          16,512\n",
              "│    │    └─Conv2d: 3-51                 [128, 128, 2, 2]          [128, 128, 2, 2]          147,584\n",
              "│    │    └─BatchNorm2d: 3-52            [128, 128, 2, 2]          [128, 128, 2, 2]          256\n",
              "│    │    └─ReLU: 3-53                   [128, 128, 2, 2]          [128, 128, 2, 2]          --\n",
              "│    │    └─Conv2d: 3-54                 [128, 128, 2, 2]          [128, 128, 2, 2]          147,584\n",
              "│    │    └─BatchNorm2d: 3-55            [128, 128, 2, 2]          [128, 128, 2, 2]          256\n",
              "│    │    └─ReLU: 3-56                   [128, 128, 2, 2]          [128, 128, 2, 2]          --\n",
              "├─AvgPool2d: 1-6                         [128, 128, 2, 2]          [128, 128, 1, 1]          --\n",
              "├─Linear: 1-7                            [128, 128]                [128, 10]                 1,290\n",
              "===================================================================================================================\n",
              "Total params: 1,134,122\n",
              "Trainable params: 1,134,122\n",
              "Non-trainable params: 0\n",
              "Total mult-adds (G): 1.45\n",
              "===================================================================================================================\n",
              "Input size (MB): 1.57\n",
              "Forward/backward pass size (MB): 54.01\n",
              "Params size (MB): 4.36\n",
              "Estimated Total Size (MB): 59.94\n",
              "==================================================================================================================="
            ]
          },
          "execution_count": 17,
          "metadata": {},
          "output_type": "execute_result"
        }
      ],
      "source": [
        "resnet = ResNet(block=ResidualBlock, groups=[3, 3, 3]) # total number of residual blocks is 9\n",
        "resnet = resnet.to(device)\n",
        "\n",
        "torchinfo.summary(resnet, (batch_size, 3, 32, 32), col_names=(\"input_size\", \"output_size\", \"num_params\"))\n",
        "\n"
      ]
    },
    {
      "cell_type": "code",
      "execution_count": 18,
      "metadata": {},
      "outputs": [
        {
          "name": "stdout",
          "output_type": "stream",
          "text": [
            "Epoch 0\n",
            "0 2.4717109203338623\n",
            "100 1.497568964958191\n",
            "200 1.351035237312317\n",
            "300 1.254797339439392\n",
            "Epoch 1\n",
            "0 1.138746738433838\n",
            "100 1.296686053276062\n",
            "200 1.0722013711929321\n",
            "300 1.0905100107192993\n",
            "Epoch 2\n",
            "0 1.0719335079193115\n",
            "100 0.9049851894378662\n",
            "200 1.039367914199829\n",
            "300 0.9794520139694214\n",
            "Epoch 3\n",
            "0 0.9156928062438965\n",
            "100 0.7974506616592407\n",
            "200 0.7617605328559875\n",
            "300 0.9604687094688416\n",
            "Epoch 4\n",
            "0 0.6526116132736206\n",
            "100 0.6650341749191284\n",
            "200 0.7496348023414612\n",
            "300 0.7565388083457947\n",
            "Epoch 5\n",
            "0 0.5799416899681091\n",
            "100 0.6052607297897339\n",
            "200 0.5931361317634583\n",
            "300 0.638644814491272\n",
            "Epoch 6\n",
            "0 0.6989613175392151\n",
            "100 0.7998899817466736\n",
            "200 0.5036293864250183\n",
            "300 0.7653816938400269\n",
            "Epoch 7\n",
            "0 0.36373698711395264\n",
            "100 0.4582400619983673\n",
            "200 0.5975764393806458\n",
            "300 0.5978477001190186\n",
            "Epoch 8\n",
            "0 0.399616539478302\n",
            "100 0.4385243356227875\n",
            "200 0.41105130314826965\n",
            "300 0.5748395323753357\n",
            "Epoch 9\n",
            "0 0.25811415910720825\n",
            "100 0.43305063247680664\n",
            "200 0.5495931506156921\n",
            "300 0.4713161885738373\n",
            "Epoch 10\n",
            "0 0.28440818190574646\n",
            "100 0.26815035939216614\n",
            "200 0.32517918944358826\n",
            "300 0.5375826358795166\n",
            "Epoch 11\n",
            "0 0.22248847782611847\n",
            "100 0.42952704429626465\n",
            "200 0.3089340925216675\n",
            "300 0.4363187253475189\n",
            "Epoch 12\n",
            "0 0.20646138489246368\n",
            "100 0.3162587285041809\n",
            "200 0.31436771154403687\n",
            "300 0.1841345578432083\n",
            "Epoch 13\n",
            "0 0.2644186317920685\n",
            "100 0.2289295494556427\n",
            "200 0.2968861162662506\n",
            "300 0.2915467619895935\n",
            "Epoch 14\n",
            "0 0.20793811976909637\n",
            "100 0.1154778003692627\n",
            "200 0.3333113491535187\n",
            "300 0.23609408736228943\n",
            "Finished Training\n"
          ]
        }
      ],
      "source": [
        "train(model=resnet.train(), nr_epochs=15, optimizer=optim.SGD(resnet.parameters(), lr=0.01, momentum = 0.9), criterion=nn.CrossEntropyLoss())"
      ]
    },
    {
      "cell_type": "markdown",
      "metadata": {
        "id": "AULFeQN_A4R5"
      },
      "source": [
        "Let's evaluate the ResNet on the test set. We can compare the performance to the previous CNN we coded."
      ]
    },
    {
      "cell_type": "code",
      "execution_count": 19,
      "metadata": {
        "colab": {
          "base_uri": "https://localhost:8080/"
        },
        "id": "P7PEBgwRBDYR",
        "outputId": "ec8c7463-20aa-4ae0-90f0-bb2517965305"
      },
      "outputs": [
        {
          "name": "stdout",
          "output_type": "stream",
          "text": [
            "Accuracy of the network on the test images: 71 %\n"
          ]
        }
      ],
      "source": [
        "accuracy(resnet.eval())"
      ]
    },
    {
      "cell_type": "markdown",
      "metadata": {
        "id": "3M7JiLpzEMzV"
      },
      "source": [
        "## Task: implement Pre-Activation Residual Blocks\n",
        "\n",
        "One of the variants of ResNet involves using Residual Blocks with a different architecture. Let's look at Pre-Activation Residual Blocks. In the original model, the activation function (in our case the ReLU function) is applied after the skip connection. In the pre-activation variant, the batchnorm and ReLU function are applied **at the beginning of the residual block**:\n",
        "\n",
        "input -> batchnorm -> ReLU -> convolutional layer 1 -> batchnorm -> ReLU -> convolutional layer 2 + input\n",
        "\n",
        "Note that the input layers of ResNet will have to be modified: the batchnorm and ReLU in the input layers will have to be removed in order to not be applied twice."
      ]
    },
    {
      "cell_type": "code",
      "execution_count": 20,
      "metadata": {
        "id": "PkyhcHfWLb0n"
      },
      "outputs": [],
      "source": [
        "class PreActivationResidualBlock(nn.Module):\n",
        "    def __init__(self, in_channels, out_channels, stride=1, reduce_dim=False):\n",
        "        super(PreActivationResidualBlock, self).__init__()\n",
        "        self.conv1 = nn.Conv2d(in_channels, out_channels, kernel_size = 3, stride = stride, padding = 1) # first convolutional layer\n",
        "        # size after convolution: n_out = floor((n_in + 2*1 - 3)/stride) + 1\n",
        "        # check that when stride=1 n_out=n_in, when stride=2 n_out=floor(n_out/2)+1\n",
        "\n",
        "        self.conv2 = nn.Conv2d(out_channels, out_channels, kernel_size = 3, stride = 1, padding = 1) # second convolutional layer\n",
        "        # size after convolution: n_out = floor((n_in + 2*1 - 3)/1) + 1 = n_in so size is preserved\n",
        "\n",
        "        self.reduce_dim = reduce_dim\n",
        "        self.downsample = nn.Conv2d(in_channels, out_channels, kernel_size = 1, stride = 2, padding = 0) # convolutional layer to reduce dimensionality of the input\n",
        "        # size after convolution: n_out = floor((n_in - 1)/2) + 1 = floor(n_out/2) + 1\n",
        "        # check that this is the same dimensionality as after applying conv1 with stride=2 and conv2\n",
        "\n",
        "        self.bn1 = nn.BatchNorm2d(in_channels)\n",
        "        self.bn2 = nn.BatchNorm2d(out_channels)\n",
        "        self.relu = nn.ReLU()\n",
        "        self.out_channels = out_channels\n",
        "\n",
        "    def forward(self, x):\n",
        "        residual = x\n",
        "        out = self.relu(self.bn1(x))\n",
        "        out = self.relu(self.bn2(self.conv1(out)))\n",
        "        out = self.conv2(out)\n",
        "        if self.reduce_dim: # if after conv1 the dimensionality is changed, we apply downsample in order for dim(residual) and dim(out) to match\n",
        "            residual = self.downsample(x)\n",
        "        out += residual # add input (this is the skip connection)\n",
        "        return out"
      ]
    },
    {
      "cell_type": "code",
      "execution_count": 21,
      "metadata": {
        "colab": {
          "base_uri": "https://localhost:8080/"
        },
        "id": "uL7l3OXTLoBw",
        "outputId": "bd7a0311-aaec-478f-dd06-bc91778e8290"
      },
      "outputs": [
        {
          "data": {
            "text/plain": [
              "========================================================================================================================\n",
              "Layer (type:depth-idx)                        Input Shape               Output Shape              Param #\n",
              "========================================================================================================================\n",
              "ResNet                                        [128, 3, 32, 32]          [128, 10]                 64\n",
              "├─Conv2d: 1-1                                 [128, 3, 32, 32]          [128, 32, 16, 16]         4,736\n",
              "├─MaxPool2d: 1-2                              [128, 32, 16, 16]         [128, 32, 8, 8]           --\n",
              "├─Sequential: 1-3                             [128, 32, 8, 8]           [128, 32, 8, 8]           --\n",
              "│    └─PreActivationResidualBlock: 2-1        [128, 32, 8, 8]           [128, 32, 8, 8]           1,056\n",
              "│    │    └─BatchNorm2d: 3-1                  [128, 32, 8, 8]           [128, 32, 8, 8]           64\n",
              "│    │    └─ReLU: 3-2                         [128, 32, 8, 8]           [128, 32, 8, 8]           --\n",
              "│    │    └─Conv2d: 3-3                       [128, 32, 8, 8]           [128, 32, 8, 8]           9,248\n",
              "│    │    └─BatchNorm2d: 3-4                  [128, 32, 8, 8]           [128, 32, 8, 8]           64\n",
              "│    │    └─ReLU: 3-5                         [128, 32, 8, 8]           [128, 32, 8, 8]           --\n",
              "│    │    └─Conv2d: 3-6                       [128, 32, 8, 8]           [128, 32, 8, 8]           9,248\n",
              "│    └─PreActivationResidualBlock: 2-2        [128, 32, 8, 8]           [128, 32, 8, 8]           1,056\n",
              "│    │    └─BatchNorm2d: 3-7                  [128, 32, 8, 8]           [128, 32, 8, 8]           64\n",
              "│    │    └─ReLU: 3-8                         [128, 32, 8, 8]           [128, 32, 8, 8]           --\n",
              "│    │    └─Conv2d: 3-9                       [128, 32, 8, 8]           [128, 32, 8, 8]           9,248\n",
              "│    │    └─BatchNorm2d: 3-10                 [128, 32, 8, 8]           [128, 32, 8, 8]           64\n",
              "│    │    └─ReLU: 3-11                        [128, 32, 8, 8]           [128, 32, 8, 8]           --\n",
              "│    │    └─Conv2d: 3-12                      [128, 32, 8, 8]           [128, 32, 8, 8]           9,248\n",
              "│    └─PreActivationResidualBlock: 2-3        [128, 32, 8, 8]           [128, 32, 8, 8]           1,056\n",
              "│    │    └─BatchNorm2d: 3-13                 [128, 32, 8, 8]           [128, 32, 8, 8]           64\n",
              "│    │    └─ReLU: 3-14                        [128, 32, 8, 8]           [128, 32, 8, 8]           --\n",
              "│    │    └─Conv2d: 3-15                      [128, 32, 8, 8]           [128, 32, 8, 8]           9,248\n",
              "│    │    └─BatchNorm2d: 3-16                 [128, 32, 8, 8]           [128, 32, 8, 8]           64\n",
              "│    │    └─ReLU: 3-17                        [128, 32, 8, 8]           [128, 32, 8, 8]           --\n",
              "│    │    └─Conv2d: 3-18                      [128, 32, 8, 8]           [128, 32, 8, 8]           9,248\n",
              "├─Sequential: 1-4                             [128, 32, 8, 8]           [128, 64, 4, 4]           --\n",
              "│    └─PreActivationResidualBlock: 2-4        [128, 32, 8, 8]           [128, 64, 4, 4]           --\n",
              "│    │    └─BatchNorm2d: 3-19                 [128, 32, 8, 8]           [128, 32, 8, 8]           64\n",
              "│    │    └─ReLU: 3-20                        [128, 32, 8, 8]           [128, 32, 8, 8]           --\n",
              "│    │    └─Conv2d: 3-21                      [128, 32, 8, 8]           [128, 64, 4, 4]           18,496\n",
              "│    │    └─BatchNorm2d: 3-22                 [128, 64, 4, 4]           [128, 64, 4, 4]           128\n",
              "│    │    └─ReLU: 3-23                        [128, 64, 4, 4]           [128, 64, 4, 4]           --\n",
              "│    │    └─Conv2d: 3-24                      [128, 64, 4, 4]           [128, 64, 4, 4]           36,928\n",
              "│    │    └─Conv2d: 3-25                      [128, 32, 8, 8]           [128, 64, 4, 4]           2,112\n",
              "│    └─PreActivationResidualBlock: 2-5        [128, 64, 4, 4]           [128, 64, 4, 4]           4,160\n",
              "│    │    └─BatchNorm2d: 3-26                 [128, 64, 4, 4]           [128, 64, 4, 4]           128\n",
              "│    │    └─ReLU: 3-27                        [128, 64, 4, 4]           [128, 64, 4, 4]           --\n",
              "│    │    └─Conv2d: 3-28                      [128, 64, 4, 4]           [128, 64, 4, 4]           36,928\n",
              "│    │    └─BatchNorm2d: 3-29                 [128, 64, 4, 4]           [128, 64, 4, 4]           128\n",
              "│    │    └─ReLU: 3-30                        [128, 64, 4, 4]           [128, 64, 4, 4]           --\n",
              "│    │    └─Conv2d: 3-31                      [128, 64, 4, 4]           [128, 64, 4, 4]           36,928\n",
              "│    └─PreActivationResidualBlock: 2-6        [128, 64, 4, 4]           [128, 64, 4, 4]           4,160\n",
              "│    │    └─BatchNorm2d: 3-32                 [128, 64, 4, 4]           [128, 64, 4, 4]           128\n",
              "│    │    └─ReLU: 3-33                        [128, 64, 4, 4]           [128, 64, 4, 4]           --\n",
              "│    │    └─Conv2d: 3-34                      [128, 64, 4, 4]           [128, 64, 4, 4]           36,928\n",
              "│    │    └─BatchNorm2d: 3-35                 [128, 64, 4, 4]           [128, 64, 4, 4]           128\n",
              "│    │    └─ReLU: 3-36                        [128, 64, 4, 4]           [128, 64, 4, 4]           --\n",
              "│    │    └─Conv2d: 3-37                      [128, 64, 4, 4]           [128, 64, 4, 4]           36,928\n",
              "├─Sequential: 1-5                             [128, 64, 4, 4]           [128, 128, 2, 2]          --\n",
              "│    └─PreActivationResidualBlock: 2-7        [128, 64, 4, 4]           [128, 128, 2, 2]          --\n",
              "│    │    └─BatchNorm2d: 3-38                 [128, 64, 4, 4]           [128, 64, 4, 4]           128\n",
              "│    │    └─ReLU: 3-39                        [128, 64, 4, 4]           [128, 64, 4, 4]           --\n",
              "│    │    └─Conv2d: 3-40                      [128, 64, 4, 4]           [128, 128, 2, 2]          73,856\n",
              "│    │    └─BatchNorm2d: 3-41                 [128, 128, 2, 2]          [128, 128, 2, 2]          256\n",
              "│    │    └─ReLU: 3-42                        [128, 128, 2, 2]          [128, 128, 2, 2]          --\n",
              "│    │    └─Conv2d: 3-43                      [128, 128, 2, 2]          [128, 128, 2, 2]          147,584\n",
              "│    │    └─Conv2d: 3-44                      [128, 64, 4, 4]           [128, 128, 2, 2]          8,320\n",
              "│    └─PreActivationResidualBlock: 2-8        [128, 128, 2, 2]          [128, 128, 2, 2]          16,512\n",
              "│    │    └─BatchNorm2d: 3-45                 [128, 128, 2, 2]          [128, 128, 2, 2]          256\n",
              "│    │    └─ReLU: 3-46                        [128, 128, 2, 2]          [128, 128, 2, 2]          --\n",
              "│    │    └─Conv2d: 3-47                      [128, 128, 2, 2]          [128, 128, 2, 2]          147,584\n",
              "│    │    └─BatchNorm2d: 3-48                 [128, 128, 2, 2]          [128, 128, 2, 2]          256\n",
              "│    │    └─ReLU: 3-49                        [128, 128, 2, 2]          [128, 128, 2, 2]          --\n",
              "│    │    └─Conv2d: 3-50                      [128, 128, 2, 2]          [128, 128, 2, 2]          147,584\n",
              "│    └─PreActivationResidualBlock: 2-9        [128, 128, 2, 2]          [128, 128, 2, 2]          16,512\n",
              "│    │    └─BatchNorm2d: 3-51                 [128, 128, 2, 2]          [128, 128, 2, 2]          256\n",
              "│    │    └─ReLU: 3-52                        [128, 128, 2, 2]          [128, 128, 2, 2]          --\n",
              "│    │    └─Conv2d: 3-53                      [128, 128, 2, 2]          [128, 128, 2, 2]          147,584\n",
              "│    │    └─BatchNorm2d: 3-54                 [128, 128, 2, 2]          [128, 128, 2, 2]          256\n",
              "│    │    └─ReLU: 3-55                        [128, 128, 2, 2]          [128, 128, 2, 2]          --\n",
              "│    │    └─Conv2d: 3-56                      [128, 128, 2, 2]          [128, 128, 2, 2]          147,584\n",
              "├─AvgPool2d: 1-6                              [128, 128, 2, 2]          [128, 128, 1, 1]          --\n",
              "├─Linear: 1-7                                 [128, 128]                [128, 10]                 1,290\n",
              "========================================================================================================================\n",
              "Total params: 1,133,930\n",
              "Trainable params: 1,133,930\n",
              "Non-trainable params: 0\n",
              "Total mult-adds (G): 1.45\n",
              "========================================================================================================================\n",
              "Input size (MB): 1.57\n",
              "Forward/backward pass size (MB): 55.58\n",
              "Params size (MB): 4.36\n",
              "Estimated Total Size (MB): 61.52\n",
              "========================================================================================================================"
            ]
          },
          "execution_count": 21,
          "metadata": {},
          "output_type": "execute_result"
        }
      ],
      "source": [
        "pre_act_resnet = ResNet(block=PreActivationResidualBlock, groups=[3, 3, 3])\n",
        "pre_act_resnet = pre_act_resnet.to(device)\n",
        "torchinfo.summary(pre_act_resnet, (batch_size, 3, 32, 32), col_names=(\"input_size\", \"output_size\", \"num_params\"))"
      ]
    },
    {
      "cell_type": "code",
      "execution_count": 22,
      "metadata": {},
      "outputs": [
        {
          "name": "stdout",
          "output_type": "stream",
          "text": [
            "Epoch 0\n",
            "0 2.3526785373687744\n",
            "100 1.4301830530166626\n",
            "200 1.389931082725525\n",
            "300 1.0604723691940308\n",
            "Epoch 1\n",
            "0 0.9389733076095581\n",
            "100 1.0744441747665405\n",
            "200 0.9460240602493286\n",
            "300 1.007445216178894\n",
            "Epoch 2\n",
            "0 0.8316417932510376\n",
            "100 1.044905424118042\n",
            "200 0.7888440489768982\n",
            "300 0.892133355140686\n",
            "Epoch 3\n",
            "0 0.7501899003982544\n",
            "100 0.6769746541976929\n",
            "200 0.6773706078529358\n",
            "300 0.7148857712745667\n",
            "Epoch 4\n",
            "0 0.634179949760437\n",
            "100 0.6741736531257629\n",
            "200 0.5567495822906494\n",
            "300 0.6605424284934998\n",
            "Epoch 5\n",
            "0 0.6659578680992126\n",
            "100 0.6622498035430908\n",
            "200 0.5464164018630981\n",
            "300 0.6139410734176636\n",
            "Epoch 6\n",
            "0 0.3706762194633484\n",
            "100 0.38264021277427673\n",
            "200 0.4279095232486725\n",
            "300 0.5774558186531067\n",
            "Epoch 7\n",
            "0 0.3781175911426544\n",
            "100 0.28440943360328674\n",
            "200 0.41379687190055847\n",
            "300 0.36766791343688965\n",
            "Epoch 8\n",
            "0 0.33457493782043457\n",
            "100 0.3303816318511963\n",
            "200 0.2616170048713684\n",
            "300 0.4186127781867981\n",
            "Epoch 9\n",
            "0 0.3312864601612091\n",
            "100 0.19972997903823853\n",
            "200 0.3551250696182251\n",
            "300 0.28800609707832336\n",
            "Epoch 10\n",
            "0 0.2331143617630005\n",
            "100 0.24060200154781342\n",
            "200 0.20153029263019562\n",
            "300 0.37302419543266296\n",
            "Epoch 11\n",
            "0 0.2174859642982483\n",
            "100 0.1685182899236679\n",
            "200 0.280010461807251\n",
            "300 0.2610887587070465\n",
            "Epoch 12\n",
            "0 0.15385253727436066\n",
            "100 0.20793046057224274\n",
            "200 0.14464305341243744\n",
            "300 0.17699392139911652\n",
            "Epoch 13\n",
            "0 0.10980343073606491\n",
            "100 0.18996365368366241\n",
            "200 0.17618858814239502\n",
            "300 0.27149564027786255\n",
            "Epoch 14\n",
            "0 0.08631736785173416\n",
            "100 0.07501629739999771\n",
            "200 0.14666162431240082\n",
            "300 0.15509872138500214\n",
            "Finished Training\n"
          ]
        }
      ],
      "source": [
        "pre_act_resnet = pre_act_resnet.to(device)\n",
        "train(model=pre_act_resnet.train(), nr_epochs=15, optimizer=optim.SGD(pre_act_resnet.parameters(), lr=0.01, momentum = 0.9), criterion=nn.CrossEntropyLoss())"
      ]
    },
    {
      "cell_type": "code",
      "execution_count": 23,
      "metadata": {
        "colab": {
          "base_uri": "https://localhost:8080/"
        },
        "id": "5_Lq8kVlL-eZ",
        "outputId": "667e2017-f746-4402-b349-ce734168ec85"
      },
      "outputs": [
        {
          "name": "stdout",
          "output_type": "stream",
          "text": [
            "Accuracy of the network on the test images: 72 %\n"
          ]
        }
      ],
      "source": [
        "accuracy(pre_act_resnet.eval())"
      ]
    },
    {
      "cell_type": "markdown",
      "metadata": {
        "id": "M1_qlA_PQk-x"
      },
      "source": [
        "The Pre-activation ResNet has been shown to perform better than the original ResNet for very deep networks. Is the same true in our shallow setting?\n",
        "\n",
        "Feel free to experiment with other structures of residual blocks (see Figure 4 in https://arxiv.org/pdf/1603.05027.pdf)."
      ]
    },
    {
      "cell_type": "markdown",
      "metadata": {
        "id": "iQjnLorgZ80R"
      },
      "source": [
        "# References\n",
        "\n",
        "\n",
        "\n",
        "*   Aravindh Mahendran and Andrea Vedaldi (2014). Understanding deep image representations by inverting them. Arxiv: https://arxiv.org/abs/1412.0035\n",
        "*   Kaiming He, Xiangyu Zhang, Shaoqing Ren and Jian SunDeep (2015). Residual Learning for Image Recognition. Arxiv: https://arxiv.org/pdf/1512.03385.pdf\n",
        "*   Kaiming He, Xiangyu Zhang, Shaoqing Ren, and Jian Sun (2016). Identity Mappings in Deep Residual Networks. Arxiv: https://arxiv.org/pdf/1603.05027.pdf\n",
        "*   https://blog.paperspace.com/writing-resnet-from-scratch-in-pytorch/\n",
        "*   https://uvadlc-notebooks.readthedocs.io/en/latest/tutorial_notebooks/tutorial5/Inception_ResNet_DenseNet.html#ResNet\n",
        "\n"
      ]
    }
  ],
  "metadata": {
    "accelerator": "GPU",
    "colab": {
      "gpuType": "T4",
      "provenance": []
    },
    "kernelspec": {
      "display_name": "ml_venv",
      "language": "python",
      "name": "python3"
    },
    "language_info": {
      "codemirror_mode": {
        "name": "ipython",
        "version": 3
      },
      "file_extension": ".py",
      "mimetype": "text/x-python",
      "name": "python",
      "nbconvert_exporter": "python",
      "pygments_lexer": "ipython3",
      "version": "3.9.19"
    }
  },
  "nbformat": 4,
  "nbformat_minor": 0
}
