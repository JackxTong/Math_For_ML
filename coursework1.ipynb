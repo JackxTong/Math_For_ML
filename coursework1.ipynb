{
 "cells": [
  {
   "cell_type": "markdown",
   "metadata": {},
   "source": [
    "# Coursework 1 - Mathematics for Machine Learning"
   ]
  },
  {
   "cell_type": "markdown",
   "metadata": {},
   "source": [
    "## CID: 02056823\n",
    "\n",
    "**Colab link:** insert colab link here\n",
    "\n",
    "***\n",
    "***"
   ]
  },
  {
   "cell_type": "markdown",
   "metadata": {},
   "source": [
    "## Exercise 1: Quick questions [3 points]"
   ]
  },
  {
   "cell_type": "markdown",
   "metadata": {},
   "source": [
    "#### Question 1:\n",
    "\n",
    "Risk: The expected loss over the true data distribution.\n",
    "\n",
    "Empirical risk: The average loss over the training dataset (a finite sample)."
   ]
  },
  {
   "cell_type": "markdown",
   "metadata": {},
   "source": [
    "#### Question 2:\n",
    "\n",
    "Generalization error: The difference between the model's performance on unseen data and the true data distribution.\n",
    "\n",
    "Training error: The error computed on the training dataset."
   ]
  },
  {
   "cell_type": "markdown",
   "metadata": {},
   "source": [
    "#### Question 3:\n",
    "\n",
    "Independence ensures that the probability bounds hold when summing random variables, which is key for the inequality's validity."
   ]
  },
  {
   "cell_type": "markdown",
   "metadata": {},
   "source": [
    "#### Question 4:\n",
    "\n",
    "Use a single dataset split into training, validation, and test sets. \n",
    "\n",
    "Train both hypothesis classes on the training set and compare their performance on the test set."
   ]
  },
  {
   "cell_type": "markdown",
   "metadata": {},
   "source": [
    "#### Question 5:\n",
    "\n",
    "Rademacher complexity provides a data-dependent measure of a hypothesis class's capacity, leading to tighter generalization bounds compared to worst-case bounds."
   ]
  },
  {
   "cell_type": "markdown",
   "metadata": {},
   "source": [
    "#### Question 6:\n",
    "\n",
    "Momentum accelerates convergence by adding a fraction of the previous update to the current gradient, helping to overcome small gradients and oscillations in the optimization path."
   ]
  },
  {
   "cell_type": "markdown",
   "metadata": {},
   "source": [
    "*** \n",
    "***\n",
    "\n",
    "## Exercise 2: Statistical learning theory [7 points]"
   ]
  },
  {
   "cell_type": "markdown",
   "metadata": {},
   "source": [
    "\n",
    "### Question 1 [1 point]\n"
   ]
  },
  {
   "cell_type": "markdown",
   "metadata": {},
   "source": [
    "The true risk minimizer is\n",
    "$$\n",
    "f_{S_1, k} := \\arg \\min_{f \\in \\mathcal{F}_k} \\mathbb{E}_{(x, y) \\sim D^{ (1 - \\alpha) N }}[L(f(x), y)] \n",
    "$$\n",
    "\n",
    "The empirical risk minimizer is given by\n",
    "\n",
    "$$\n",
    " \\arg\\min_{f \\in \\mathcal{F}_k} \n",
    " \\frac{1}{(1-\\alpha)N} \\sum_{(x,y) \\in S_1} L(f(x), y)\n",
    "$$\n"
   ]
  },
  {
   "cell_type": "markdown",
   "metadata": {},
   "source": [
    "***\n",
    "\n",
    "### Question 2 [1 point]"
   ]
  },
  {
   "cell_type": "markdown",
   "metadata": {},
   "source": [
    "By Boole's inequality,\n",
    "$$\n",
    "\\mathbb{P}\\left[ \\sup_{k \\geq 1} \\left| R(f_{S_1, k}) - \\hat{R}_{S_2}(f_{S_1, k}) \\right| > \\epsilon \\right]\n",
    "= \\mathbb{P}\\left[ \\bigcup_{k=1}^\\infty \\left\\{ \\left| R(f_{S_1, k}) - \\hat{R}_{S_2}(f_{S_1, k}) \\right| > \\epsilon \\right\\} \\right] \\\\\n",
    "\\leq \\sum_{k=1}^\\infty \\mathbb{P}\\left[ \\left| R(f_{S_1, k}) - \\hat{R}_{S_2}(f_{S_1, k}) \\right| \\geq \\epsilon \\right].\n",
    "$$"
   ]
  },
  {
   "cell_type": "markdown",
   "metadata": {},
   "source": [
    "***\n",
    "\n",
    "### Question 3 [1 point]"
   ]
  },
  {
   "cell_type": "markdown",
   "metadata": {},
   "source": [
    "By law of total expectation,\n",
    "$$\n",
    "\\mathbb{P}(A) = \\mathbb{E}[1_A] = \\mathbb{E}_B \\left[\\mathbb{P}(A \\mid B)\\right]\n",
    "$$\n",
    "\n",
    "Where A is the event $\\left[\\left| R(f_{S_1,k}) - \\hat{R}_{S_2}(f_{S_1,k}) \\right| \\geq \\epsilon \\right] $, and B is random sample $S_1$.\n",
    "\n",
    "Hence\n",
    "$$\n",
    "\\mathbb{P}\\left[\\left| R(f_{S_1,k}) - \\hat{R}_{S_2}(f_{S_1,k}) \\right| \\geq \\epsilon \\right] \n",
    "= \n",
    "\\mathbb{E}\\left[1_{\\left\\{\\left| R(f_{S_1,k}) - \\hat{R}_{S_2}(f_{S_1,k}) \\right| \\geq \\epsilon\\right\\}}\\right] \\\\\n",
    "=\n",
    "\\mathbb{E}_{S_1}\\left[\\mathbb{E}_{S_2}\\left[1_{\\left\\{\\left| R(f_{S_1,k}) - \\hat{R}_{S_2}(f_{S_1,k}) \\right| \\geq \\epsilon\\right\\}} \\mid S_1 \\right]\\right]\\\\\n",
    "\n",
    "= \n",
    "\\mathbb{E}_{S_1}\\left[\\mathbb{P}_{S_2}\\left[\\left| R(f_{S_1,k}) - \\hat{R}_{S_2}(f_{S_1,k}) \\right| \\geq \\epsilon \\mid S_1 \\right]\\right]\n",
    "$$\n"
   ]
  },
  {
   "cell_type": "markdown",
   "metadata": {},
   "source": [
    "***\n",
    "\n",
    "### Question 4 [1 point]"
   ]
  },
  {
   "cell_type": "markdown",
   "metadata": {},
   "source": [
    "Using Corollary 1.15, we note that given $S_1$, true risk $R(f_{S_1,k})$ is random with respect to $S_2$,\n",
    "\n",
    "So the sample size is $|S_2| = \\alpha N $\n",
    "\\begin{align*}\n",
    "\\mathbb{P}_{S_2 \\sim D^{\\alpha N}}\\left[\\left| R(f_{S_1,k}) - \\hat{R}_{S_2}(f_{S_1,k}) \\right| \\geq \\epsilon \\mid S_1 \\right]\n",
    "&\\leq 2 \\exp\\left(-2 \\alpha N \\epsilon^2\\right), \n",
    "\\end{align*}"
   ]
  },
  {
   "cell_type": "markdown",
   "metadata": {},
   "source": [
    "***\n",
    "\n",
    "### Question 5 [1 point]"
   ]
  },
  {
   "cell_type": "markdown",
   "metadata": {},
   "source": [
    "We plug in $ \\epsilon + \\sqrt{\\frac{\\log k}{\\alpha N}}$ to $ \\epsilon $ in the previous question:\n",
    "\n",
    "\\begin{align*}\n",
    "\\mathbb{P}\\left[\\left| R(f_{S_1,k}) - \\hat{R}_{S_2}(f_{S_1,k}) \\right| \\geq \\epsilon + \\sqrt{\\frac{\\log k}{\\alpha N}} \\mid S_1 \\right] \n",
    "&\\leq 2 \\exp\\left(-2 \\alpha N \\big({\\epsilon + \\sqrt{\\frac{\\log k}{\\alpha N}}}\\big)^2\\right), \\\\\n",
    "\n",
    "        = 2 \\exp\\left(-2 \\alpha N (\\epsilon^2 + 2 \\epsilon \\sqrt{\\frac{\\log k}{\\alpha N}} + \\frac{\\log k}{\\alpha N})\\right) \\\\\n",
    "\n",
    "    = 2\\exp\\left(-2 \\alpha N \\epsilon^2 \\right) \\exp\\left(-2 \\alpha N \\frac{\\log k}{\\alpha N}\\right) \\exp\\left(-4 \\alpha N \\epsilon \\sqrt{\\frac{\\log k}{\\alpha N}}\\right) \\\\\n",
    "\n",
    "    \\leq 2\\exp\\left(-2 \\alpha N \\epsilon^2 \\right) \\exp\\left(-2 \\log k\\right) = \\frac{2}{k^2} \\exp\\left(-2 \\alpha N \\epsilon^2\\right).\n",
    "\\end{align*} \n",
    "\n",
    "Where we used that \n",
    "$$\n",
    "\\exp\\left(-4 \\alpha N  \\epsilon \\sqrt{\\frac{\\log k}{\\alpha N}}\\right) \\leq 1\n",
    "$$\n",
    "\n"
   ]
  },
  {
   "cell_type": "markdown",
   "metadata": {},
   "source": [
    "***\n",
    "\n",
    "### Question 6 [1 point]\n",
    "WLOG, since $ \\left| R(f_{S_1, k}) - \\hat{R}_{S_2}(f_{S_1, k})\\right|$ is a function of k, we can denote $\\mathbb{R}_k =  \\left| R(f_{S_1, k}) - \\hat{R}_{S_2}(f_{S_1, k})\\right|$\n",
    "\n",
    "By similar logic to (2), we use Boole's inequality:\n",
    "\n",
    "$$\n",
    "\\mathbb{P}\\left\\{ \\sup_{k \\geq 1} \\left( \\mathbb{R}_k - \\sqrt{\\frac{\\log k}{\\alpha N}} \\right) > \\epsilon \\right\\}\n",
    "= \\mathbb{P}\\left[ \\bigcup_{k=1}^\\infty \\left\\{ \\left( \\mathbb{R}_k - \\sqrt{\\frac{\\log k}{\\alpha N}} \\right) > \\epsilon \\right\\} \\right] \\\\\n",
    "\\leq \\sum_{k=1}^\\infty \\mathbb{P}\\left[  \\mathbb{R}_k - \\sqrt{\\frac{\\log k}{\\alpha N}} \\geq \\epsilon \\right]. \\\\\n",
    "= \\sum_{k=1}^\\infty \\mathbb{P}\\left[  \\mathbb{R}_k \\geq \\epsilon + \\sqrt{\\frac{\\log k}{\\alpha N}} \\right].\n",
    "$$\n",
    "\n",
    "Using (3), we note that for each k,\n",
    "$$\n",
    "\\mathbb{P}\\left[  \\mathbb{R}_k \\geq \\epsilon + \\sqrt{\\frac{\\log k}{\\alpha N}} \\right] = \\mathbb{E}_{S_1}\\left[ \\mathbb{P}\\left(  \\mathbb{R}_k \\geq \\epsilon + \\sqrt{\\frac{\\log k}{\\alpha N}} \\mid S_1 \\right) \\right]\n",
    "$$\n",
    "\n",
    "So now we have\n",
    "$$\n",
    "\\mathbb{P}\\left\\{ \\sup_{k \\geq 1} \\left( \\mathbb{R}_k - \\sqrt{\\frac{\\log k}{\\alpha N}} \\right) > \\epsilon \\right\\} \n",
    "\\leq \n",
    "\\sum_{k=1}^\\infty \\mathbb{E}_{S_1}\\left[ \\mathbb{P}\\left(  \\mathbb{R}_k \\geq \\epsilon + \\sqrt{\\frac{\\log k}{\\alpha N}} \\mid S_1 \\right) \\right]\n",
    "$$\n",
    "\n",
    "We showed in (5) that \n",
    "$$\n",
    "\\sum_{k=1}^\\infty \\mathbb{P}\\left[ \\mathbb{R}_k \\geq \\epsilon + \\sqrt{\\frac{\\log k}{\\alpha N}} \\right]\n",
    "\\leq \\sum_{k=1}^\\infty \\frac{2}{k^2} \\exp\\left(-2 \\alpha N \\epsilon^2\\right) \\\\\n",
    "= 2 \\frac{\\pi^2}{6} \\exp\\left(-2 \\alpha N \\epsilon^2\\right) \\\\\n",
    "\\leq 4 \\exp\\left(-2 \\alpha N \\epsilon^2\\right)\n",
    "$$\n",
    "\n",
    "So we have\n",
    "$$\n",
    "\\sum_{k=1}^\\infty \\mathbb{E}_{S_1}\\left[ \\mathbb{P}\\left(  \\mathbb{R}_k \\geq \\epsilon + \\sqrt{\\frac{\\log k}{\\alpha N}} \\mid S_1 \\right) \\right]\\\\\n",
    "= \\mathbb{E}_{S_1}\\left[ \\sum_{k=1}^\\infty \\mathbb{P}\\left( \\mathbb{R}_k \\geq \\epsilon + \\sqrt{\\frac{\\log k}{\\alpha N}} \\right) \\right]\\\\\n",
    "\\leq \n",
    "\\mathbb{E}_{S_1}\\left[ 4 \\exp\\left(-2 \\alpha N \\epsilon^2\\right) \\right]\\\\\n",
    "= 4 \\exp\\left(-2 \\alpha N \\epsilon^2\\right)\n",
    "$$\n",
    "\n",
    "And hence finally\n",
    "$$\n",
    "\\mathbb{P}\\left\\{ \\sup_{k \\geq 1} \\left( \\mathbb{R}_k - \\sqrt{\\frac{\\log k}{\\alpha N}} \\right) > \\epsilon \\right\\} \n",
    "\\leq \n",
    "4 \\exp\\left(-2 \\alpha N \\epsilon^2\\right)\n",
    "$$"
   ]
  },
  {
   "cell_type": "markdown",
   "metadata": {},
   "source": [
    "***\n",
    "\n",
    "### Question 7 [1 point]"
   ]
  },
  {
   "cell_type": "markdown",
   "metadata": {},
   "source": []
  },
  {
   "cell_type": "markdown",
   "metadata": {},
   "source": [
    "***\n",
    "***\n",
    "\n",
    "## Exercise 3: Optimization questions [4.5 points]"
   ]
  },
  {
   "cell_type": "markdown",
   "metadata": {},
   "source": [
    "***\n",
    "\n",
    "### Question 1 [0.5 point]"
   ]
  },
  {
   "cell_type": "markdown",
   "metadata": {},
   "source": [
    "We need to show that for any $x, y \\in \\mathbb{R}^n$ and any $\\lambda \\in [0,1]$,\n",
    "$$\n",
    "\\| \\lambda x + (1-\\lambda) y \\|\n",
    "\\;\\le\\;\n",
    "\\lambda \\|x\\| \\;+\\; (1-\\lambda)\\|y\\|.\n",
    "$$\n",
    "This follows directly from the triangle inequality. Hence, $x \\mapsto \\|x\\|$ is convex."
   ]
  },
  {
   "cell_type": "markdown",
   "metadata": {},
   "source": [
    "***\n",
    "\n",
    "### Question 2 [0.5 point]"
   ]
  },
  {
   "cell_type": "markdown",
   "metadata": {},
   "source": [
    "Proof that g(x) = f(Ax + b) is convex, given f convex:\n",
    "\n",
    "Let $x_1, x_2 \\in \\mathbb{R}^d$ and $\\lambda \\in [0,1]$. Then\n",
    "$$\n",
    "g(\\lambda x_1 + (1-\\lambda)x_2)\n",
    "\\;=\\;\n",
    "f\\bigl(A(\\lambda x_1 + (1-\\lambda)x_2) + b\\bigr)\n",
    "\\;=\\;\n",
    "f\\bigl(\\lambda(Ax_1 + b) + (1-\\lambda)(Ax_2 + b)\\bigr).\n",
    "$$\n",
    "By the convexity of $f$,\n",
    "$$\n",
    "g(\\lambda x_1 + (1-\\lambda)x_2)\n",
    "\\;\\le\\;\n",
    "\\lambda f(Ax_1 + b) \\;+\\; (1-\\lambda) f(Ax_2 + b)\n",
    "\\;=\\;\n",
    "\\lambda\\,g(x_1) \\;+\\; (1-\\lambda)\\,g(x_2).\n",
    "$$\n",
    "Thus $g$ is convex."
   ]
  },
  {
   "cell_type": "markdown",
   "metadata": {},
   "source": [
    "***\n",
    "\n",
    "### Question 3 [0.5 point]"
   ]
  },
  {
   "cell_type": "markdown",
   "metadata": {},
   "source": [
    "Let $x_1, x_2 \\in \\mathbb{R}^n$ and $\\lambda \\in [0,1]$. Then\n",
    "$$\n",
    "h(\\lambda x_1 + (1-\\lambda)x_2)\n",
    "=\n",
    "f_1(\\lambda x_1 + (1-\\lambda)x_2)\n",
    "+\n",
    "f_2(\\lambda x_1 + (1-\\lambda)x_2).\n",
    "$$\n",
    "By the convexity of $f_1$ and $f_2$,\n",
    "$$\n",
    "f_1(\\lambda x_1 + (1-\\lambda)x_2)\n",
    "\\;\\le\\;\n",
    "\\lambda f_1(x_1) + (1-\\lambda)f_1(x_2),\n",
    "$$\n",
    "and similarly for $f_2$. Adding these inequalities,\n",
    "$$\n",
    "h(\\lambda x_1 + (1-\\lambda)x_2)\n",
    "\\;\\le\\;\n",
    "\\lambda \\bigl[f_1(x_1) + f_2(x_1)\\bigr]\n",
    "+ (1-\\lambda)\\bigl[f_1(x_2) + f_2(x_2)\\bigr]\n",
    "=\n",
    "\\lambda\\,h(x_1) + (1-\\lambda)\\,h(x_2).\n",
    "$$\n",
    "Hence, $h$ is convex."
   ]
  },
  {
   "cell_type": "markdown",
   "metadata": {},
   "source": [
    "***\n",
    "\n",
    "### Question 4 [1 point]"
   ]
  },
  {
   "cell_type": "markdown",
   "metadata": {},
   "source": [
    "Proof that\n",
    "$$\n",
    "f(x) \\;=\\; \\frac{1}{n}\\,\\sum_{i=1}^n \\ln\\!\\bigl(1 + \\exp\\!\\bigl(-y_i \\,\\langle x, a_i\\rangle\\bigr)\\bigr)\n",
    "$$\n",
    "\n",
    "\n",
    "First, recall that for a fixed scalar $t$, the function\n",
    "$$\n",
    "g(t) \\;=\\; \\ln\\bigl(1 + e^t\\bigr)\n",
    "$$\n",
    "is convex in $t$ because its second derivative \n",
    "$$\n",
    "g''(t) = \\frac{e^t}{(1 + e^t)^2} > 0 \\forall t\n",
    "$$\n",
    "\n",
    "Next, observe that each term $-y_i\\,\\langle x, a_i\\rangle$ is an affine function of $x$. Composing a convex and nondecreasing function ($g$) with an affine transformation preserves convexity. Thus\n",
    "$$\n",
    "x \\;\\mapsto\\; \\ln\\!\\Bigl(1 + \\exp\\!\\bigl(-y_i\\,\\langle x, a_i\\rangle\\bigr)\\Bigr)\n",
    "$$\n",
    "is convex for each $i$.\n",
    "\n",
    "Finally, $f(x)$ is just the average of these $n$ convex functions:\n",
    "$$\n",
    "f(x) \\;=\\; \\frac{1}{n} \\sum_{i=1}^n \\ln\\!\\bigl(1 + \\exp(-y_i\\,\\langle x, a_i\\rangle)\\bigr).\n",
    "$$\n",
    "An average (or sum) of convex functions is also convex. Therefore, $f$ is convex.\n"
   ]
  },
  {
   "cell_type": "markdown",
   "metadata": {},
   "source": [
    "***\n",
    "\n",
    "### Question 5 [1 point]"
   ]
  },
  {
   "cell_type": "markdown",
   "metadata": {},
   "source": [
    "Prove $ \\lambda_{\\min}(A^\\top A) $ strong convexity of\n",
    "$$\n",
    "f(x) \\;=\\; \\tfrac{1}{2}\\,\\|\\,A x - b\\,\\|_2^2\n",
    "$$\n",
    "\n",
    "First, recall the Hessian characterization of strong convexity. A twice-differentiable function\n",
    "$f : \\mathbb{R}^d \\to \\mathbb{R}$ is $\\mu$-strongly convex if its Hessian satisfies\n",
    "$\\nabla^2 f(x) \\succeq \\mu I$ for all $x \\in \\mathbb{R}^d$, i.e., every eigenvalue of\n",
    "$\\nabla^2 f(x)$ is at least $\\mu$.\n",
    "\n",
    "We have\n",
    "$$\n",
    "f(x) \n",
    "\\;=\\;\n",
    "\\tfrac{1}{2}\\,\\|\\,A x - b\\,\\|_2^2\n",
    "\\;=\\;\n",
    "\\tfrac{1}{2}\\,\\bigl(Ax - b\\bigr)^\\top \\bigl(Ax - b\\bigr).\n",
    "$$\n",
    "A straightforward calculation shows that\n",
    "$$\n",
    "\\nabla^2 f(x)\n",
    "\\;=\\;\n",
    "A^\\top A\n",
    "\\quad\n",
    "\\text{for all }x.\n",
    "$$\n",
    "Since $A \\in \\mathbb{R}^{n \\times d}$ has full column rank, $A^\\top A$ is a positive-definite\n",
    "$d\\times d$ matrix. Therefore, its smallest eigenvalue is strictly positive:\n",
    "$\\lambda_{\\min}\\!\\bigl(A^\\top A\\bigr) > 0$.\n",
    "Hence,\n",
    "$$\n",
    "\\nabla^2 f(x) \\;\\succeq\\; \\lambda_{\\min}\\bigl(A^\\top A\\bigr)\\,I.\n",
    "$$\n",
    "By the Hessian condition for strong convexity, this implies that $f$ is\n",
    "$\\lambda_{\\min}(A^\\top A)$-strongly convex. In other words, for all $x,y \\in \\mathbb{R}^d$,\n",
    "$$\n",
    "f(y) \n",
    "\\;\\ge\\; \n",
    "f(x) \n",
    "\\;+\\;\n",
    "\\langle\\nabla f(x),\\,y - x\\rangle \n",
    "\\;+\\;\n",
    "\\frac{\\lambda_{\\min}(A^\\top A)}{2}\\,\\|\\,y - x\\,\\|_2^2.\n",
    "$$\n"
   ]
  },
  {
   "cell_type": "markdown",
   "metadata": {},
   "source": [
    "***\n",
    "\n",
    "### Question 6 [1 point]"
   ]
  },
  {
   "cell_type": "markdown",
   "metadata": {},
   "source": [
    "Proof that \n",
    "$$\n",
    "f(x) - f(x_*) \\;\\le\\;\\tfrac{1}{2\\mu}\\,\\|\\nabla f(x)\\|_2^2\\text{, where }x_*\\text{ is the unique minimizer of }f\\text{:}\n",
    "$$\n",
    "\n",
    "From the $\\mu$-strong convexity condition,\n",
    "$$\n",
    "f(y)\n",
    "\\;\\ge\\;\n",
    "f(x) \\;+\\;\\langle\\nabla f(x),\\,y - x\\rangle\n",
    "\\;+\\;\\frac{\\mu}{2}\\,\\|y - x\\|_2^2\n",
    "\\quad\n",
    "\\text{for all }x, y \\in \\mathbb{R}^d.\n",
    "$$\n",
    "Taking $y = x_*$ (the global minimizer) gives\n",
    "$$\n",
    "f(x_*) \n",
    "\\;\\ge\\;\n",
    "f(x) \n",
    "\\;+\\;\n",
    "\\langle \\nabla f(x),\\, x_* - x\\rangle \n",
    "\\;+\\;\n",
    "\\frac{\\mu}{2}\\,\\|\\,x_* - x\\,\\|_2^2.\n",
    "$$\n",
    "Rearranging,\n",
    "$$\n",
    "f(x) - f(x_*)\n",
    "\\;\\le\\;\n",
    "\\langle \\nabla f(x),\\, x - x_*\\rangle\n",
    "\\;-\\;\n",
    "\\frac{\\mu}{2}\\,\\|\\,x - x_*\\|_2^2.\n",
    "$$\n",
    "\n",
    "To bound the right-hand side, note that by the Cauchy–Schwarz inequality,\n",
    "$$\n",
    "\\bigl\\langle \\nabla f(x),\\, x - x_*\\bigr\\rangle\n",
    "\\;\\le\\;\n",
    "\\|\\nabla f(x)\\|_2 \\;\\|\\;x - x_*\\|_2.\n",
    "$$\n",
    "Thus\n",
    "$$\n",
    "f(x) - f(x_* )\n",
    "\\;\\le\\;\n",
    "\\|\\nabla f(x)\\|_2\\,\\|\\,x - x_*\\|_2 \n",
    "\\;-\\;\n",
    "\\tfrac{\\mu}{2}\\,\\|\\,x - x_*\\|_2^2.\n",
    "$$\n",
    "Consider the scalar function\n",
    "$$\n",
    "g(t)\n",
    "\\;=\\;\n",
    "\\alpha\\,t \\;-\\; \\tfrac{\\mu}{2}\\,t^2\n",
    "\\quad\\text{where } \\alpha = \\|\\nabla f(x)\\|_2\n",
    "\\text{ and } t = \\|\\,x - x_*\\|_2 \\ge 0.\n",
    "$$\n",
    "A simple quadratic analysis shows that \n",
    "$$\n",
    "\\max_{t\\ge0} g(t) = \\frac{\\alpha^2}{2\\mu}\n",
    "$$\n",
    "Therefore,\n",
    "$$\n",
    "f(x) - f(x_*)\n",
    "\\;\\le\\;\n",
    "\\max_{t\\ge0}\\bigl[\\alpha\\,t - \\tfrac{\\mu}{2}\\,t^2\\bigr]\n",
    "\\;=\\;\n",
    "\\frac{\\|\\nabla f(x)\\|_2^2}{2\\,\\mu}.\n",
    "$$\n",
    "\n",
    "\n",
    "\n",
    "Alternatively, one can use the hint\n",
    "$$\n",
    "\\|a + b\\|_2^2 \\;=\\;\\|a\\|_2^2 + 2\\,\\langle a, b\\rangle + \\|b\\|_2^2\n",
    "$$\n",
    "by setting\n",
    "$$\n",
    "a \\;=\\;\\sqrt{\\mu}\\,\\bigl(x - x_*\\bigr),\n",
    "\\quad\n",
    "b \\;=\\;-\\;\\frac{1}{\\sqrt{\\mu}}\\,\\nabla f(x),\n",
    "$$\n",
    "and rewriting the above expression as a perfect square minus\n",
    "$$\n",
    "\\frac{1}{2\\mu}\\|\\nabla f(x)\\|_2^2.\n",
    "$$\n",
    "Either way, the result is:\n",
    "$$\n",
    "f(x) - f(x_* )\n",
    "\\;\\le\\;\n",
    "\\frac{1}{2\\,\\mu}\\,\\|\\nabla f(x)\\|_2^2.\n",
    "$$\n"
   ]
  },
  {
   "cell_type": "markdown",
   "metadata": {},
   "source": [
    "***\n",
    "***\n",
    "\n",
    "## Exercise 2: Gradient descent and linear regression [5.5 points]"
   ]
  },
  {
   "cell_type": "code",
   "execution_count": 1,
   "metadata": {},
   "outputs": [],
   "source": [
    "import matplotlib.pyplot as plt\n",
    "import numpy as np\n",
    "import torch\n",
    "%matplotlib inline\n",
    "from sklearn import datasets\n",
    "\n",
    "# Load the diabetes dataset\n",
    "diabetes = datasets.load_diabetes()\n",
    "\n",
    "X = torch.tensor(diabetes.data)\n",
    "Y = torch.tensor(diabetes.target)"
   ]
  },
  {
   "cell_type": "code",
   "execution_count": 2,
   "metadata": {},
   "outputs": [
    {
     "name": "stdout",
     "output_type": "stream",
     "text": [
      "442 10\n"
     ]
    }
   ],
   "source": [
    "N, p = X.shape\n",
    "print(N, p)"
   ]
  },
  {
   "cell_type": "markdown",
   "metadata": {},
   "source": [
    "***\n",
    "### Question 1 [0.5 point]"
   ]
  },
  {
   "cell_type": "markdown",
   "metadata": {},
   "source": [
    "To add the intercept c, we simply augment a column of ones to X. Since $ \\theta = ( \\beta, c ) $, we are adding ones to the last column"
   ]
  },
  {
   "cell_type": "code",
   "execution_count": 3,
   "metadata": {},
   "outputs": [
    {
     "name": "stdout",
     "output_type": "stream",
     "text": [
      "torch.Size([442, 11])\n"
     ]
    }
   ],
   "source": [
    "# augment a column of ones to the data matrix\n",
    "X = torch.cat((X, torch.ones(N, 1)), dim=1)\n",
    "print(X.shape)"
   ]
  },
  {
   "cell_type": "markdown",
   "metadata": {},
   "source": [
    "***\n",
    "### Question 2 [0.5 point]"
   ]
  },
  {
   "cell_type": "code",
   "execution_count": 4,
   "metadata": {},
   "outputs": [
    {
     "data": {
      "text/plain": [
       "(torch.Size([353, 11]),\n",
       " torch.Size([353]),\n",
       " torch.Size([89, 11]),\n",
       " torch.Size([89]))"
      ]
     },
     "execution_count": 4,
     "metadata": {},
     "output_type": "execute_result"
    }
   ],
   "source": [
    "# Using torch.randperm, perform a random dataset split with 80% = 353 of the data for training and 20% = 89 for testing\n",
    "N_train = int(0.8 * N)\n",
    "N_test = N - N_train\n",
    "indices = torch.randperm(N)\n",
    "train_indices = indices[:N_train]\n",
    "test_indices = indices[N_train:]\n",
    "\n",
    "X_train = X[train_indices]\n",
    "Y_train = Y[train_indices]\n",
    "X_test = X[test_indices]\n",
    "Y_test = Y[test_indices]\n",
    "X_train.shape, Y_train.shape, X_test.shape, Y_test.shape\n"
   ]
  },
  {
   "cell_type": "markdown",
   "metadata": {},
   "source": [
    "***\n",
    "### Question 3 [0.5 point]"
   ]
  },
  {
   "cell_type": "code",
   "execution_count": 5,
   "metadata": {},
   "outputs": [
    {
     "name": "stdout",
     "output_type": "stream",
     "text": [
      "tensor([ -24.7233, -253.0091,  524.6675,  281.0577, -778.5923,  478.7222,\n",
      "         -11.8481,  103.7372,  828.2289,   18.2041,  150.1348],\n",
      "       dtype=torch.float64)\n",
      "Testing Mean Squared Error: 3396.9595258326826\n"
     ]
    }
   ],
   "source": [
    "# Compute the least squares solution\n",
    "theta_LS = torch.linalg.inv(X_train.T @ X_train) @ X_train.T @ Y_train\n",
    "print(theta_LS)\n",
    "# Predict on the test set\n",
    "Y_pred = X_test @ theta_LS\n",
    "\n",
    "# Compute the mean squared error on the test set\n",
    "mse_LS = torch.mean((Y_test - Y_pred) ** 2)\n",
    "print(f'Testing Mean Squared Error: {mse_LS.item()}')"
   ]
  },
  {
   "cell_type": "markdown",
   "metadata": {},
   "source": [
    "***\n",
    "### Question 4 [1 point]"
   ]
  },
  {
   "cell_type": "code",
   "execution_count": 6,
   "metadata": {},
   "outputs": [
    {
     "name": "stderr",
     "output_type": "stream",
     "text": [
      "/tmp/ipykernel_158522/3084654924.py:26: RuntimeWarning: invalid value encountered in log\n",
      "  axes[1].plot(range(epochs), np.log(np.array(training_errors) - mse_LS.item()))\n"
     ]
    },
    {
     "data": {
      "image/png": "[encoded data removed]",
      "text/plain": [
       "<Figure size 800x400 with 2 Axes>"
      ]
     },
     "metadata": {},
     "output_type": "display_data"
    },
    {
     "name": "stdout",
     "output_type": "stream",
     "text": [
      "Testing Mean Squared Error (Gradient Descent): 3292.0913010278946\n",
      "Testing Mean Squared Error (Least Squares): 3396.9595258326826\n"
     ]
    }
   ],
   "source": [
    "theta = torch.zeros(p + 1, dtype=torch.float64) # initialize the parameters to zeros\n",
    "learning_rate = 0.1\n",
    "epochs = 10**4\n",
    "training_errors = [] # store the training error for each epoch\n",
    "\n",
    "for epoch in range(epochs):\n",
    "    Y_train_pred = X_train @ theta\n",
    "    error = Y_train_pred - Y_train\n",
    "    gradient = (X_train.T @ error) / N_train\n",
    "    theta -= learning_rate * gradient\n",
    "    \n",
    "    # Compute training error (mean squared error)\n",
    "    training_error = torch.mean(error ** 2)\n",
    "    training_errors.append(training_error.item())\n",
    "\n",
    "# plot both training error and log training error for better visualization\n",
    "fig, axes = plt.subplots(1, 2, figsize=(8, 4))  # 1 row, 2 columns\n",
    "\n",
    "# First plot: Training Error vs Epochs\n",
    "axes[0].plot(range(epochs), training_errors)\n",
    "axes[0].set_xlabel('Epochs')\n",
    "axes[0].set_ylabel('Training Error (MSE)')\n",
    "axes[0].set_title('Training Error vs. Number of Epochs')\n",
    "\n",
    "# Second plot: Log (Training Error - theta_LS)vs Epochs\n",
    "axes[1].plot(range(epochs), np.log(np.array(training_errors) - mse_LS.item()))\n",
    "axes[1].set_xlabel('Epochs')\n",
    "axes[1].set_ylabel('Log Training Error')\n",
    "axes[1].set_title('Log Training Error vs. Number of Epochs')\n",
    "\n",
    "# Show the plots\n",
    "plt.tight_layout()  # Adjust layout for better spacing\n",
    "plt.show()\n",
    "\n",
    "# Predict on the test set using gradient descent parameters\n",
    "Y_test_pred_gd = X_test @ theta\n",
    "\n",
    "# Compute the mean squared error\n",
    "mse_gd = torch.mean((Y_test - Y_test_pred_gd) ** 2)\n",
    "print(f'Testing Mean Squared Error (Gradient Descent): {mse_gd.item()}')\n",
    "print(f'Testing Mean Squared Error (Least Squares): {mse_LS.item()}')"
   ]
  },
  {
   "cell_type": "markdown",
   "metadata": {},
   "source": [
    "***\n",
    "### Question 5 [0.5 point]"
   ]
  },
  {
   "cell_type": "markdown",
   "metadata": {},
   "source": [
    "$$\n",
    "x_{\\mathrm{reg}} = \\left(A^\\top A + \\lambda I\\right)^{-1} A^\\top b\n",
    "$$\n"
   ]
  },
  {
   "cell_type": "markdown",
   "metadata": {},
   "source": [
    "***\n",
    "### Question 6 [0.5 point]"
   ]
  },
  {
   "cell_type": "code",
   "execution_count": 16,
   "metadata": {},
   "outputs": [
    {
     "data": {
      "text/plain": [
       "(torch.Size([800, 1000]),\n",
       " torch.Size([800, 1]),\n",
       " torch.Size([200, 1000]),\n",
       " torch.Size([200, 1]))"
      ]
     },
     "execution_count": 16,
     "metadata": {},
     "output_type": "execute_result"
    }
   ],
   "source": [
    "import pandas as pd\n",
    "import torch\n",
    "\n",
    "# no header row, all rows are data\n",
    "A = pd.read_csv('A.csv', header=None)\n",
    "B = pd.read_csv('b.csv', header=None)\n",
    "\n",
    "# Convert the dataframes to torch tensors\n",
    "A_tensor = torch.tensor(A.values, dtype=torch.float64)\n",
    "B_tensor = torch.tensor(B.values, dtype=torch.float64)\n",
    "\n",
    "# Perform a random dataset split with 80% for training and 20% for testing\n",
    "N = A_tensor.shape[0]\n",
    "N_train = int(0.8 * N)\n",
    "N_test = N - N_train\n",
    "# fix torch seed\n",
    "torch.manual_seed(0)\n",
    "indices = torch.randperm(N)\n",
    "train_indices = indices[:N_train]\n",
    "test_indices = indices[N_train:]\n",
    "\n",
    "X_train = A_tensor[train_indices]\n",
    "Y_train = B_tensor[train_indices]\n",
    "X_test = A_tensor[test_indices]\n",
    "Y_test = B_tensor[test_indices]\n",
    "X_train.shape, Y_train.shape, X_test.shape, Y_test.shape\n",
    "\n"
   ]
  },
  {
   "cell_type": "code",
   "execution_count": 17,
   "metadata": {},
   "outputs": [
    {
     "name": "stdout",
     "output_type": "stream",
     "text": [
      "Testing Mean Squared Error: 0.4098599229092269\n"
     ]
    }
   ],
   "source": [
    "# We cannot directly invert the matrix X_train.T @ X_train because it is ill-conditioned, almost singular\n",
    "theta_LS = torch.linalg.lstsq(X_train, Y_train).solution\n",
    "# Predict on the test set\n",
    "Y_pred = X_test @ theta_LS\n",
    "\n",
    "# Compute the mean squared error on the test set\n",
    "mse_LS = torch.mean((Y_test - Y_pred) ** 2)\n",
    "print(f'Testing Mean Squared Error: {mse_LS.item()}')"
   ]
  },
  {
   "cell_type": "code",
   "execution_count": 18,
   "metadata": {},
   "outputs": [
    {
     "data": {
      "text/plain": [
       "9.352128858393903e-09"
      ]
     },
     "execution_count": 18,
     "metadata": {},
     "output_type": "execute_result"
    }
   ],
   "source": [
    "# check with ridge\n",
    "# put everything on cpu\n",
    "X_train = X_train.to('cpu')\n",
    "Y_train = Y_train.to('cpu')\n",
    "X_test = X_test.to('cpu')\n",
    "Y_test = Y_test.to('cpu')\n",
    "theta_LS2 = torch.linalg.inv(X_train.T @ X_train + 1e-9  * torch.eye(X_train.shape[1])) @ X_train.T @ Y_train\n",
    "Y_pred = X_test @ theta_LS2\n",
    "mse_LS2 = torch.mean((Y_test - Y_pred) ** 2)\n",
    "mse_LS2.item()"
   ]
  },
  {
   "cell_type": "markdown",
   "metadata": {},
   "source": [
    "***\n",
    "### Question 7 [1 point]"
   ]
  },
  {
   "cell_type": "code",
   "execution_count": null,
   "metadata": {},
   "outputs": [
    {
     "data": {
      "image/png": "[encoded data removed]",
      "text/plain": [
       "<Figure size 640x480 with 1 Axes>"
      ]
     },
     "metadata": {},
     "output_type": "display_data"
    },
    {
     "name": "stdout",
     "output_type": "stream",
     "text": [
      "Testing Mean Squared Error (Ridge Regression): 0.48185444942377126\n"
     ]
    }
   ],
   "source": [
    "import torch\n",
    "import matplotlib.pyplot as plt\n",
    "\n",
    "# Assuming X_train, Y_train, X_test, Y_test are already defined\n",
    "\n",
    "# Check for CUDA availability\n",
    "device = torch.device(\"cuda\" if torch.cuda.is_available() else \"cpu\")\n",
    "\n",
    "# Move data to the appropriate device\n",
    "X_train = X_train.to(device)\n",
    "Y_train = Y_train.to(device)\n",
    "X_test = X_test.to(device)\n",
    "Y_test = Y_test.to(device)\n",
    "\n",
    "N, p = X_train.shape\n",
    "lambda_val = 0.0  # Only one lambda value\n",
    "\n",
    "# Initialize the parameters to zeros\n",
    "theta_ridge = torch.zeros(p, dtype=torch.float64, requires_grad=True, device=device)\n",
    "learning_rate = 0.1\n",
    "epochs = 1000\n",
    "\n",
    "# Store the training errors for each epoch\n",
    "training_errors_ridge = []\n",
    "\n",
    "# Perform gradient descent\n",
    "for epoch in range(epochs):\n",
    "    # Zero the gradients\n",
    "    if theta_ridge.grad is not None:\n",
    "        theta_ridge.grad.zero_()\n",
    "\n",
    "    Y_train_pred_ridge = X_train @ theta_ridge\n",
    "\n",
    "    # Compute the loss (mean squared error with ridge regularization)\n",
    "    # loss = torch.norm(X_train @ theta_ridge - Y_train, p=2)**2 + lambda_val * torch.norm(theta_ridge, p=2)**2\n",
    "    loss = torch.mean((Y_train_pred_ridge - Y_train) ** 2) + lambda_val * torch.sum(theta_ridge ** 2)\n",
    "    loss.backward()  # Backpropagate the loss\n",
    "\n",
    "    # Update the parameters\n",
    "    with torch.no_grad():\n",
    "        theta_ridge -= learning_rate * theta_ridge.grad\n",
    "\n",
    "    # Store the training error (mean squared error)\n",
    "    training_errors_ridge.append(loss.item())\n",
    "\n",
    "# Plot the training error for ridge regression\n",
    "plt.plot(range(epochs), training_errors_ridge)\n",
    "plt.xlabel('Epochs')\n",
    "plt.ylabel('Training Error (MSE)')\n",
    "plt.title('Training Error vs. Number of Epochs (Ridge Regression)')\n",
    "plt.yscale('log')  # Use log scale for better visualization\n",
    "plt.show()\n",
    "\n",
    "# Predict on the test set using ridge regression parameters\n",
    "Y_test_pred_ridge = X_test @ theta_ridge\n",
    "\n",
    "# Compute the mean squared error on the test set\n",
    "mse_ridge = torch.mean((Y_test - Y_test_pred_ridge) ** 2)\n",
    "print(f'Testing Mean Squared Error (Ridge Regression): {mse_ridge.item()}')"
   ]
  },
  {
   "cell_type": "markdown",
   "metadata": {},
   "source": [
    "***\n",
    "### Question 8 [1 point]"
   ]
  },
  {
   "cell_type": "code",
   "execution_count": 10,
   "metadata": {},
   "outputs": [
    {
     "name": "stdout",
     "output_type": "stream",
     "text": [
      "cuda\n"
     ]
    },
    {
     "data": {
      "image/png": "[encoded data removed]",
      "text/plain": [
       "<Figure size 640x480 with 1 Axes>"
      ]
     },
     "metadata": {},
     "output_type": "display_data"
    }
   ],
   "source": [
    "import torch\n",
    "import numpy as np\n",
    "import matplotlib.pyplot as plt\n",
    "\n",
    "# Check for CUDA availability\n",
    "device = torch.device(\"cuda\" if torch.cuda.is_available() else \"cpu\")\n",
    "print(device)\n",
    "\n",
    "# Define the range of lambda values in log scale\n",
    "lambda_values = np.logspace(-8, 0, num=50)\n",
    "\n",
    "# Initialize a list to store the testing errors for each lambda\n",
    "testing_errors_ridge = []\n",
    "\n",
    "# Move data to the appropriate device\n",
    "X_train = X_train.to(device)\n",
    "Y_train = Y_train.to(device)\n",
    "X_test = X_test.to(device)\n",
    "Y_test = Y_test.to(device)\n",
    "\n",
    "# Loop over each lambda value\n",
    "for lambda_val in lambda_values:\n",
    "    # Initialize the parameters to zeros\n",
    "    theta_ridge = torch.zeros(p, dtype=torch.float64, requires_grad=True, device=device)\n",
    "    learning_rate = 0.1\n",
    "    epochs = 1000\n",
    "\n",
    "    # Perform gradient descent\n",
    "    for epoch in range(epochs):\n",
    "        # Zero the gradients\n",
    "        if theta_ridge.grad is not None:\n",
    "            theta_ridge.grad.zero_()\n",
    "        \n",
    "        Y_train_pred_ridge = X_train @ theta_ridge\n",
    "        \n",
    "        # Compute the loss (mean squared error with ridge regularization)\n",
    "        loss = torch.mean((Y_train_pred_ridge - Y_train) ** 2) + lambda_val * torch.sum(theta_ridge ** 2)\n",
    "        loss.backward()  # Backpropagate the loss\n",
    "        \n",
    "        # Update the parameters\n",
    "        with torch.no_grad():\n",
    "            theta_ridge -= learning_rate * theta_ridge.grad\n",
    "    \n",
    "    # Predict on the test set using ridge regression parameters\n",
    "    Y_test_pred_ridge = X_test @ theta_ridge\n",
    "\n",
    "    # Compute the mean squared error on the test set\n",
    "    mse_ridge = torch.mean((Y_test - Y_test_pred_ridge) ** 2)\n",
    "    testing_errors_ridge.append(mse_ridge.item())\n",
    "\n",
    "# Move testing errors back to CPU for plotting\n",
    "lambda_values = np.array(lambda_values)\n",
    "testing_errors_ridge = np.array(testing_errors_ridge)\n",
    "\n",
    "# Plot the testing error as a function of lambda\n",
    "plt.plot(lambda_values, testing_errors_ridge, marker='o')\n",
    "plt.xscale('log')\n",
    "plt.xlabel('Lambda')\n",
    "plt.ylabel('Testing Error (MSE)')\n",
    "plt.title('Testing Error vs. Lambda (Ridge Regression)')\n",
    "plt.show()\n"
   ]
  },
  {
   "cell_type": "markdown",
   "metadata": {},
   "source": [
    "Based on this plot, we notice it is pretty much monotonically decreasing on lambda. \n",
    "\n",
    "The plot suggests that we should choose $ \\lambda = 1$\n",
    "\n",
    "This makes sense because the 1000 features that we have involve a lot of multicollinearity, making $ X^T X $ ill-conditioned and almost singular. \n",
    "\n",
    "Adding some ridge penalty will introduce some bias but reduces variance, improving generalization on the testing data, which is unseen."
   ]
  },
  {
   "cell_type": "code",
   "execution_count": 11,
   "metadata": {},
   "outputs": [
    {
     "data": {
      "text/plain": [
       "[<matplotlib.lines.Line2D at 0x7fc07027b160>]"
      ]
     },
     "execution_count": 11,
     "metadata": {},
     "output_type": "execute_result"
    },
    {
     "data": {
      "image/png": "[encoded data removed]",
      "text/plain": [
       "<Figure size 640x480 with 1 Axes>"
      ]
     },
     "metadata": {},
     "output_type": "display_data"
    }
   ],
   "source": [
    "plt.plot(theta_LS.cpu(), label='Least Squares')"
   ]
  },
  {
   "cell_type": "code",
   "execution_count": null,
   "metadata": {},
   "outputs": [],
   "source": []
  }
 ],
 "metadata": {
  "kernelspec": {
   "display_name": "ml_venv",
   "language": "python",
   "name": "python3"
  },
  "language_info": {
   "codemirror_mode": {
    "name": "ipython",
    "version": 3
   },
   "file_extension": ".py",
   "mimetype": "text/x-python",
   "name": "python",
   "nbconvert_exporter": "python",
   "pygments_lexer": "ipython3",
   "version": "3.9.19"
  }
 },
 "nbformat": 4,
 "nbformat_minor": 2
}
