{
 "cells": [
  {
   "cell_type": "markdown",
   "metadata": {},
   "source": [
    "# Coursework 1 - Mathematics for Machine Learning"
   ]
  },
  {
   "cell_type": "markdown",
   "metadata": {},
   "source": [
    "## CID: 02056823\n",
    "\n",
    "**Colab link:** insert colab link here\n",
    "\n",
    "***\n",
    "***"
   ]
  },
  {
   "cell_type": "markdown",
   "metadata": {},
   "source": [
    "## Exercise 1: Quick questions [3 points]"
   ]
  },
  {
   "cell_type": "markdown",
   "metadata": {},
   "source": [
    "#### Question 1:\n",
    "\n",
    "Risk: The expected loss over the true data distribution.\n",
    "\n",
    "Empirical risk: The average loss over the training dataset (a finite sample)."
   ]
  },
  {
   "cell_type": "markdown",
   "metadata": {},
   "source": [
    "#### Question 2:\n",
    "\n",
    "Generalization error: The difference between the model's performance on unseen data and the true data distribution.\n",
    "\n",
    "Training error: The error computed on the training dataset."
   ]
  },
  {
   "cell_type": "markdown",
   "metadata": {},
   "source": [
    "#### Question 3:\n",
    "\n",
    "Independence ensures that the probability bounds hold when summing random variables, which is key for the inequality's validity."
   ]
  },
  {
   "cell_type": "markdown",
   "metadata": {},
   "source": [
    "#### Question 4:\n",
    "\n",
    "Use a single dataset split into training, validation, and test sets. \n",
    "\n",
    "Train both hypothesis classes on the training set and compare their performance on the test set."
   ]
  },
  {
   "cell_type": "markdown",
   "metadata": {},
   "source": [
    "#### Question 5:\n",
    "\n",
    "Rademacher complexity provides a data-dependent measure of a hypothesis class's capacity, leading to tighter generalization bounds compared to worst-case bounds."
   ]
  },
  {
   "cell_type": "markdown",
   "metadata": {},
   "source": [
    "#### Question 6:\n",
    "\n",
    "Momentum accelerates convergence by adding a fraction of the previous update to the current gradient, helping to overcome small gradients and oscillations in the optimization path."
   ]
  },
  {
   "cell_type": "markdown",
   "metadata": {},
   "source": [
    "*** \n",
    "***\n",
    "\n",
    "## Exercise 2: Statistical learning theory [7 points]"
   ]
  },
  {
   "cell_type": "markdown",
   "metadata": {},
   "source": [
    "\n",
    "### Question 1 [1 point]\n"
   ]
  },
  {
   "cell_type": "markdown",
   "metadata": {},
   "source": [
    "$$\n",
    "f_{S_1, k} := \\arg \\min_{f \\in \\mathcal{F}_k} \\mathbb{E}_{(x, y) \\sim D^{ (1 - \\alpha) N }}[L(f(x), y)] \n",
    "$$"
   ]
  },
  {
   "cell_type": "markdown",
   "metadata": {},
   "source": [
    "***\n",
    "\n",
    "### Question 2 [1 point]"
   ]
  },
  {
   "cell_type": "markdown",
   "metadata": {},
   "source": [
    "By Boole's inequality,\n",
    "\\begin{align*}\n",
    "\\mathbb{P}\\left[ \\sup_{k \\geq 1} \\left| R(f_{S_1, k}) - \\hat{R}_{S_2}(f_{S_1, k}) \\right| \\geq \\epsilon \\right]\n",
    "&= \\mathbb{P}\\left[ \\bigcup_{k=1}^\\infty \\left\\{ \\left| R(f_{S_1, k}) - \\hat{R}_{S_2}(f_{S_1, k}) \\right| \\geq \\epsilon \\right\\} \\right] \\\\\n",
    "&\\leq \\sum_{k=1}^\\infty \\mathbb{P}\\left[ \\left| R(f_{S_1, k}) - \\hat{R}_{S_2}(f_{S_1, k}) \\right| \\geq \\epsilon \\right].\n",
    "\\end{align*}"
   ]
  },
  {
   "cell_type": "markdown",
   "metadata": {},
   "source": [
    "***\n",
    "\n",
    "### Question 3 [1 point]"
   ]
  },
  {
   "cell_type": "markdown",
   "metadata": {},
   "source": [
    "By law of total expectation,\n",
    "$$\n",
    "\\mathbb{P}(A) = \\mathbb{E}[1_A] = \\mathbb{E}_B \\left[\\mathbb{P}(A \\mid B)\\right]\n",
    "$$\n",
    "\n",
    "Where A is the event $\\left[\\left| R(f_{S_1,k}) - \\hat{R}_{S_2}(f_{S_1,k}) \\right| \\geq \\epsilon \\right] $, and B is random sample $S_1$.\n",
    "\n",
    "Hence\n",
    "$$\n",
    "\\mathbb{P}\\left[\\left| R(f_{S_1,k}) - \\hat{R}_{S_2}(f_{S_1,k}) \\right| \\geq \\epsilon \\right] \n",
    "= \n",
    "\\mathbb{E}\\left[1_{\\left\\{\\left| R(f_{S_1,k}) - \\hat{R}_{S_2}(f_{S_1,k}) \\right| \\geq \\epsilon\\right\\}}\\right] \\\\\n",
    "=\n",
    "\\mathbb{E}_{S_1}\\left[\\mathbb{E}_{S_2}\\left[1_{\\left\\{\\left| R(f_{S_1,k}) - \\hat{R}_{S_2}(f_{S_1,k}) \\right| \\geq \\epsilon\\right\\}} \\mid S_1 \\right]\\right]\\\\\n",
    "\n",
    "= \n",
    "\\mathbb{E}_{S_1}\\left[\\mathbb{P}_{S_2}\\left[\\left| R(f_{S_1,k}) - \\hat{R}_{S_2}(f_{S_1,k}) \\right| \\geq \\epsilon \\mid S_1 \\right]\\right]\n",
    "$$\n"
   ]
  },
  {
   "cell_type": "markdown",
   "metadata": {},
   "source": [
    "***\n",
    "\n",
    "### Question 4 [1 point]"
   ]
  },
  {
   "cell_type": "markdown",
   "metadata": {},
   "source": [
    "Using Corollary 1.15, we note that given $S_1$, true risk $R(f_{S_1,k})$ is random with respect to $S_2$,\n",
    "\n",
    "So the sample size is $|S_2| = \\alpha N $\n",
    "\\begin{align*}\n",
    "\\mathbb{P}_{S_2 \\sim D^{\\alpha N}}\\left[\\left| R(f_{S_1,k}) - \\hat{R}_{S_2}(f_{S_1,k}) \\right| \\geq \\epsilon \\mid S_1 \\right]\n",
    "&\\leq 2 \\exp\\left(-2 \\alpha N \\epsilon^2\\right), \n",
    "\\end{align*}"
   ]
  },
  {
   "cell_type": "markdown",
   "metadata": {},
   "source": [
    "***\n",
    "\n",
    "### Question 5 [1 point]"
   ]
  },
  {
   "cell_type": "markdown",
   "metadata": {},
   "source": [
    "We plug in $ \\epsilon + \\sqrt{\\frac{\\log k}{\\alpha N}}$ to $ \\epsilon $ in the previous question:\n",
    "\n",
    "\\begin{align*}\n",
    "\\mathbb{P}\\left[\\left| R(f_{S_1,k}) - \\hat{R}_{S_2}(f_{S_1,k}) \\right| \\geq \\epsilon + \\sqrt{\\frac{\\log k}{\\alpha N}} \\mid S_1 \\right] \n",
    "&\\leq 2 \\exp\\left(-2 \\alpha N \\big({\\epsilon + \\sqrt{\\frac{\\log k}{\\alpha N}}}\\big)^2\\right), \\\\\n",
    "\n",
    "        = 2 \\exp\\left(-2 \\alpha N (\\epsilon^2 + 2 \\epsilon \\sqrt{\\frac{\\log k}{\\alpha N}} + \\frac{\\log k}{\\alpha N})\\right) \\\\\n",
    "\n",
    "    = 2\\exp\\left(-2 \\alpha N \\epsilon^2 \\right) \\exp\\left(-2 \\alpha N \\frac{\\log k}{\\alpha N}\\right) \\exp\\left(-4 \\alpha N \\epsilon \\sqrt{\\frac{\\log k}{\\alpha N}}\\right) \\\\\n",
    "\n",
    "    \\leq 2\\exp\\left(-2 \\alpha N \\epsilon^2 \\right) \\exp\\left(-2 \\log k\\right) = \\frac{2}{k^2} \\exp\\left(-2 \\alpha N \\epsilon^2\\right).\n",
    "\\end{align*} \n",
    "\n",
    "Where we used that \n",
    "$$\n",
    "\\exp\\left(-4 \\alpha N  \\epsilon \\sqrt{\\frac{\\log k}{\\alpha N}}\\right) \\leq 1\n",
    "$$\n",
    "\n"
   ]
  },
  {
   "cell_type": "markdown",
   "metadata": {},
   "source": [
    "***\n",
    "\n",
    "### Question 6 [1 point]"
   ]
  },
  {
   "cell_type": "markdown",
   "metadata": {},
   "source": []
  },
  {
   "cell_type": "markdown",
   "metadata": {},
   "source": [
    "***\n",
    "\n",
    "### Question 7 [1 point]"
   ]
  },
  {
   "cell_type": "markdown",
   "metadata": {},
   "source": []
  },
  {
   "cell_type": "markdown",
   "metadata": {},
   "source": [
    "***\n",
    "***\n",
    "\n",
    "## Exercise 3: Optimization questions [4.5 points]"
   ]
  },
  {
   "cell_type": "markdown",
   "metadata": {},
   "source": [
    "***\n",
    "\n",
    "### Question 1 [0.5 point]"
   ]
  },
  {
   "cell_type": "markdown",
   "metadata": {},
   "source": []
  },
  {
   "cell_type": "markdown",
   "metadata": {},
   "source": [
    "***\n",
    "\n",
    "### Question 2 [0.5 point]"
   ]
  },
  {
   "cell_type": "markdown",
   "metadata": {},
   "source": []
  },
  {
   "cell_type": "markdown",
   "metadata": {},
   "source": [
    "***\n",
    "\n",
    "### Question 3 [0.5 point]"
   ]
  },
  {
   "cell_type": "markdown",
   "metadata": {},
   "source": []
  },
  {
   "cell_type": "markdown",
   "metadata": {},
   "source": [
    "***\n",
    "\n",
    "### Question 4 [1 point]"
   ]
  },
  {
   "cell_type": "markdown",
   "metadata": {},
   "source": []
  },
  {
   "cell_type": "markdown",
   "metadata": {},
   "source": [
    "***\n",
    "\n",
    "### Question 5 [1 point]"
   ]
  },
  {
   "cell_type": "markdown",
   "metadata": {},
   "source": []
  },
  {
   "cell_type": "markdown",
   "metadata": {},
   "source": [
    "***\n",
    "\n",
    "### Question 6 [1 point]"
   ]
  },
  {
   "cell_type": "markdown",
   "metadata": {},
   "source": []
  },
  {
   "cell_type": "markdown",
   "metadata": {},
   "source": [
    "***\n",
    "***\n",
    "\n",
    "## Exercise 2: Gradient descent and linear regression [5.5 points]"
   ]
  },
  {
   "cell_type": "code",
   "execution_count": null,
   "metadata": {},
   "outputs": [],
   "source": [
    "import matplotlib.pyplot as plt\n",
    "import numpy as np\n",
    "import torch\n",
    "%matplotlib inline\n",
    "from sklearn import datasets\n",
    "\n",
    "# Load the diabetes dataset\n",
    "diabetes = datasets.load_diabetes()\n",
    "\n",
    "X = torch.tensor(diabetes.data)\n",
    "Y = torch.tensor(diabetes.target)"
   ]
  },
  {
   "cell_type": "markdown",
   "metadata": {},
   "source": [
    "***\n",
    "### Question 1 [0.5 point]"
   ]
  },
  {
   "cell_type": "code",
   "execution_count": null,
   "metadata": {},
   "outputs": [],
   "source": []
  },
  {
   "cell_type": "markdown",
   "metadata": {},
   "source": [
    "***\n",
    "### Question 2 [0.5 point]"
   ]
  },
  {
   "cell_type": "code",
   "execution_count": 3,
   "metadata": {},
   "outputs": [],
   "source": []
  },
  {
   "cell_type": "markdown",
   "metadata": {},
   "source": [
    "***\n",
    "### Question 3 [0.5 point]"
   ]
  },
  {
   "cell_type": "code",
   "execution_count": null,
   "metadata": {},
   "outputs": [],
   "source": []
  },
  {
   "cell_type": "markdown",
   "metadata": {},
   "source": [
    "***\n",
    "### Question 4 [1 point]"
   ]
  },
  {
   "cell_type": "code",
   "execution_count": null,
   "metadata": {},
   "outputs": [],
   "source": []
  },
  {
   "cell_type": "markdown",
   "metadata": {},
   "source": [
    "***\n",
    "### Question 5 [0.5 point]"
   ]
  },
  {
   "cell_type": "markdown",
   "metadata": {},
   "source": []
  },
  {
   "cell_type": "markdown",
   "metadata": {},
   "source": [
    "***\n",
    "### Question 6 [0.5 point]"
   ]
  },
  {
   "cell_type": "code",
   "execution_count": null,
   "metadata": {},
   "outputs": [],
   "source": []
  },
  {
   "cell_type": "markdown",
   "metadata": {},
   "source": [
    "***\n",
    "### Question 7 [1 point]"
   ]
  },
  {
   "cell_type": "code",
   "execution_count": null,
   "metadata": {},
   "outputs": [],
   "source": []
  },
  {
   "cell_type": "markdown",
   "metadata": {},
   "source": [
    "***\n",
    "### Question 8 [1 point]"
   ]
  },
  {
   "cell_type": "code",
   "execution_count": null,
   "metadata": {},
   "outputs": [],
   "source": []
  }
 ],
 "metadata": {
  "kernelspec": {
   "display_name": "torchenv",
   "language": "python",
   "name": "python3"
  },
  "language_info": {
   "codemirror_mode": {
    "name": "ipython",
    "version": 3
   },
   "file_extension": ".py",
   "mimetype": "text/x-python",
   "name": "python",
   "nbconvert_exporter": "python",
   "pygments_lexer": "ipython3",
   "version": "3.12.8"
  }
 },
 "nbformat": 4,
 "nbformat_minor": 2
}
