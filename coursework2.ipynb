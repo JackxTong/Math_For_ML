{
 "cells": [
  {
   "cell_type": "markdown",
   "metadata": {},
   "source": [
    "# Coursework 1 - Mathematics for Machine Learning"
   ]
  },
  {
   "cell_type": "markdown",
   "metadata": {},
   "source": [
    "## Due: 25/03/2025\n",
    "\n",
    "## CID: 02056823\n",
    "\n",
    "***\n",
    "***"
   ]
  },
  {
   "cell_type": "markdown",
   "metadata": {},
   "source": [
    "## Exercise 1: Quick questions [2 points]"
   ]
  },
  {
   "cell_type": "markdown",
   "metadata": {},
   "source": [
    "#### Question 1:\n",
    "We have that the moving average estimates for first and second moment are defined as:\n",
    "$$\n",
    "\\mathbf{s}_t = \\beta_1 \\mathbf{s}_{t-1} + (1 - \\beta_1) \\hat{\\mathbf{g}}\n",
    "$$\n",
    "\n",
    "$$\n",
    "\\mathbf{r}_t = \\beta_2 \\mathbf{r}_{t-1} + (1 - \\beta_2) \\hat{\\mathbf{g}}^2\n",
    "$$\n",
    "\n",
    "Since $s_0 = r_0 = 0$ and $\\beta_2 > \\beta_1 = 0.9$, we have that $\\mathbf{r}_t, \\mathbf{s}_t$ are very small for small $t$, biased towards 0. \n",
    "\n",
    "The bias correction steps:\n",
    "\n",
    "$$\n",
    "\\hat{\\mathbf{s}}_t = \\frac{\\mathbf{s}_t}{1 - \\beta_1^t}\n",
    "$$\n",
    "\n",
    "$$\n",
    "\\hat{\\mathbf{r}}_t = \\frac{\\mathbf{r}_t}{1 - \\beta_2^t}\n",
    "$$\n",
    "\n",
    "divide early estimates $\\mathbf{r}_t, \\mathbf{s}_t$ by a very small number $1 - \\beta_i^t \\; i = 1, 2$ for small t, hence correcting the bias.\n",
    "\n",
    "As $t$ gets larger, $1 - \\beta_i^t \\; i = 1, 2$ converges to 1, getting rid of the correction\n",
    "\n",
    "Without this correction, the algorithm would use underestimated moments, leading to smaller updates in the first few iterations, slowing down convergence.\n",
    "\n",
    "More formally, note that we have $s_t = (1 - \\beta_1) (g_t + g_{t-1} \\beta_1 + ... + g_1 \\beta_1^{t-1})$ and $ 1 - \\beta^t = (1 - \\beta) (1 + \\beta + \\dots + \\beta^{t-1})$, so \n",
    "$$\n",
    "\\hat{s} = \\frac{ (1 - \\beta_1) (g_t + g_{t-1} \\beta_1 + ... + g_1 \\beta_1^{t-1})}{(1 - \\beta_1) (1 + \\beta_1 + \\dots + \\beta_1^{t-1})} \n",
    "$$\n",
    "\n",
    "$$\n",
    "= \\frac{(g_t + g_{t-1} \\beta_1 + ... + g_1 \\beta_1^{t-1})}{(1 + \\beta_1 + \\dots + \\beta_1^{t-1})}  = \\sum_{i = 1}^t w_i g_i\n",
    "$$\n",
    "\n",
    "So with the correction, $\\hat{s}$ becomes a weighted average of the gradients, with weights given by\n",
    "$$\n",
    "w_i = \\frac{\\beta_1^{t-i}}{\\sum_{i=0}^{t-1} \\beta_1^i}\n",
    "$$\n",
    "\n",
    "The same idea follows for the second moment estimates"
   ]
  },
  {
   "cell_type": "markdown",
   "metadata": {},
   "source": [
    "#### Question 2:\n",
    "\n",
    "GD Uses the entire dataset to compute the gradient before updating the parameters, whereas SGD uses a random minibatch to perform gradient descent each time.\n",
    "\n",
    "GD has more stable updates, leading to smooth convergence, and guarantees convergence to a local minimum for convex problems.\n",
    "\n",
    "But it is computationally expensive to compute gradients for large datasets, and often get stuck in saddle points if the loss is nonconvex.\n",
    "\n",
    "SGD is much faster than GD, and it introduces noise that helps escape saddle points and local minima."
   ]
  },
  {
   "cell_type": "markdown",
   "metadata": {},
   "source": [
    "#### Question 3:\n",
    "\n",
    "Consider the setup\n",
    "$$\n",
    "y = ReLU( \\sum_{i=1}^{n} w_i x_i + b_i)\n",
    "$$\n",
    "\n",
    "where:\n",
    "- $ w_i \\sim \\mathcal{N}(0, \\sigma_n^2) $ (initialized weights),\n",
    "- $ x_i $ are activations from the previous layer, with $\\text{Var}(x_i)$ = $\\sigma_x^2$\n",
    "- $b_i$ are initialized to 0\n",
    "\n",
    "We know\n",
    "$$\n",
    "E[\\sum_{i=1}^{n} w_i x_i + b_i] = \\sum_{i=1}^{n} E[w_i x_i] = 0\n",
    "$$\n",
    "\n",
    "$$\n",
    "\\text{Var}[\\sum_{i=1}^{n} w_i x_i + b_i] = \\sum_{i=1}^{n} \\text{Var}[w_i x_i] = n \\sigma_n^2 \\sigma_x^2\n",
    "$$\n",
    "\n",
    "by zero mean of $ w_i $, and independence of $ w_i $ and $ x_i $\n",
    "\n",
    "We also know that ReLU halves the variance. Denote $ReLU(x) = \\sigma(x)$, and for any $X$ of zero mean:\n",
    "\n",
    "$$\n",
    "Var(\\sigma(X)) = \\int_0^\\infty X^2 dP = \\frac{1}{2} E[X^2] = \\frac{1}{2} Var(X)\n",
    "$$\n",
    "\n",
    "Hence \n",
    "$$\n",
    "Var(y) = \\frac{1}{2} Var(\\sum wx) = \\frac{n}{2} \\sigma_n^2 \\sigma_x^2\n",
    "$$\n",
    "\n",
    "To preserve variance across layers, we want $Var(y) = \\sigma_x^2$:\n",
    "\n",
    "$$\n",
    "\\frac{n}{2} \\sigma_n^2 = 1\n",
    "$$\n",
    "\n",
    "which gives:\n",
    "\n",
    "$$\n",
    "\\sigma_n^2 = \\frac{2}{n}\n",
    "$$\n",
    "\n",
    "Thus, the standard deviation is:\n",
    "\n",
    "$$\n",
    "\\sigma_n = \\sqrt{\\frac{2}{n}}\n",
    "$$\n"
   ]
  },
  {
   "cell_type": "markdown",
   "metadata": {},
   "source": [
    "#### Question 4:\n",
    "\n",
    "To prove theorem 4.2, we need to prove lemma 4.4: piecewise constant approximation, where we need the assumption of $g$ be $\\rho$ -Lipschitz to \n",
    "$$\n",
    "|g(x) - g(y)| \\leq \\rho \\|x - y\\|, \\quad \\forall x, y \\in [0,1]^d.\n",
    "$$\n",
    "Otherwise there could be regions where $g$ varies arbitrarily fast.\n",
    "\n",
    "Specifically,\n",
    "$\\rho$-Lipschitz continuity of $g$ ensures existence of $h = \\sum_{i=1}^m \\alpha_i \\mathbf{1}_{R_i}$ that approximates $g$ such that $\\sup_{x\\in [0,1)^d} \\|g(x) - h(x)\\| \\leq \\epsilon$.\n",
    "\n",
    "Let $k= \\lceil \\frac{\\rho}{(\\epsilon \\sqrt{d})} \\rceil, m = k^d$, $\\mathcal{P} = (R_1,...,R_m)$ be partition as defined in the lemma.\n",
    "With lipschitz condition, we have\n",
    "\n",
    "$$\n",
    "|g(x) - h(x)| = |g(x) - g(u_j)| \\leq \\rho ||x - u_j||_2 \\leq \\epsilon $$\n",
    "\n",
    "so that\n",
    "$$\n",
    "\\sup_{x \\in [0, 1]} |g(x) - h(x)| \\leq \\epsilon\n",
    "$$"
   ]
  },
  {
   "cell_type": "markdown",
   "metadata": {},
   "source": [
    "*** \n",
    "***\n",
    "\n",
    "## Exercise 2: [6 points]"
   ]
  },
  {
   "cell_type": "markdown",
   "metadata": {},
   "source": [
    "\n",
    "### Question 1 [2 points]\n"
   ]
  },
  {
   "cell_type": "markdown",
   "metadata": {},
   "source": [
    "We have the Stone-Weierstrass conditions:\n",
    "\n",
    "1.  Continuity: Each $ f \\in \\mathcal{F}_{\\cos,d} $ is continuous because cosine is a continuous function, and linear transformations and summations preserve continuity\n",
    "\n",
    "2.  Non-triviality: For each $ x $,\n",
    "   $$\n",
    "   \\cos(0^\\top x) = \\cos(0) = 1 \\neq 0.\n",
    "   $$\n",
    "\n",
    "3.  Separability: For each $ x \\neq x' $, define:\n",
    "   $$\n",
    "   f(z) := \\cos\\left(\\frac{(z - x')^\\top (x - x')}{\\|x - x'\\|^2} \\right) \\in \\mathcal{F}_d.\n",
    "   $$\n",
    "\n",
    "   Evaluating at $ x $ and $ x' $:\n",
    "\n",
    "   $$\n",
    "   f(x) = \\cos(1) \\neq \\cos(0) = f(x').\n",
    "   $$\n",
    "\n",
    "4.  Closure under Vector Space Operations:\n",
    "\n",
    "    We know that\n",
    "\n",
    "   $$\n",
    "   \\cos(A) \\cos(B) = \\frac{1}{2} (\\cos(A - B) + \\cos(A + B)),\n",
    "   $$\n",
    "\n",
    "we verify closure under multiplication:\n",
    "\n",
    "   $$\n",
    "   \\left(\\sum_{i=1}^{n} r_i \\cos(a_i^\\top x) \\right)\n",
    "   \\left(\\sum_{j=1}^{m} s_j \\cos(b_j^\\top x) \\right)\n",
    "   $$\n",
    "\n",
    "   $$\n",
    "   = \\sum_{i=1}^{m} \\sum_{j=1}^{m} r_i s_j \\frac{1}{2} (\\cos((a_i - b_j)^\\top x) + \\cos((a_i + b_j)^\\top x)).\n",
    "   $$\n",
    "\n",
    "   Since the right-hand side is still a sum of cosine terms, **$ \\mathcal{F}_{\\cos,d} $ is closed under multiplication**.\n",
    "\n",
    "Thus, **$ \\mathcal{F}_{\\cos,d} $ satisfies the Stone-Weierstrass conditions** and is universal.\n"
   ]
  },
  {
   "cell_type": "markdown",
   "metadata": {},
   "source": [
    "***\n",
    "\n",
    "### Question 2 [2 points]"
   ]
  },
  {
   "cell_type": "markdown",
   "metadata": {},
   "source": [
    "We wish to replicate \n",
    "$$\n",
    "f(x) = A_2 \\sigma(A_1 x + b_1)\n",
    "$$\n",
    "where:\n",
    "- $A_1 \\in \\mathbb{R}^{w \\times d}$, $b_1 \\in \\mathbb{R}^{w}$\n",
    "- $A_2 \\in \\mathbb{R}^{1 \\times w}$\n",
    "\n",
    "Denote each row of $A_1$ as $a_i\\in \\mathbb{R}^{d}$, each entry of $A_2$ as $\\alpha_i$, each entry of $b_1$ as $\\beta_i$, such that\n",
    "\n",
    "$A_1 = \\begin{pmatrix}\n",
    "a_1^T\\\\\n",
    "\\vdots \\\\\n",
    "a_w^T \\\\\n",
    "\\end{pmatrix}, \n",
    "\\quad\n",
    "A_2 = \\begin{pmatrix}\n",
    "\\alpha_1, \\dots \\alpha_w\n",
    "\\end{pmatrix}, \n",
    "\\quad\n",
    "b_1 = \\begin{pmatrix}\n",
    "\\beta_1\\\\\n",
    "\\vdots \\\\\n",
    "\\beta_w \\\\\n",
    "\\end{pmatrix}, \n",
    "$\n",
    "\n",
    "Where we note that $a_i$ are vectors, and $\\alpha_i, \\beta_i$ are scalars"
   ]
  },
  {
   "cell_type": "markdown",
   "metadata": {},
   "source": [
    "Then we have that the final output:\n",
    "$$\n",
    "\\alpha_1 \\sigma(a_1^T x + \\beta_1) + \\dots \\alpha_w \\sigma(a_w^T x + \\beta_w)\n",
    "$$\n",
    "\n",
    "$$\n",
    "= \\sum_{i=1}^w \\alpha_i \\sigma(a_i^T x + \\beta_i)\n",
    "$$\n",
    "\n",
    "To simplify notations, WLOG we let $z_i = a_i^T x + \\beta_i$, so that we wish to replicate $\\sum_{i=1}^w \\alpha_i \\sigma(z_i)$\n",
    "\n",
    "To replicate this, we construct our network as the composition of $w$ layers of functions $K^{(i)}$, where each is a linear transformations activated by ReLU:\n",
    "$$\n",
    "K^{(i)}(x) = \\sigma(A^i x^i + b^i)\n",
    "$$\n",
    "\n",
    "We denote the preactivations as $z^{(i)}$:\n",
    "$$\n",
    "z^{(i)} = A^i x^i + b^i\n",
    "$$\n",
    "\n",
    "The first layer $K^{(1)}(x)$ is defined as:\n",
    "\n",
    "$$\n",
    "A^1 = \\begin{pmatrix}\n",
    "\\mathbf{I}_d \\\\\n",
    "a_1^T \\\\\n",
    "0 \\\\\n",
    "0 \n",
    "\\end{pmatrix} \\in \\mathbb{R}^{(d+3) \\times d} \n",
    "$$\n",
    "\n",
    "$$\n",
    "b^1 =\\begin{pmatrix}\n",
    "\\mathbf{0}_d \\\\\n",
    "\\beta_1 \\\\\n",
    "0 \\\\\n",
    "0\n",
    "\\end{pmatrix} $$\n",
    "\n",
    "So that \n",
    "$$\n",
    "z^{(1)} = A^1 x + b^1\n",
    "\n",
    "= \\begin{pmatrix}\n",
    "x_1 \\\\\n",
    "\\vdots \\\\\n",
    "x_d \\\\\n",
    "a_1^T x + \\beta_1\\\\\n",
    "0 \\\\\n",
    "0\n",
    "\\end{pmatrix}\n",
    "= \\begin{pmatrix}\n",
    "x_1 \\\\\n",
    "\\vdots \\\\\n",
    "x_d \\\\\n",
    "z_1\\\\\n",
    "0 \\\\\n",
    "0\n",
    "\\end{pmatrix}\n",
    "$$\n",
    "\n",
    "Since we know $x_i \\in [0, 1]$, it follows that $\\sigma(x_i) = x_i$, and\n",
    "\n",
    "$$\n",
    "K^{(1)}(x) = \\sigma(z^{(1)}) \n",
    "= \\begin{pmatrix}\n",
    "x_1 \\\\\n",
    "\\vdots \\\\\n",
    "x_d \\\\\n",
    "\\sigma(z_1)\\\\\n",
    "0 \\\\\n",
    "0\n",
    "\\end{pmatrix}\n",
    "$$"
   ]
  },
  {
   "cell_type": "markdown",
   "metadata": {},
   "source": [
    "Now we define \n",
    "\n",
    "$$A^{2} = \n",
    "\\begin{pmatrix}\n",
    "\\mathbf{I_d} & 0 & 0 & 0 \\\\\n",
    "a_2^T       & 0 & 0 & 0 \\\\\n",
    "0 \\dots 0      & \\sigma(\\alpha_1) & 1 & 0 \\\\\n",
    "0 \\dots 0      & \\sigma(-\\alpha_1) & 0 & 1\n",
    "\\end{pmatrix} \\in \\mathbb{R}^{(d+3) \\times (d+3)},\n",
    "$$\n",
    "\n",
    "$$\n",
    "b^2 =\\begin{pmatrix}\n",
    "\\mathbf{0} \\\\\n",
    "\\beta_2 \\\\\n",
    "0 \\\\\n",
    "0\\end{pmatrix}\n",
    "$$\n",
    "\n",
    "So that\n",
    "$$\n",
    "z^{(2)} = A^{2} K^{(1)}(x) + b^2\n",
    "= \\begin{pmatrix}\n",
    "x_1 \\\\\n",
    "\\vdots \\\\\n",
    "x_d \\\\\n",
    "a_2^T x + \\beta_2\\\\\n",
    "\\sigma(\\alpha_1) \\sigma(z_1) \\\\\n",
    "\\sigma(-\\alpha_1) \\sigma(z_1)\n",
    "\\end{pmatrix}\n",
    "$$\n",
    "\n",
    "The idea is that if $\\alpha_1 > 0$, it is stored in the second to last neuron, while the last neuron is set to 0. If $\\alpha_1 < 0$, the last neuron stores $|\\alpha_1| \\sigma(z_1)$, with second to last neuron set to 0.\n",
    "\n",
    "Hence all neurons are non-negative and preserved under ReLU:\n",
    "\n",
    "$$\n",
    "K^{(2)}(x) = \\sigma(z^{(2)}) \n",
    "= \\begin{pmatrix}\n",
    "x_2 \\\\\n",
    "\\vdots \\\\\n",
    "x_d \\\\\n",
    "\\sigma(z_2)\\\\\n",
    "\\sigma(\\alpha_1) \\sigma(z_1) \\\\\n",
    "\\sigma(-\\alpha_1) \\sigma(z_1)\n",
    "\\end{pmatrix}\n",
    "$$\n",
    "\n"
   ]
  },
  {
   "cell_type": "markdown",
   "metadata": {},
   "source": [
    "Similarly we construct\n",
    "$$A^{3} = \n",
    "\\begin{pmatrix}\n",
    "\\mathbf{I_d} & 0 & 0 & 0 \\\\\n",
    "a_3^T       & 0 & 0 & 0 \\\\\n",
    "0 \\dots 0      & \\sigma(\\alpha_2) & 1 & 0 \\\\\n",
    "0 \\dots 0      & \\sigma(-\\alpha_2) & 0 & 1\n",
    "\\end{pmatrix} \n",
    "$$\n",
    "\n",
    "such that\n",
    "$$\n",
    "z^{(3)}\n",
    "= \\begin{pmatrix}\n",
    "x_1 \\\\\n",
    "\\vdots \\\\\n",
    "x_d \\\\\n",
    "z_3\\\\\n",
    "\\sigma(\\alpha_2) \\sigma(z_2) + \\sigma(\\alpha_1) \\sigma(z_1) \\\\\n",
    "\\sigma(-\\alpha_2) \\sigma(z_2) + \\sigma(-\\alpha_1) \\sigma(z_1) \n",
    "\\end{pmatrix}\n",
    "$$\n",
    "with last 2 rows preserved under ReLU, and all other layers $\\{K^{(i)}\\}_{i = 4}^w$, follow similarly.\n",
    "\n",
    "We have that \n",
    "$$\n",
    "K^{(w)}(x) = \\sigma(z^{(w)})\n",
    "= \\begin{pmatrix}\n",
    "x_1 \\\\\n",
    "\\vdots \\\\\n",
    "x_d \\\\\n",
    "\\sigma(z_w)\\\\\n",
    "\\sum_{i=1}^{w-1} \\sigma(\\alpha_i) \\sigma(z_i)  \\\\\n",
    "\\sum_{i=1}^{w-1} \\sigma(-\\alpha_i) \\sigma(z_i)\n",
    "\\end{pmatrix}\n",
    "$$\n",
    "\n",
    "and we let the final output layer \n",
    "$$\n",
    "K^{(w+1)}(x) = (\\mathbf{0}_d, \\alpha_w, 1,-1)x\n",
    "$$\n",
    "\n",
    "$$\n",
    "K^{(w+1)}(K^{(w)}(x))\n",
    "= \\alpha_w \\sigma(z_w) + \\sum_{i=1}^{w-1}\n",
    "\\bigg(\\sigma(\\alpha_i) - \\sigma(-\\alpha_i) \\bigg)\\sigma(z_i)\n",
    "$$\n",
    "\n",
    "$$\n",
    "= \\alpha_w \\sigma(z_w) + \\sum_{i=1}^{w-1}\n",
    "\\alpha_i \\sigma(z_i) = \\sum_{i=1}^{w}\n",
    "\\alpha_i \\sigma(z_i)\n",
    "$$\n",
    "\n",
    "Where we used the fact $\\sigma(x) - \\sigma(-x) = x$ (side note: interestingly since I am learning finance, if one considers $x$ as the forward price $S_T - K$, then $\\sigma(x)$ is the call and $\\sigma(-x)$ is the put payoff. One arrives at the put call parity)\n",
    "\n",
    "Hence we arrived at the precise output we wish to replicate. The reason a width $d+3$ model suffices here is we know our input $x_i \\in [0, 1]$, so we don't need to store its negative parts.\n",
    "\n",
    "Otherwise we may need $d$ neurons to store $\\sigma(x_i)$ and another $d$ to store $\\sigma(-x_i)$, so that we don't lose any $x_i$ during ReLUs.\n",
    "\n",
    "i.e. We let\n",
    "$$\n",
    "A^1 = \\begin{pmatrix}\n",
    "\\mathbf{I}_d \\\\\n",
    "-\\mathbf{I}_d \\\\\n",
    "a_1^T \\\\\n",
    "0 \\\\\n",
    "0 \n",
    "\\end{pmatrix} \\in \\mathbb{R}^{(2d+3) \\times d} \n",
    "$$\n",
    "so that\n",
    "the first $2d$ neurons of the first post-activation, (and all following $z^{(i)}$) are given by\n",
    "$$\n",
    "\\begin{pmatrix}\n",
    "\\sigma(x_1 )\\\\\n",
    "\\vdots \\\\\n",
    "\\sigma(x_d )\\\\\n",
    "\\sigma(-x_1) \\\\\n",
    "\\vdots \\\\\n",
    "\\sigma(-x_d) \n",
    "\\end{pmatrix}\n",
    "$$\n",
    "\n",
    "i.e. First $d$ neurons store positive entries, and the next $d$ neurons store absolute vals of the negative entries\n",
    "\n",
    "In this case we would let\n",
    "for $i > 1$\n",
    "$$A^{i} = \n",
    "\\begin{pmatrix}\n",
    "\\mathbf{I_d} & 0 & 0 & 0 & 0 \\\\\n",
    "0 & \\mathbf{I_d} & 0 & 0 & 0 \\\\\n",
    "a_i^T   & - a_i^T & 0 & 0 & 0 \\\\\n",
    "0 \\dots 0 & & \\sigma(\\alpha_{i-1}) & 1 & 0 \\\\\n",
    "0 \\dots 0 &  & \\sigma(-\\alpha_{i-1}) & 0 & 1\n",
    "\\end{pmatrix} \\in \\mathbb{R}^{(2d+3) \\times (2d+3)},\n",
    "$$\n",
    "\n",
    "Where the $2d+1$ th neuron computes $z_i$ correctly:\n",
    "$$\n",
    "z_i = a_i^T \\sigma(x) - a_i^T \\sigma(-x)\n",
    "$$\n",
    "\n",
    "$$\n",
    "= a_i^T (\\sigma(x) - \\sigma(-x)) = a_i^T x\n",
    "$$\n",
    "\n"
   ]
  },
  {
   "cell_type": "markdown",
   "metadata": {},
   "source": [
    "***\n",
    "\n",
    "### Question 3 [2 points]"
   ]
  },
  {
   "cell_type": "markdown",
   "metadata": {},
   "source": [
    "In 1(a), the loss converges quite slowly, taking around 500 epochs to converge and reach a loss level below 0.2, suggesting the learning rate should be set higher. Another choice would be to use SGD with momentum, since the error decay is smooth, momentum can speed up the convergence, or incorporate curvature information, like using inverse hessian as a dynamic learning rate (newton's method)\n",
    "\n",
    "In (b), the learing rate was set too high. The loss quickly drops to around 0.2 in 10 epochs or so, but quickly oscillates between (0.2, 0.6) for the next 500 epochs with no sign of convergence. We can try reduce the learning rate, or use adaptive optimizers like Adam\n",
    "\n",
    "In (c), the learning rate is just right. The convergence is fast, loss decays to around 0.1 within 50 epochs, with some minor oscillations. This looks like the learning rate is already fine-tuned, although we can do further hyparameter tuning if we have the time (try increase /decrease learning rate by 10% and see what happens, try different seeds to see if this improves further, or stay as good, or perhaps we are just lucky on this one)"
   ]
  },
  {
   "cell_type": "markdown",
   "metadata": {},
   "source": [
    "***\n",
    "***\n",
    "\n",
    "## Exercise 3: Implementation [13 points]"
   ]
  },
  {
   "cell_type": "code",
   "execution_count": 1,
   "metadata": {},
   "outputs": [],
   "source": [
    "import os\n",
    "import numpy as np\n",
    "import torch\n",
    "import torchvision\n",
    "import torchvision.transforms as transforms\n",
    "import matplotlib.pyplot as plt\n",
    "import torch.nn as nn\n",
    "import torch.nn.functional as F\n",
    "import torch.optim as optim"
   ]
  },
  {
   "cell_type": "markdown",
   "metadata": {},
   "source": [
    "## Part 1: Image classification [4 points]"
   ]
  },
  {
   "cell_type": "markdown",
   "metadata": {},
   "source": [
    "***\n",
    "### Question 1 [0.5 point]"
   ]
  },
  {
   "cell_type": "markdown",
   "metadata": {},
   "source": [
    "\n",
    "Download the dataset from\n",
    "https://chaladze.com/l5/img/Linnaeus%205%2032X32.rar\n",
    "and uncompress the .rar dataset to a folder named \"Linnaeus_5_32X32\" in the current directory.\n",
    "This folder contains a subfolder \"Linnaeus 5 32X32\", which contains a test and a train folder with the images of the dataset in 5 different classes: berry, bird, dog, flower, other."
   ]
  },
  {
   "cell_type": "code",
   "execution_count": 2,
   "metadata": {},
   "outputs": [],
   "source": [
    "# Fix the seed and set cuda device\n",
    "seed = 42\n",
    "np.random.seed(seed)           # NumPy\n",
    "torch.manual_seed(seed)        # PyTorch (CPU)\n",
    "torch.cuda.manual_seed(seed)   # PyTorch (GPU)\n",
    "torch.backends.cudnn.deterministic = True \n",
    "\n",
    "device = torch.device(\"cuda:1\" if torch.cuda.is_available() else \"cpu\")\n",
    "torch.cuda.set_device(device)\n"
   ]
  },
  {
   "cell_type": "code",
   "execution_count": 3,
   "metadata": {},
   "outputs": [],
   "source": [
    "transform = transforms.Compose(\n",
    "    [transforms.ToTensor(),\n",
    "     transforms.Normalize((0.5, 0.5, 0.5), (0.5, 0.5, 0.5))])\n",
    "\n",
    "batch_size = 128\n",
    "\n",
    "trainset = torchvision.datasets.ImageFolder(root=\"Linnaeus_5_32X32/Linnaeus 5 32X32/train\", transform=transform)\n",
    "\n",
    "trainloader = torch.utils.data.DataLoader(trainset, batch_size=batch_size, shuffle=True)\n",
    "\n",
    "testset = torchvision.datasets.ImageFolder(root=\"Linnaeus_5_32X32/Linnaeus 5 32X32/test\", transform=transform)\n",
    "\n",
    "testloader = torch.utils.data.DataLoader(testset, batch_size=batch_size, shuffle=False,)\n",
    "\n",
    "classes = ('berry', 'bird', 'dog', 'flower', 'other')"
   ]
  },
  {
   "cell_type": "code",
   "execution_count": 4,
   "metadata": {},
   "outputs": [
    {
     "data": {
      "image/png": "[encoded data removed]",
      "text/plain": [
       "<Figure size 1500x500 with 5 Axes>"
      ]
     },
     "metadata": {},
     "output_type": "display_data"
    }
   ],
   "source": [
    "from torchvision.utils import make_grid\n",
    "\n",
    "# Function to denormalize image\n",
    "def denormalize(img):\n",
    "    img = img /2 + 0.5  # Reverse the normalization\n",
    "    img = np.clip(img, 0, 1)  # Ensure values are in [0,1] range\n",
    "    return img\n",
    "\n",
    "plotted_classes = set()\n",
    "\n",
    "fig, axes = plt.subplots(1, len(classes), figsize=(15, 5))\n",
    "\n",
    "for images, labels in trainloader:\n",
    "    for i in range(len(images)):\n",
    "        label = labels[i].item()\n",
    "        if label not in plotted_classes:\n",
    "            img = images[i].numpy().transpose((1, 2, 0))\n",
    "            img = denormalize(img)  # Reverse normalization\n",
    "            \n",
    "            # Plot image\n",
    "            ax = axes[label]\n",
    "            ax.imshow(img)\n",
    "            ax.set_title(trainset.classes[label])\n",
    "            ax.axis(\"off\")\n",
    "            \n",
    "            plotted_classes.add(label)\n",
    "            break\n",
    "    if len(plotted_classes) == len(classes):\n",
    "        break\n",
    "\n",
    "plt.show()"
   ]
  },
  {
   "cell_type": "markdown",
   "metadata": {},
   "source": [
    "***\n",
    "### Question 2 [0.5 point]"
   ]
  },
  {
   "cell_type": "markdown",
   "metadata": {},
   "source": [
    "`transforms.ToTensor()` converts an image from a PIL image to a PyTorch tensor, changes pixel from 0-255 to 0-1, and uses (C, H, W) as shape for the tensor. This is the required input dtype for our torch neural network.\n",
    "\n",
    "`transforms.Normalize((0.5, 0.5, 0.5), (0.5, 0.5, 0.5))` normalizes the image using mean = (0.5, 0.5, 0.5) and std = (0.5, 0.5, 0.5) for each channel (R, G, B). \n",
    "i.e. `img = (img-0.5)/0.5`. This now transforms the pixel range into $[-1,1]$, a good range for stable gradients and better convergence.\n",
    "\n",
    "`transforms.Compose` takes those 2 transforms and apply them sequentially to images."
   ]
  },
  {
   "cell_type": "markdown",
   "metadata": {},
   "source": [
    "***\n",
    "### Question 3 [1 point]"
   ]
  },
  {
   "cell_type": "code",
   "execution_count": 5,
   "metadata": {},
   "outputs": [],
   "source": [
    "class MyCNN(nn.Module):\n",
    "    def __init__(self, num_classes=5):\n",
    "        super().__init__()\n",
    "        self.conv1 = nn.Conv2d(3, 32, 3, padding=1)\n",
    "        self.conv2 = nn.Conv2d(32, 64, 3, padding=1)\n",
    "        self.pool1 = nn.MaxPool2d(2, 2)\n",
    "        \n",
    "        self.conv3 = nn.Conv2d(64, 128, 3, padding=1)\n",
    "        self.conv4 = nn.Conv2d(128, 128, 3, padding=1)\n",
    "        self.pool2 = nn.MaxPool2d(2, 2)\n",
    "        \n",
    "        self.conv5 = nn.Conv2d(128, 256, 3, padding=1)\n",
    "        self.conv6 = nn.Conv2d(256, 256, 3, padding=1)\n",
    "        self.pool3 = nn.MaxPool2d(2, 2)\n",
    "\n",
    "        self.fc1 = nn.Linear(256 * 4 * 4, 512)\n",
    "        self.fc2 = nn.Linear(512, 64)\n",
    "        self.fc3 = nn.Linear(64, num_classes)\n",
    "        self.dropout = nn.Dropout(0.5)\n",
    "    \n",
    "    def forward(self, x):\n",
    "        x = F.relu(self.conv1(x))\n",
    "        x = self.pool1(F.relu(self.conv2(x)))\n",
    "        \n",
    "        x = F.relu(self.conv3(x))\n",
    "        x = self.pool2(F.relu(self.conv4(x)))\n",
    "        \n",
    "        x = F.relu(self.conv5(x))\n",
    "        x = self.pool3(F.relu(self.conv6(x)))\n",
    "        \n",
    "        x = torch.flatten(x, start_dim=1)\n",
    "        \n",
    "        x = F.relu(self.fc1(x))\n",
    "        x = F.relu(self.fc2(x))\n",
    "        x = self.fc3(x)  # Output raw logits\n",
    "        \n",
    "        return x\n",
    "\n",
    "\n",
    "\n"
   ]
  },
  {
   "cell_type": "code",
   "execution_count": 6,
   "metadata": {},
   "outputs": [
    {
     "name": "stdout",
     "output_type": "stream",
     "text": [
      "torch.Size([1, 5])\n"
     ]
    }
   ],
   "source": [
    "model = MyCNN()\n",
    "model = model.to(device)\n",
    "sample_input = torch.randn(1, 3, 32, 32)\n",
    "sample_input = sample_input.to(device)\n",
    "output = model(sample_input)\n",
    "print(output.shape)  \n",
    "# Should be [1, 5] (1 sample, 5 class predictions)"
   ]
  },
  {
   "cell_type": "markdown",
   "metadata": {},
   "source": [
    "***\n",
    "### Question 4 [0.5 point]"
   ]
  },
  {
   "cell_type": "code",
   "execution_count": 7,
   "metadata": {},
   "outputs": [
    {
     "name": "stdout",
     "output_type": "stream",
     "text": [
      "----------------------------------------------------------------\n",
      "        Layer (type)               Output Shape         Param #\n",
      "================================================================\n",
      "            Conv2d-1           [-1, 32, 32, 32]             896\n",
      "            Conv2d-2           [-1, 64, 32, 32]          18,496\n",
      "         MaxPool2d-3           [-1, 64, 16, 16]               0\n",
      "            Conv2d-4          [-1, 128, 16, 16]          73,856\n",
      "            Conv2d-5          [-1, 128, 16, 16]         147,584\n",
      "         MaxPool2d-6            [-1, 128, 8, 8]               0\n",
      "            Conv2d-7            [-1, 256, 8, 8]         295,168\n",
      "            Conv2d-8            [-1, 256, 8, 8]         590,080\n",
      "         MaxPool2d-9            [-1, 256, 4, 4]               0\n",
      "           Linear-10                  [-1, 512]       2,097,664\n",
      "           Linear-11                   [-1, 64]          32,832\n",
      "           Linear-12                    [-1, 5]             325\n",
      "================================================================\n",
      "Total params: 3,256,901\n",
      "Trainable params: 3,256,901\n",
      "Non-trainable params: 0\n",
      "----------------------------------------------------------------\n",
      "Input size (MB): 0.01\n",
      "Forward/backward pass size (MB): 1.72\n",
      "Params size (MB): 12.42\n",
      "Estimated Total Size (MB): 14.16\n",
      "----------------------------------------------------------------\n"
     ]
    }
   ],
   "source": [
    "import torchsummary\n",
    "torchsummary.summary(model, (3, 32, 32))\n"
   ]
  },
  {
   "cell_type": "markdown",
   "metadata": {},
   "source": [
    "***\n",
    "### Question 5 [0.5 point]"
   ]
  },
  {
   "cell_type": "code",
   "execution_count": 8,
   "metadata": {},
   "outputs": [],
   "source": [
    "\n",
    "def train(myCNN, nr_epochs, optimizer, criterion, trainloader):\n",
    "    myCNN.to(device)  # Move model to the appropriate device\n",
    "    myCNN.train()  # Set the model to training mode\n",
    "    losses = []\n",
    "    for epoch in range(nr_epochs):\n",
    "        print(f\"Epoch {epoch} of {nr_epochs}\")\n",
    "\n",
    "        for i, (inputs, labels) in enumerate(trainloader):\n",
    "            inputs, labels = inputs.to(device), labels.to(device)  # Move data to device\n",
    "\n",
    "            optimizer.zero_grad()  # Zero the parameter gradients\n",
    "            outputs = myCNN(inputs)  # Forward pass\n",
    "            loss = criterion(outputs, labels)  # Compute loss\n",
    "            loss.backward()  # Backpropagation\n",
    "            optimizer.step()  # Update model parameters\n",
    "\n",
    "            losses.append(loss.item())\n",
    "            if i % 10 == 0:\n",
    "                print(f\"  Iteration {i} loss: {loss.item():.4f}\")\n",
    "\n",
    "    print(\"Training complete!\")\n"
   ]
  },
  {
   "cell_type": "markdown",
   "metadata": {},
   "source": [
    "***\n",
    "### Question 6 [0.5 point]"
   ]
  },
  {
   "cell_type": "code",
   "execution_count": 9,
   "metadata": {},
   "outputs": [
    {
     "name": "stdout",
     "output_type": "stream",
     "text": [
      "Epoch 0 of 30\n",
      "  Iteration 0 loss: 1.6061\n",
      "  Iteration 10 loss: 1.5579\n",
      "  Iteration 20 loss: 1.5790\n",
      "  Iteration 30 loss: 1.5181\n",
      "  Iteration 40 loss: 1.5069\n",
      "Epoch 1 of 30\n",
      "  Iteration 0 loss: 1.4318\n",
      "  Iteration 10 loss: 1.3242\n",
      "  Iteration 20 loss: 1.4913\n",
      "  Iteration 30 loss: 1.3741\n",
      "  Iteration 40 loss: 1.3421\n",
      "Epoch 2 of 30\n",
      "  Iteration 0 loss: 1.2343\n",
      "  Iteration 10 loss: 1.3428\n",
      "  Iteration 20 loss: 1.3776\n",
      "  Iteration 30 loss: 1.4146\n",
      "  Iteration 40 loss: 1.3078\n",
      "Epoch 3 of 30\n",
      "  Iteration 0 loss: 1.4012\n",
      "  Iteration 10 loss: 1.2771\n",
      "  Iteration 20 loss: 1.3159\n",
      "  Iteration 30 loss: 1.3674\n",
      "  Iteration 40 loss: 1.3102\n",
      "Epoch 4 of 30\n",
      "  Iteration 0 loss: 1.3514\n",
      "  Iteration 10 loss: 1.2324\n",
      "  Iteration 20 loss: 1.2225\n",
      "  Iteration 30 loss: 1.2082\n",
      "  Iteration 40 loss: 1.1988\n",
      "Epoch 5 of 30\n",
      "  Iteration 0 loss: 1.1048\n",
      "  Iteration 10 loss: 1.1542\n",
      "  Iteration 20 loss: 1.3170\n",
      "  Iteration 30 loss: 1.2206\n",
      "  Iteration 40 loss: 1.1477\n",
      "Epoch 6 of 30\n",
      "  Iteration 0 loss: 1.2065\n",
      "  Iteration 10 loss: 1.0619\n",
      "  Iteration 20 loss: 1.1440\n",
      "  Iteration 30 loss: 1.1048\n",
      "  Iteration 40 loss: 1.1072\n",
      "Epoch 7 of 30\n",
      "  Iteration 0 loss: 1.1751\n",
      "  Iteration 10 loss: 1.1312\n",
      "  Iteration 20 loss: 1.0528\n",
      "  Iteration 30 loss: 1.0833\n",
      "  Iteration 40 loss: 0.9878\n",
      "Epoch 8 of 30\n",
      "  Iteration 0 loss: 1.0234\n",
      "  Iteration 10 loss: 0.9166\n",
      "  Iteration 20 loss: 1.0202\n",
      "  Iteration 30 loss: 0.9613\n",
      "  Iteration 40 loss: 1.0803\n",
      "Epoch 9 of 30\n",
      "  Iteration 0 loss: 0.7950\n",
      "  Iteration 10 loss: 1.1079\n",
      "  Iteration 20 loss: 0.9752\n",
      "  Iteration 30 loss: 0.9664\n",
      "  Iteration 40 loss: 1.0224\n",
      "Epoch 10 of 30\n",
      "  Iteration 0 loss: 1.1150\n",
      "  Iteration 10 loss: 0.8662\n",
      "  Iteration 20 loss: 0.7923\n",
      "  Iteration 30 loss: 0.9303\n",
      "  Iteration 40 loss: 0.9094\n",
      "Epoch 11 of 30\n",
      "  Iteration 0 loss: 0.8667\n",
      "  Iteration 10 loss: 0.9516\n",
      "  Iteration 20 loss: 0.8070\n",
      "  Iteration 30 loss: 0.7178\n",
      "  Iteration 40 loss: 0.8487\n",
      "Epoch 12 of 30\n",
      "  Iteration 0 loss: 0.8234\n",
      "  Iteration 10 loss: 0.7481\n",
      "  Iteration 20 loss: 0.7954\n",
      "  Iteration 30 loss: 0.8218\n",
      "  Iteration 40 loss: 0.7425\n",
      "Epoch 13 of 30\n",
      "  Iteration 0 loss: 0.6663\n",
      "  Iteration 10 loss: 0.6284\n",
      "  Iteration 20 loss: 0.7334\n",
      "  Iteration 30 loss: 0.7595\n",
      "  Iteration 40 loss: 0.6988\n",
      "Epoch 14 of 30\n",
      "  Iteration 0 loss: 0.5604\n",
      "  Iteration 10 loss: 0.8413\n",
      "  Iteration 20 loss: 0.5907\n",
      "  Iteration 30 loss: 0.5580\n",
      "  Iteration 40 loss: 0.6349\n",
      "Epoch 15 of 30\n",
      "  Iteration 0 loss: 0.5860\n",
      "  Iteration 10 loss: 0.6280\n",
      "  Iteration 20 loss: 0.8599\n",
      "  Iteration 30 loss: 0.4714\n",
      "  Iteration 40 loss: 0.5576\n",
      "Epoch 16 of 30\n",
      "  Iteration 0 loss: 0.4775\n",
      "  Iteration 10 loss: 0.6367\n",
      "  Iteration 20 loss: 0.5849\n",
      "  Iteration 30 loss: 0.5478\n",
      "  Iteration 40 loss: 0.5567\n",
      "Epoch 17 of 30\n",
      "  Iteration 0 loss: 0.5001\n",
      "  Iteration 10 loss: 0.5015\n",
      "  Iteration 20 loss: 0.5603\n",
      "  Iteration 30 loss: 0.5989\n",
      "  Iteration 40 loss: 0.3915\n",
      "Epoch 18 of 30\n",
      "  Iteration 0 loss: 0.3611\n",
      "  Iteration 10 loss: 0.4185\n",
      "  Iteration 20 loss: 0.4412\n",
      "  Iteration 30 loss: 0.3737\n",
      "  Iteration 40 loss: 0.4027\n",
      "Epoch 19 of 30\n",
      "  Iteration 0 loss: 0.3307\n",
      "  Iteration 10 loss: 0.5129\n",
      "  Iteration 20 loss: 0.2740\n",
      "  Iteration 30 loss: 0.2854\n",
      "  Iteration 40 loss: 0.3545\n",
      "Epoch 20 of 30\n",
      "  Iteration 0 loss: 0.2955\n",
      "  Iteration 10 loss: 0.2931\n",
      "  Iteration 20 loss: 0.3639\n",
      "  Iteration 30 loss: 0.3663\n",
      "  Iteration 40 loss: 0.3004\n",
      "Epoch 21 of 30\n",
      "  Iteration 0 loss: 0.2989\n",
      "  Iteration 10 loss: 0.1684\n",
      "  Iteration 20 loss: 0.2213\n",
      "  Iteration 30 loss: 0.3045\n",
      "  Iteration 40 loss: 0.2634\n",
      "Epoch 22 of 30\n",
      "  Iteration 0 loss: 0.1704\n",
      "  Iteration 10 loss: 0.1927\n",
      "  Iteration 20 loss: 0.3180\n",
      "  Iteration 30 loss: 0.1474\n",
      "  Iteration 40 loss: 0.2344\n",
      "Epoch 23 of 30\n",
      "  Iteration 0 loss: 0.0976\n",
      "  Iteration 10 loss: 0.2195\n",
      "  Iteration 20 loss: 0.1685\n",
      "  Iteration 30 loss: 0.0867\n",
      "  Iteration 40 loss: 0.1973\n",
      "Epoch 24 of 30\n",
      "  Iteration 0 loss: 0.1198\n",
      "  Iteration 10 loss: 0.1547\n",
      "  Iteration 20 loss: 0.1856\n",
      "  Iteration 30 loss: 0.0940\n",
      "  Iteration 40 loss: 0.1136\n",
      "Epoch 25 of 30\n",
      "  Iteration 0 loss: 0.1028\n",
      "  Iteration 10 loss: 0.0704\n",
      "  Iteration 20 loss: 0.1253\n",
      "  Iteration 30 loss: 0.0283\n",
      "  Iteration 40 loss: 0.1065\n",
      "Epoch 26 of 30\n",
      "  Iteration 0 loss: 0.0565\n",
      "  Iteration 10 loss: 0.0875\n",
      "  Iteration 20 loss: 0.0746\n",
      "  Iteration 30 loss: 0.1218\n",
      "  Iteration 40 loss: 0.1687\n",
      "Epoch 27 of 30\n",
      "  Iteration 0 loss: 0.1006\n",
      "  Iteration 10 loss: 0.1395\n",
      "  Iteration 20 loss: 0.0910\n",
      "  Iteration 30 loss: 0.0756\n",
      "  Iteration 40 loss: 0.1262\n",
      "Epoch 28 of 30\n",
      "  Iteration 0 loss: 0.0553\n",
      "  Iteration 10 loss: 0.1223\n",
      "  Iteration 20 loss: 0.1253\n",
      "  Iteration 30 loss: 0.1051\n",
      "  Iteration 40 loss: 0.1542\n",
      "Epoch 29 of 30\n",
      "  Iteration 0 loss: 0.0963\n",
      "  Iteration 10 loss: 0.1109\n",
      "  Iteration 20 loss: 0.0625\n",
      "  Iteration 30 loss: 0.0492\n",
      "  Iteration 40 loss: 0.0658\n",
      "Training complete!\n"
     ]
    }
   ],
   "source": [
    "train(model, nr_epochs=30, optimizer=optim.Adam(model.parameters(), lr=0.001), criterion=nn.CrossEntropyLoss(), trainloader=trainloader)"
   ]
  },
  {
   "cell_type": "markdown",
   "metadata": {},
   "source": [
    "***\n",
    "### Question 7 [0.5 point]"
   ]
  },
  {
   "cell_type": "code",
   "execution_count": 10,
   "metadata": {},
   "outputs": [],
   "source": [
    "import torch\n",
    "\n",
    "def accuracy(model, testloader):\n",
    "    model.to(device)\n",
    "    model.eval()  # Set the model to evaluation mode\n",
    "\n",
    "    # Initialize per-class accuracy trackers\n",
    "    num_classes = 5\n",
    "    class_correct = torch.zeros(num_classes, dtype=torch.int32)\n",
    "    class_total = torch.zeros(num_classes, dtype=torch.int32)\n",
    "\n",
    "    with torch.no_grad():  # No need to track gradients\n",
    "        for images, labels in testloader:\n",
    "            images, labels = images.to(device), labels.to(device)\n",
    "\n",
    "            outputs = model(images)\n",
    "            _, predicted = torch.max(outputs, 1) \n",
    "\n",
    "            # Update per-class accuracy\n",
    "            for class_idx in range(num_classes):\n",
    "                mask = (labels == class_idx)  # Create a mask for this class\n",
    "                class_correct[class_idx] += (predicted[mask] == class_idx).sum().item()\n",
    "                class_total[class_idx] += mask.sum().item()\n",
    "\n",
    "    # Print per-class accuracy\n",
    "    for idx, class_name in enumerate(testloader.dataset.classes):\n",
    "        accuracy = (class_correct[idx] / class_total[idx]) * 100\n",
    "        print(f\"Accuracy for class '{class_name}': {accuracy:.2f}%\")\n"
   ]
  },
  {
   "cell_type": "code",
   "execution_count": 11,
   "metadata": {},
   "outputs": [
    {
     "name": "stdout",
     "output_type": "stream",
     "text": [
      "Accuracy for class 'berry': 74.00%\n",
      "Accuracy for class 'bird': 54.25%\n",
      "Accuracy for class 'dog': 73.00%\n",
      "Accuracy for class 'flower': 75.25%\n",
      "Accuracy for class 'other': 59.00%\n"
     ]
    }
   ],
   "source": [
    "accuracy(model, testloader)"
   ]
  },
  {
   "cell_type": "markdown",
   "metadata": {},
   "source": [
    "***\n",
    "## Part 2: Fine-tuning a pretrained model [3.5 points]"
   ]
  },
  {
   "cell_type": "markdown",
   "metadata": {},
   "source": [
    "### Question 1 [0.5 point]"
   ]
  },
  {
   "cell_type": "code",
   "execution_count": 12,
   "metadata": {},
   "outputs": [],
   "source": [
    "root_train_small = \"Linnaeus_5_32X32_small/Linnaeus 5 32X32/train\"\n",
    "root_test_small = \"Linnaeus_5_32X32_small/Linnaeus 5 32X32/test\"\n",
    "\n",
    "batch_size = 128\n",
    "\n",
    "trainset = torchvision.datasets.ImageFolder(root=root_train_small, transform=transform)\n",
    "\n",
    "trainloader = torch.utils.data.DataLoader(trainset, batch_size=batch_size, shuffle=True)\n",
    "\n",
    "testset = torchvision.datasets.ImageFolder(root=root_test_small, transform=transform)\n",
    "\n",
    "testloader = torch.utils.data.DataLoader(testset, batch_size=batch_size, shuffle=False,)\n",
    "\n",
    "classes = ('dog', 'flower')"
   ]
  },
  {
   "cell_type": "markdown",
   "metadata": {},
   "source": [
    "***\n",
    "### Question 2 [1 point]"
   ]
  },
  {
   "cell_type": "code",
   "execution_count": 13,
   "metadata": {},
   "outputs": [],
   "source": [
    "class MyMLP(nn.Module):\n",
    "    def __init__(self, input_size=64, hidden_size=128, output_size=2):\n",
    "        super(MyMLP, self).__init__()\n",
    "        \n",
    "        self.fc1 = nn.Linear(input_size, hidden_size)\n",
    "        self.fc2 = nn.Linear(hidden_size, hidden_size)\n",
    "        self.fc3 = nn.Linear(hidden_size, output_size)\n",
    "        \n",
    "    def forward(self, x):\n",
    "        x = F.relu(self.fc1(x))\n",
    "        x = F.relu(self.fc2(x))\n",
    "        # output log probabilities\n",
    "        x = F.log_softmax(self.fc3(x), dim=1)\n",
    "        return x"
   ]
  },
  {
   "cell_type": "markdown",
   "metadata": {},
   "source": [
    "2.1 The input nodes is set to 64, as this is the output size of the penultimate layer of our CNN (before classification). This is essentially the feature embedding through the pre-trained CNN, in the CNN's feature space. This contains high-level abstract features extracted by the CNN.\n",
    "\n",
    "Note I did not use the output layer of CNN, which is basically CNN's prediction probabilities for the 5 class classification problem, and is not really a feature embedding of the input image in the CNN's feature space. We lose a lot of information if we do not use the (64,), but use the output (5,) vector as the CNN feature for the image.\n",
    "\n",
    "2.2 Since we are using Negative Log Likelihood Loss for training, we need to ensure that the MLP outputs log probabilitie. We hence use log_softmax as activation，which is the standard for NLLLoss\n",
    "\n",
    "2.3"
   ]
  },
  {
   "cell_type": "code",
   "execution_count": 14,
   "metadata": {},
   "outputs": [
    {
     "name": "stdout",
     "output_type": "stream",
     "text": [
      "----------------------------------------------------------------\n",
      "        Layer (type)               Output Shape         Param #\n",
      "================================================================\n",
      "            Linear-1                  [-1, 128]           8,320\n",
      "            Linear-2                  [-1, 128]          16,512\n",
      "            Linear-3                    [-1, 2]             258\n",
      "================================================================\n",
      "Total params: 25,090\n",
      "Trainable params: 25,090\n",
      "Non-trainable params: 0\n",
      "----------------------------------------------------------------\n",
      "Input size (MB): 0.00\n",
      "Forward/backward pass size (MB): 0.00\n",
      "Params size (MB): 0.10\n",
      "Estimated Total Size (MB): 0.10\n",
      "----------------------------------------------------------------\n"
     ]
    }
   ],
   "source": [
    "mlp = MyMLP()\n",
    "mlp = mlp.to(device)\n",
    "torchsummary.summary(mlp, (64,))"
   ]
  },
  {
   "cell_type": "markdown",
   "metadata": {},
   "source": [
    "***\n",
    "### Question 3 [0.5 point]\n",
    "\n",
    "we first define a function that takes the CNN and outputs its penultimate layer (embedding)"
   ]
  },
  {
   "cell_type": "code",
   "execution_count": 15,
   "metadata": {},
   "outputs": [],
   "source": [
    "def get_embedding(myCNN, inputs):\n",
    "    '''Get the embedding from the penultimate layer of the CNN.'''\n",
    "    myCNN.eval()\n",
    "    # manual forward pass till penultimate layer\n",
    "    x = F.relu(myCNN.conv1(inputs))\n",
    "    x = myCNN.pool1(F.relu(myCNN.conv2(x)))\n",
    "\n",
    "    x = F.relu(myCNN.conv3(x))\n",
    "    x = myCNN.pool2(F.relu(myCNN.conv4(x)))\n",
    "\n",
    "    x = F.relu(myCNN.conv5(x))\n",
    "    x = myCNN.pool3(F.relu(myCNN.conv6(x)))\n",
    "\n",
    "    x = torch.flatten(x, start_dim=1)  \n",
    "    x = F.relu(myCNN.fc1(x))  \n",
    "    x = myCNN.dropout(x)  \n",
    "    cnn_outputs = F.relu(myCNN.fc2(x))\n",
    "    return cnn_outputs"
   ]
  },
  {
   "cell_type": "code",
   "execution_count": 16,
   "metadata": {},
   "outputs": [],
   "source": [
    "def fine_tune(myCNN, myMLP, nr_epochs, optimizer, criterion, trainloader):\n",
    "    myCNN.to(device) \n",
    "    myCNN.eval()  \n",
    "    myMLP.to(device)  \n",
    "    myMLP.train()\n",
    "    \n",
    "    for epoch in range(nr_epochs):\n",
    "        print(f\"Epoch {epoch}\")\n",
    "        losses = []\n",
    "\n",
    "        for i, (inputs, labels) in enumerate(trainloader):\n",
    "            inputs, labels = inputs.to(device), labels.to(device)  # Move data to device\n",
    "\n",
    "            # Extract features from CNN\n",
    "            cnn_outputs = get_embedding(myCNN, inputs)\n",
    "\n",
    "            # Train MLP on CNN features\n",
    "            optimizer.zero_grad()\n",
    "            outputs = myMLP(cnn_outputs)\n",
    "            loss = criterion(outputs, labels)  # Compute loss\n",
    "            loss.backward()  # Backpropagation\n",
    "            optimizer.step()  # Update model parameters\n",
    "\n",
    "            losses.append(loss.item())\n",
    "            if i % 10 == 0:\n",
    "                print(f\"  Iteration {i} loss: {loss.item():.4f}\")\n",
    "    \n",
    "    print(\"Fine-tuning complete.\")\n"
   ]
  },
  {
   "cell_type": "markdown",
   "metadata": {},
   "source": [
    "***\n",
    "### Question 4 [0.5 point]"
   ]
  },
  {
   "cell_type": "code",
   "execution_count": 17,
   "metadata": {},
   "outputs": [
    {
     "name": "stdout",
     "output_type": "stream",
     "text": [
      "Epoch 0\n",
      "  Iteration 0 loss: 0.7050\n",
      "  Iteration 10 loss: 0.0122\n",
      "Epoch 1\n",
      "  Iteration 0 loss: 0.0022\n",
      "  Iteration 10 loss: 0.0004\n",
      "Epoch 2\n",
      "  Iteration 0 loss: 0.0011\n",
      "  Iteration 10 loss: 0.0003\n",
      "Epoch 3\n",
      "  Iteration 0 loss: 0.0001\n",
      "  Iteration 10 loss: 0.0000\n",
      "Epoch 4\n",
      "  Iteration 0 loss: 0.0000\n",
      "  Iteration 10 loss: 0.0004\n",
      "Epoch 5\n",
      "  Iteration 0 loss: 0.0000\n",
      "  Iteration 10 loss: 0.0006\n",
      "Epoch 6\n",
      "  Iteration 0 loss: 0.0001\n",
      "  Iteration 10 loss: 0.0000\n",
      "Epoch 7\n",
      "  Iteration 0 loss: 0.0000\n",
      "  Iteration 10 loss: 0.0000\n",
      "Epoch 8\n",
      "  Iteration 0 loss: 0.0001\n",
      "  Iteration 10 loss: 0.0000\n",
      "Epoch 9\n",
      "  Iteration 0 loss: 0.0000\n",
      "  Iteration 10 loss: 0.0000\n",
      "Epoch 10\n",
      "  Iteration 0 loss: 0.0001\n",
      "  Iteration 10 loss: 0.0000\n",
      "Epoch 11\n",
      "  Iteration 0 loss: 0.0000\n",
      "  Iteration 10 loss: 0.0001\n",
      "Epoch 12\n",
      "  Iteration 0 loss: 0.0000\n",
      "  Iteration 10 loss: 0.0001\n",
      "Epoch 13\n",
      "  Iteration 0 loss: 0.0000\n",
      "  Iteration 10 loss: 0.0000\n",
      "Epoch 14\n",
      "  Iteration 0 loss: 0.0000\n",
      "  Iteration 10 loss: 0.0000\n",
      "Epoch 15\n",
      "  Iteration 0 loss: 0.0000\n",
      "  Iteration 10 loss: 0.0000\n",
      "Epoch 16\n",
      "  Iteration 0 loss: 0.0000\n",
      "  Iteration 10 loss: 0.0000\n",
      "Epoch 17\n",
      "  Iteration 0 loss: 0.0000\n",
      "  Iteration 10 loss: 0.0000\n",
      "Epoch 18\n",
      "  Iteration 0 loss: 0.0000\n",
      "  Iteration 10 loss: 0.0000\n",
      "Epoch 19\n",
      "  Iteration 0 loss: 0.0000\n",
      "  Iteration 10 loss: 0.0000\n",
      "Epoch 20\n",
      "  Iteration 0 loss: 0.0000\n",
      "  Iteration 10 loss: 0.0000\n",
      "Epoch 21\n",
      "  Iteration 0 loss: 0.0000\n",
      "  Iteration 10 loss: 0.0001\n",
      "Epoch 22\n",
      "  Iteration 0 loss: 0.0000\n",
      "  Iteration 10 loss: 0.0000\n",
      "Epoch 23\n",
      "  Iteration 0 loss: 0.0000\n",
      "  Iteration 10 loss: 0.0000\n",
      "Epoch 24\n",
      "  Iteration 0 loss: 0.0000\n",
      "  Iteration 10 loss: 0.0000\n",
      "Epoch 25\n",
      "  Iteration 0 loss: 0.0000\n",
      "  Iteration 10 loss: 0.0000\n",
      "Epoch 26\n",
      "  Iteration 0 loss: 0.0000\n",
      "  Iteration 10 loss: 0.0000\n",
      "Epoch 27\n",
      "  Iteration 0 loss: 0.0000\n",
      "  Iteration 10 loss: 0.0000\n",
      "Epoch 28\n",
      "  Iteration 0 loss: 0.0000\n",
      "  Iteration 10 loss: 0.0000\n",
      "Epoch 29\n",
      "  Iteration 0 loss: 0.0000\n",
      "  Iteration 10 loss: 0.0000\n",
      "Fine-tuning complete.\n"
     ]
    }
   ],
   "source": [
    "fine_tune(model, mlp, nr_epochs=30, \n",
    "          optimizer=optim.Adam(mlp.parameters(), lr=0.001),\n",
    "            criterion=nn.NLLLoss(), trainloader=trainloader)"
   ]
  },
  {
   "cell_type": "markdown",
   "metadata": {},
   "source": [
    "***\n",
    "### Question 5 [1 point]"
   ]
  },
  {
   "cell_type": "code",
   "execution_count": 18,
   "metadata": {},
   "outputs": [
    {
     "name": "stdout",
     "output_type": "stream",
     "text": [
      "Accuracy for class 'dog': 96.5000%\n",
      "Accuracy for class 'flower': 96.2500%\n"
     ]
    }
   ],
   "source": [
    "def accuracy_fine_tune(myCNN, myMLP, testloader_small):\n",
    "    num_classes = 2\n",
    "    class_correct = torch.zeros(num_classes, dtype=torch.int32)\n",
    "    class_total = torch.zeros(num_classes, dtype=torch.int32)\n",
    "    myCNN.to(device)\n",
    "    myMLP.to(device)\n",
    "    with torch.no_grad():\n",
    "        for images, labels in testloader_small:\n",
    "            images, labels = images.to(device), labels.to(device)\n",
    "            cnn_outputs = get_embedding(myCNN, images)\n",
    "            outputs = myMLP(cnn_outputs)\n",
    "            _, predicted = torch.max(outputs, 1)\n",
    "\n",
    "            # Update per-class accuracy\n",
    "            for class_idx in range(num_classes):\n",
    "                mask = (labels == class_idx)  # Create a mask for this class\n",
    "                class_correct[class_idx] += (predicted[mask] == class_idx).sum().item()\n",
    "                class_total[class_idx] += mask.sum().item()\n",
    "\n",
    "    # Print per-class accuracy\n",
    "    for idx, class_name in enumerate(testloader_small.dataset.classes):\n",
    "        accuracy = (class_correct[idx] / class_total[idx]) * 100\n",
    "        print(f\"Accuracy for class '{class_name}': {accuracy:.4f}%\")\n",
    "\n",
    "\n",
    "accuracy_fine_tune(model, mlp, testloader)"
   ]
  },
  {
   "cell_type": "markdown",
   "metadata": {},
   "source": [
    "We recall that CNN's accuracy:  \n",
    "Accuracy for class 'dog': 75.50%\n",
    "Accuracy for class 'flower': 76.50%\n",
    "\n",
    "So the finetuned MLP has around 20% higher accuracy for each class. This is however due to both the fact that this is a binary classification, so the model should expect higher accuracy, and the fact that it is finetuned on the smaller binary dataset"
   ]
  },
  {
   "cell_type": "markdown",
   "metadata": {},
   "source": [
    "***\n",
    "## Part 3: Adversarial attacks [4.5 points]"
   ]
  },
  {
   "cell_type": "markdown",
   "metadata": {},
   "source": [
    "***\n",
    "### Question 1 [1 point]"
   ]
  },
  {
   "cell_type": "code",
   "execution_count": 20,
   "metadata": {},
   "outputs": [],
   "source": [
    "def adversarial(myCNN, myMLP, image, label, epsilon=0.05):\n",
    "    image = image.clone().detach().requires_grad_(True).to(device)\n",
    "    nr_steps = 10\n",
    "    mu = 1.0\n",
    "    alpha = epsilon / nr_steps  # Step size\n",
    "    g = torch.zeros_like(image, device=device)  # Initialize momentum\n",
    "\n",
    "    for i in range(nr_steps):\n",
    "        if image.grad is not None:\n",
    "            image.grad.zero_()\n",
    "\n",
    "        # unsqueeze to add batch dimension\n",
    "        output = myMLP(get_embedding(myCNN, image.unsqueeze(0)))\n",
    "        loss = nn.NLLLoss()(output, label.unsqueeze(0))\n",
    "        loss.backward()\n",
    "        grad = image.grad.detach() # grad w.r.t. input image\n",
    "        grad = grad / (torch.norm(grad, p=1) + 1e-8)  # Normalize grad\n",
    "        g = mu * g + grad  # Update momentum\n",
    "        image = image + alpha * torch.sign(g)  # Apply perturbation\n",
    "\n",
    "        image = image.detach().requires_grad_(True)  # Reset requires_grad\n",
    "\n",
    "    with torch.no_grad():\n",
    "        output = myMLP(get_embedding(myCNN, image.unsqueeze(0)))\n",
    "        p = torch.exp(output) # output was log prob\n",
    "        p = p[0, label.item()].item() # model's prob of true class\n",
    "\n",
    "\n",
    "    image = image.detach().cpu()\n",
    "    return image, p\n"
   ]
  },
  {
   "cell_type": "markdown",
   "metadata": {},
   "source": [
    "***\n",
    "### Question 2 [1 point]"
   ]
  },
  {
   "cell_type": "markdown",
   "metadata": {},
   "source": [
    "$ \\epsilon$ is the maximum perturbation allowed in the adversarial attack. It defines the strength of the attack by limiting how much each pixel can be modified.\n",
    "\n",
    "If \n",
    "$ \\epsilon$ is small, the perturbation is subtle and harder to detect.\n",
    "Otherwise, the perturbation is stronger but might make the attack more noticeable.\n",
    "The constraint $ || x^* - x||_{\\infty} \\leq \\epsilon $ ensures that the adversarial image stays within a small neighborhood around the original image.\n",
    "\n",
    "The MI-FGSM Algorithm is very similar to gradient descent with momentum: both use scaled past gradients to stabilize updates. \n",
    "\n",
    "Gradient Descent with Momentum:\n",
    "$$\n",
    "v_{t+1} = \\mu v_t - \\eta \\nabla J(\\theta_t)\n",
    "$$\n",
    "\n",
    "$$\n",
    "\\theta_{t+1} = \\theta_t + v_{t+1}\n",
    "$$\n",
    "\n",
    "MI-FGSM Algorithm:\n",
    "$$\n",
    "g_{t+1} = \\mu g_t + \\frac{\\nabla_x J(x_t^*, y)}{\\|\\nabla_x J(x_t^*, y)\\|_1}\n",
    "$$\n",
    "\n",
    "$$\n",
    "x_{t+1}^* = x_t^* + \\alpha \\cdot \\text{sign}(g_{t+1})\n",
    "$$\n",
    "\n",
    "We can see that in MI-FGSM Algorithm, $\\eta$ is chosen to be the inverse of $L1$ norm, \n",
    "and uses the sign of the velocity for updates. \n",
    "Additionally, adding past gradients scaled by $\\mu$, or using an exponentially decay accumulation of past gradients, are to stabilize the attack and avoid rapid changes. $\\mu$ controls how much we want to stabilize, with larger $\\mu$ preventing large changes and vice versa"
   ]
  },
  {
   "cell_type": "markdown",
   "metadata": {},
   "source": [
    "***\n",
    "### Question 3 [0.5 point]"
   ]
  },
  {
   "cell_type": "code",
   "execution_count": 21,
   "metadata": {},
   "outputs": [],
   "source": [
    "def show_images(original, adversarial, prob):\n",
    "    \"\"\"Display original and adversarial images side by side.\"\"\"\n",
    "    fig, axes = plt.subplots(1, 2, figsize=(6, 3))  \n",
    "\n",
    "    # Convert tensors to NumPy arrays\n",
    "    original_np = original.cpu().numpy().transpose((1, 2, 0))\n",
    "    adversarial_np = adversarial.cpu().numpy().transpose((1, 2, 0))\n",
    "\n",
    "    # Plot original image\n",
    "    axes[0].imshow(denormalize(original_np))\n",
    "    axes[0].set_title(\"Original\")\n",
    "    axes[0].axis(\"off\")\n",
    "\n",
    "    # Plot adversarial image\n",
    "    axes[1].imshow(denormalize(adversarial_np))\n",
    "    axes[1].set_title(f\"Adversarial\\nProb={prob:.4f}\")\n",
    "    axes[1].axis(\"off\")\n",
    "\n",
    "    plt.tight_layout()\n",
    "    plt.show()\n"
   ]
  },
  {
   "cell_type": "code",
   "execution_count": 22,
   "metadata": {},
   "outputs": [
    {
     "name": "stdout",
     "output_type": "stream",
     "text": [
      "Searching for a dog image...\n",
      "found a dog image which MLP is correct\n",
      "Probability of true label after attack = 0.0000\n",
      "Plotting results:\n"
     ]
    },
    {
     "data": {
      "image/png": "[encoded data removed]",
      "text/plain": [
       "<Figure size 600x300 with 2 Axes>"
      ]
     },
     "metadata": {},
     "output_type": "display_data"
    }
   ],
   "source": [
    "# fig, axes = plt.subplots(1, len(classes), figsize=(5, 5))\n",
    "for images, labels in testloader:\n",
    "    print(\"Searching for a dog image...\")\n",
    "    for i in range(len(images)):\n",
    "        label = labels[i].item()\n",
    "        if testset.classes[label] == \"dog\":\n",
    "            # check if mlp is correct\n",
    "            img = images[i].to(device)\n",
    "            lab = labels[i].to(device) # move label to device\n",
    "            if (mlp(get_embedding(model, img\n",
    "                                  .unsqueeze(0))).argmax().item()) == label:\n",
    "                print(\"found a dog image which MLP is correct\")\n",
    "\n",
    "                image_adv, p = adversarial(model, mlp, img, lab)\n",
    "                print(f\"Probability of true label after attack = {p:.4f}\")\n",
    "                \n",
    "                if p < 0.5:\n",
    "                    print(\"Plotting results:\")\n",
    "                    show_images(img, image_adv, p)\n",
    "                    break\n",
    "    break\n"
   ]
  },
  {
   "cell_type": "markdown",
   "metadata": {},
   "source": [
    "***\n",
    "### Question 4 [0.5 point]"
   ]
  },
  {
   "cell_type": "code",
   "execution_count": 23,
   "metadata": {},
   "outputs": [],
   "source": [
    "def accuracy_adversarial(myCNN, myMLP, testloader_small, epsilon=0.05):\n",
    "    myCNN.eval()\n",
    "    myMLP.eval()\n",
    "    \n",
    "    total_correct  = 0\n",
    "    total_attacked = 0\n",
    "\n",
    "    for images, labels in testloader_small:\n",
    "        images, labels = images.to(device), labels.to(device)\n",
    "        for i in range(len(images)):\n",
    "            img, lab = images[i], labels[i]\n",
    "            if (mlp(get_embedding(model, img.unsqueeze(0))).argmax().item()) == label:\n",
    "                total_correct += 1 # mlp was correct \n",
    "                image_adv, p = adversarial(model, mlp, img, lab, epsilon=epsilon)\n",
    "                if p < 0.5:\n",
    "                    total_attacked += 1 # attack was successful\n",
    "    if total_correct == 0:\n",
    "        return 0.0\n",
    "    return total_attacked / total_correct\n"
   ]
  },
  {
   "cell_type": "code",
   "execution_count": 24,
   "metadata": {},
   "outputs": [
    {
     "name": "stdout",
     "output_type": "stream",
     "text": [
      "Attack rate at epsilon=0.05: 0.9352\n"
     ]
    }
   ],
   "source": [
    "attack_rate = accuracy_adversarial(model, mlp, testloader, epsilon=0.05)\n",
    "print(f\"Attack rate at epsilon=0.05: {attack_rate:.4f}\")"
   ]
  },
  {
   "cell_type": "markdown",
   "metadata": {},
   "source": [
    "***\n",
    "### Question 5 [1 point]"
   ]
  },
  {
   "cell_type": "code",
   "execution_count": 25,
   "metadata": {},
   "outputs": [
    {
     "name": "stdout",
     "output_type": "stream",
     "text": [
      "Epsilon: 0.02, Attack success rate: 39.6509%\n",
      "Epsilon: 0.04, Attack success rate: 83.2918%\n",
      "Epsilon: 0.06, Attack success rate: 97.5062%\n",
      "Epsilon: 0.08, Attack success rate: 98.7531%\n",
      "Epsilon: 0.1, Attack success rate: 98.7531%\n"
     ]
    },
    {
     "data": {
      "image/png": "[encoded data removed]",
      "text/plain": [
       "<Figure size 640x480 with 1 Axes>"
      ]
     },
     "metadata": {},
     "output_type": "display_data"
    }
   ],
   "source": [
    "epsilons = [0.02, 0.04, 0.06, 0.08, 0.1]\n",
    "attack_rates = []\n",
    "\n",
    "for eps in epsilons:\n",
    "    ar = accuracy_adversarial(model, mlp, testloader, epsilon=eps)\n",
    "    attack_rates.append(ar)\n",
    "    print(f\"Epsilon: {eps}, Attack success rate: {ar:.4%}\")\n",
    "\n",
    "plt.plot(epsilons, attack_rates, marker='o')\n",
    "plt.xlabel(\"Epsilon\")\n",
    "plt.ylabel(\"Attack Success Rate\")\n",
    "plt.title(\"Adversarial Attack Success Rate vs. Epsilon\")\n",
    "plt.show()"
   ]
  },
  {
   "cell_type": "markdown",
   "metadata": {},
   "source": [
    "From the plot, we notice that attack success rate is non-decreasing w.r.t. $\\epsilon$, from the low of 0.4 at $\\epsilon = 0.02$, reaching as high as around 0.93 with $\\epsilon$ = 0.06. Further increasing eps does not yield very visible increase in attack rate.\n",
    "\n",
    "In general, within the range [0, 0.1], larger $ \\epsilon $ allows for stronger perturbations, hence confusing the classifier. Further increasing does not lead to improvement."
   ]
  },
  {
   "cell_type": "markdown",
   "metadata": {},
   "source": [
    "***\n",
    "### Question 6 [0.5 point]"
   ]
  },
  {
   "cell_type": "markdown",
   "metadata": {},
   "source": [
    "Adversarial attacks are a big challenge when deploying machine learning in security-critical fields. A few real-world examples include:\n",
    "\n",
    "- Facial Recognition & Authentication: Attackers can subtly modify an image to fool face recognition or fingerprint scanners, especially when people are using face ID to make payments (like alipay in China). Attackers may use adversarial attacks to fool the clasifier and make false payments.\n",
    "\n",
    "- Self-Driving Cars: An autonomous vehicle may misread road situations when there is small distortion, leading to dangerous decisions.\n",
    "\n",
    "Other examples include the use of AI experts in hospitals, clinical research etc, and in finance, where criminals may want to fool the fraud detection models. \n",
    "\n",
    "How Can We Defend Against These Attacks?  \n",
    "We want to teach the model to recognize adversarial examples by including them in training, helping it learn more robust patterns. We can also use ensemble Models: Use multiple models instead of just one—this makes it harder for attackers to fool the system since different models won’t be tricked in the same way. The idea of ensemble models, eg. random forests, is to use independent models trained on different subset of features and different subsets of data.\n",
    "\n",
    "Ideally your models independently understand different aspects of data, so that the ensemble is less prone to overfitting and generalizes better. When you have an attack rate of $p$, this scales down to $O(p^n)$ with $n$ being the number of models in your ensemble"
   ]
  },
  {
   "cell_type": "markdown",
   "metadata": {},
   "source": []
  }
 ],
 "metadata": {
  "kernelspec": {
   "display_name": "ml_venv",
   "language": "python",
   "name": "python3"
  },
  "language_info": {
   "codemirror_mode": {
    "name": "ipython",
    "version": 3
   },
   "file_extension": ".py",
   "mimetype": "text/x-python",
   "name": "python",
   "nbconvert_exporter": "python",
   "pygments_lexer": "ipython3",
   "version": "3.9.19"
  }
 },
 "nbformat": 4,
 "nbformat_minor": 2
}
